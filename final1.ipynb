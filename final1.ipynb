{
 "cells": [
  {
   "cell_type": "markdown",
   "metadata": {},
   "source": [
    "# **Algorithmic Methods for Data Mining: Homework 4**\n",
    "\n",
    "**Author:** Roberto Magno Mazzotta , Gabriel Pinos , Ata Berk Firat  <br>\n",
    "*MSc. in Data Science, Sapienza University of Rome*\n",
    "\n"
   ]
  },
  {
   "cell_type": "markdown",
   "metadata": {},
   "source": [
    "# <h1> Movie Recommendation System <img src=\"https://www.pngall.com/wp-content/uploads/13/Movie-Hollywood-No-Background.png\" width=200 style=\"vertical-align: middle\"> </h1> \n",
    "\n",
    "## **Introduction**\n",
    "Our team has been tasked with designing a state of the art recommendation system that leverages advanced data analysis techniques to enhance user engagement. <br> The project focuses on two critical areas: hashing techniques to optimize data retrieval speed and clustering algorithms to group users based on shared movie preferences. \n",
    "<br>By combining these approaches, we aim to deliver faster, more accurate, and highly personalized movie recommendations that align with individual tastes and behaviors. <br>Tis project not only addresses the technical challenges of scalability and precision in recommendation systems but also paves the way for deeper insights into user behavior, enabling a more immersive and satisfying entertainment experience."
   ]
  },
  {
   "cell_type": "markdown",
   "metadata": {},
   "source": [
    "\n",
    "## **0. Uploading the Classes and Modules** <h3>  <img src=\"https://preview.redd.it/snoovatar/avatars/nftv2_bmZ0X2VpcDE1NToxMzdfZWI5NTlhNzE1ZGZmZmU2ZjgyZjQ2MDU1MzM5ODJjNDg1OWNiMTRmZV8yMTQ1NzYzNg_rare_46f1cdb1-634f-4c1d-8344-2be06c7880d4-headshot.png?width=256&height=256&crop=smart&auto=webp&s=400ead9440c7a9f06ca4c44953f24c5b765c4aac\" width=150 style=\"vertical-align: middle\"> </h3>\n",
    "\n",
    "Before doing any kind of analysis it is necessary to upload both the relevant Classes and Modules we will use to work."
   ]
  },
  {
   "cell_type": "code",
   "execution_count": 57,
   "metadata": {},
   "outputs": [],
   "source": [
    "import pandas as pd\n",
    "import numpy as np\n",
    "import matplotlib.pyplot as plt\n",
    "import seaborn as sns\n",
    "\n",
    "# Paths to datasets\n",
    "path = \"/Users/roberto/Desktop/HM4-ADM/datasets\"\n",
    "tag_df = pd.read_csv(f\"{path}/tag.csv\")\n",
    "rating_df = pd.read_csv(f\"{path}/rating.csv\")\n",
    "movie_df = pd.read_csv(f\"{path}/movie.csv\")\n",
    "link_df = pd.read_csv(f\"{path}/link.csv\")\n",
    "genome_scores_df = pd.read_csv(f\"{path}/genome_scores.csv\")\n",
    "genome_tags_df = pd.read_csv(f\"{path}/genome_tags.csv\")"
   ]
  },
  {
   "cell_type": "markdown",
   "metadata": {},
   "source": [
    "# Ata's path"
   ]
  },
  {
   "cell_type": "code",
   "execution_count": 20,
   "metadata": {},
   "outputs": [],
   "source": [
    "# !pip install pandas numpy tqdm seaborn\n",
    "import pandas as pd\n",
    "import numpy as np \n",
    "from tqdm import tqdm\n",
    "import matplotlib.pyplot as plt\n",
    "import seaborn as sns"
   ]
  },
  {
   "cell_type": "markdown",
   "metadata": {},
   "source": [
    "\n",
    "\n",
    "## **1. Recommendation System with LSH**\n",
    "\n",
    "In this homework, we were asked to implement our version of the [LSH algorithm](https://www.learndatasci.com/tutorials/building-recommendation-engine-locality-sensitive-hashing-lsh-python/), which will take as input a user's preferred genre of movies, find the most similar users to this user, and recommend the most watched movies by those who are more similar to the user.\n",
    "\n",
    "### **1.1. The Dataset**\n",
    "\n",
    "We were provided with a [dataset](https://www.kaggle.com/datasets/grouplens/movielens-20m-dataset?select=rating.csv) that describe ratings and free-text tagging activities from MovieLens, a movie recommendation service. \n",
    "\n",
    "It contains 20000263 ratings and 465564 tag applications across 27278 movies. These data were created by 138493 users between January 09, 1995 and March 31, 2015. This dataset was generated on October 17, 2016."
   ]
  },
  {
   "cell_type": "markdown",
   "metadata": {},
   "source": [
    "\n",
    "The data are contained in six files.\n",
    "\n",
    "\n",
    "- **tag.csv**: contains tags applied to movies by users:\n",
    "    >- userId\n",
    "    >- movieId\n",
    "    >- tag\n",
    "    >- timestamp\n",
    "\n",
    "- **rating.csv**: contains ratings of movies by users:\n",
    "    >- userId\n",
    "    >- movieId\n",
    "    >- rating\n",
    "    >- timestamp\n",
    "\n",
    "- **movie.csv**: contains movie information:\n",
    "    >- movieId\n",
    "    >- title\n",
    "    >- genres\n",
    "\n",
    "- **link.csv**: contains identifiers that can be used to link to other sources:\n",
    "    >- movieId\n",
    "    >- imdbId\n",
    "    >- tmbdId\n",
    "\n",
    "- **genome_scores.csv**: contains movie-tag relevance data:\n",
    "    >- movieId\n",
    "    >- tagId\n",
    "    >- relevance\n",
    "- **genome_tags.csv**: contains tag descriptions:\n",
    "    >- tagId\n",
    "    >- tag\n",
    "\n"
   ]
  },
  {
   "cell_type": "code",
   "execution_count": 21,
   "metadata": {},
   "outputs": [
    {
     "data": {
      "text/plain": [
       "'Tags Dataset:\\n'"
      ]
     },
     "metadata": {},
     "output_type": "display_data"
    },
    {
     "data": {
      "text/html": [
       "<div>\n",
       "<style scoped>\n",
       "    .dataframe tbody tr th:only-of-type {\n",
       "        vertical-align: middle;\n",
       "    }\n",
       "\n",
       "    .dataframe tbody tr th {\n",
       "        vertical-align: top;\n",
       "    }\n",
       "\n",
       "    .dataframe thead th {\n",
       "        text-align: right;\n",
       "    }\n",
       "</style>\n",
       "<table border=\"1\" class=\"dataframe\">\n",
       "  <thead>\n",
       "    <tr style=\"text-align: right;\">\n",
       "      <th></th>\n",
       "      <th>userId</th>\n",
       "      <th>movieId</th>\n",
       "      <th>tag</th>\n",
       "      <th>timestamp</th>\n",
       "    </tr>\n",
       "  </thead>\n",
       "  <tbody>\n",
       "    <tr>\n",
       "      <th>0</th>\n",
       "      <td>18</td>\n",
       "      <td>4141</td>\n",
       "      <td>Mark Waters</td>\n",
       "      <td>2009-04-24 18:19:40</td>\n",
       "    </tr>\n",
       "    <tr>\n",
       "      <th>1</th>\n",
       "      <td>65</td>\n",
       "      <td>208</td>\n",
       "      <td>dark hero</td>\n",
       "      <td>2013-05-10 01:41:18</td>\n",
       "    </tr>\n",
       "    <tr>\n",
       "      <th>2</th>\n",
       "      <td>65</td>\n",
       "      <td>353</td>\n",
       "      <td>dark hero</td>\n",
       "      <td>2013-05-10 01:41:19</td>\n",
       "    </tr>\n",
       "    <tr>\n",
       "      <th>3</th>\n",
       "      <td>65</td>\n",
       "      <td>521</td>\n",
       "      <td>noir thriller</td>\n",
       "      <td>2013-05-10 01:39:43</td>\n",
       "    </tr>\n",
       "    <tr>\n",
       "      <th>4</th>\n",
       "      <td>65</td>\n",
       "      <td>592</td>\n",
       "      <td>dark hero</td>\n",
       "      <td>2013-05-10 01:41:18</td>\n",
       "    </tr>\n",
       "  </tbody>\n",
       "</table>\n",
       "</div>"
      ],
      "text/plain": [
       "   userId  movieId            tag            timestamp\n",
       "0      18     4141    Mark Waters  2009-04-24 18:19:40\n",
       "1      65      208      dark hero  2013-05-10 01:41:18\n",
       "2      65      353      dark hero  2013-05-10 01:41:19\n",
       "3      65      521  noir thriller  2013-05-10 01:39:43\n",
       "4      65      592      dark hero  2013-05-10 01:41:18"
      ]
     },
     "metadata": {},
     "output_type": "display_data"
    },
    {
     "data": {
      "text/plain": [
       "'Ratings Dataset:\\n'"
      ]
     },
     "metadata": {},
     "output_type": "display_data"
    },
    {
     "data": {
      "text/html": [
       "<div>\n",
       "<style scoped>\n",
       "    .dataframe tbody tr th:only-of-type {\n",
       "        vertical-align: middle;\n",
       "    }\n",
       "\n",
       "    .dataframe tbody tr th {\n",
       "        vertical-align: top;\n",
       "    }\n",
       "\n",
       "    .dataframe thead th {\n",
       "        text-align: right;\n",
       "    }\n",
       "</style>\n",
       "<table border=\"1\" class=\"dataframe\">\n",
       "  <thead>\n",
       "    <tr style=\"text-align: right;\">\n",
       "      <th></th>\n",
       "      <th>userId</th>\n",
       "      <th>movieId</th>\n",
       "      <th>rating</th>\n",
       "      <th>timestamp</th>\n",
       "    </tr>\n",
       "  </thead>\n",
       "  <tbody>\n",
       "    <tr>\n",
       "      <th>0</th>\n",
       "      <td>1</td>\n",
       "      <td>2</td>\n",
       "      <td>3.5</td>\n",
       "      <td>2005-04-02 23:53:47</td>\n",
       "    </tr>\n",
       "    <tr>\n",
       "      <th>1</th>\n",
       "      <td>1</td>\n",
       "      <td>29</td>\n",
       "      <td>3.5</td>\n",
       "      <td>2005-04-02 23:31:16</td>\n",
       "    </tr>\n",
       "    <tr>\n",
       "      <th>2</th>\n",
       "      <td>1</td>\n",
       "      <td>32</td>\n",
       "      <td>3.5</td>\n",
       "      <td>2005-04-02 23:33:39</td>\n",
       "    </tr>\n",
       "    <tr>\n",
       "      <th>3</th>\n",
       "      <td>1</td>\n",
       "      <td>47</td>\n",
       "      <td>3.5</td>\n",
       "      <td>2005-04-02 23:32:07</td>\n",
       "    </tr>\n",
       "    <tr>\n",
       "      <th>4</th>\n",
       "      <td>1</td>\n",
       "      <td>50</td>\n",
       "      <td>3.5</td>\n",
       "      <td>2005-04-02 23:29:40</td>\n",
       "    </tr>\n",
       "  </tbody>\n",
       "</table>\n",
       "</div>"
      ],
      "text/plain": [
       "   userId  movieId  rating            timestamp\n",
       "0       1        2     3.5  2005-04-02 23:53:47\n",
       "1       1       29     3.5  2005-04-02 23:31:16\n",
       "2       1       32     3.5  2005-04-02 23:33:39\n",
       "3       1       47     3.5  2005-04-02 23:32:07\n",
       "4       1       50     3.5  2005-04-02 23:29:40"
      ]
     },
     "metadata": {},
     "output_type": "display_data"
    },
    {
     "data": {
      "text/plain": [
       "'Movies Dataset:\\n'"
      ]
     },
     "metadata": {},
     "output_type": "display_data"
    },
    {
     "data": {
      "text/html": [
       "<div>\n",
       "<style scoped>\n",
       "    .dataframe tbody tr th:only-of-type {\n",
       "        vertical-align: middle;\n",
       "    }\n",
       "\n",
       "    .dataframe tbody tr th {\n",
       "        vertical-align: top;\n",
       "    }\n",
       "\n",
       "    .dataframe thead th {\n",
       "        text-align: right;\n",
       "    }\n",
       "</style>\n",
       "<table border=\"1\" class=\"dataframe\">\n",
       "  <thead>\n",
       "    <tr style=\"text-align: right;\">\n",
       "      <th></th>\n",
       "      <th>movieId</th>\n",
       "      <th>title</th>\n",
       "      <th>genres</th>\n",
       "    </tr>\n",
       "  </thead>\n",
       "  <tbody>\n",
       "    <tr>\n",
       "      <th>0</th>\n",
       "      <td>1</td>\n",
       "      <td>Toy Story (1995)</td>\n",
       "      <td>Adventure|Animation|Children|Comedy|Fantasy</td>\n",
       "    </tr>\n",
       "    <tr>\n",
       "      <th>1</th>\n",
       "      <td>2</td>\n",
       "      <td>Jumanji (1995)</td>\n",
       "      <td>Adventure|Children|Fantasy</td>\n",
       "    </tr>\n",
       "    <tr>\n",
       "      <th>2</th>\n",
       "      <td>3</td>\n",
       "      <td>Grumpier Old Men (1995)</td>\n",
       "      <td>Comedy|Romance</td>\n",
       "    </tr>\n",
       "    <tr>\n",
       "      <th>3</th>\n",
       "      <td>4</td>\n",
       "      <td>Waiting to Exhale (1995)</td>\n",
       "      <td>Comedy|Drama|Romance</td>\n",
       "    </tr>\n",
       "    <tr>\n",
       "      <th>4</th>\n",
       "      <td>5</td>\n",
       "      <td>Father of the Bride Part II (1995)</td>\n",
       "      <td>Comedy</td>\n",
       "    </tr>\n",
       "  </tbody>\n",
       "</table>\n",
       "</div>"
      ],
      "text/plain": [
       "   movieId                               title  \\\n",
       "0        1                    Toy Story (1995)   \n",
       "1        2                      Jumanji (1995)   \n",
       "2        3             Grumpier Old Men (1995)   \n",
       "3        4            Waiting to Exhale (1995)   \n",
       "4        5  Father of the Bride Part II (1995)   \n",
       "\n",
       "                                        genres  \n",
       "0  Adventure|Animation|Children|Comedy|Fantasy  \n",
       "1                   Adventure|Children|Fantasy  \n",
       "2                               Comedy|Romance  \n",
       "3                         Comedy|Drama|Romance  \n",
       "4                                       Comedy  "
      ]
     },
     "metadata": {},
     "output_type": "display_data"
    },
    {
     "data": {
      "text/plain": [
       "'Links Dataset:\\n'"
      ]
     },
     "metadata": {},
     "output_type": "display_data"
    },
    {
     "data": {
      "text/html": [
       "<div>\n",
       "<style scoped>\n",
       "    .dataframe tbody tr th:only-of-type {\n",
       "        vertical-align: middle;\n",
       "    }\n",
       "\n",
       "    .dataframe tbody tr th {\n",
       "        vertical-align: top;\n",
       "    }\n",
       "\n",
       "    .dataframe thead th {\n",
       "        text-align: right;\n",
       "    }\n",
       "</style>\n",
       "<table border=\"1\" class=\"dataframe\">\n",
       "  <thead>\n",
       "    <tr style=\"text-align: right;\">\n",
       "      <th></th>\n",
       "      <th>movieId</th>\n",
       "      <th>imdbId</th>\n",
       "      <th>tmdbId</th>\n",
       "    </tr>\n",
       "  </thead>\n",
       "  <tbody>\n",
       "    <tr>\n",
       "      <th>0</th>\n",
       "      <td>1</td>\n",
       "      <td>114709</td>\n",
       "      <td>862.0</td>\n",
       "    </tr>\n",
       "    <tr>\n",
       "      <th>1</th>\n",
       "      <td>2</td>\n",
       "      <td>113497</td>\n",
       "      <td>8844.0</td>\n",
       "    </tr>\n",
       "    <tr>\n",
       "      <th>2</th>\n",
       "      <td>3</td>\n",
       "      <td>113228</td>\n",
       "      <td>15602.0</td>\n",
       "    </tr>\n",
       "    <tr>\n",
       "      <th>3</th>\n",
       "      <td>4</td>\n",
       "      <td>114885</td>\n",
       "      <td>31357.0</td>\n",
       "    </tr>\n",
       "    <tr>\n",
       "      <th>4</th>\n",
       "      <td>5</td>\n",
       "      <td>113041</td>\n",
       "      <td>11862.0</td>\n",
       "    </tr>\n",
       "  </tbody>\n",
       "</table>\n",
       "</div>"
      ],
      "text/plain": [
       "   movieId  imdbId   tmdbId\n",
       "0        1  114709    862.0\n",
       "1        2  113497   8844.0\n",
       "2        3  113228  15602.0\n",
       "3        4  114885  31357.0\n",
       "4        5  113041  11862.0"
      ]
     },
     "metadata": {},
     "output_type": "display_data"
    },
    {
     "data": {
      "text/plain": [
       "'Genome Scores Dataset:\\n'"
      ]
     },
     "metadata": {},
     "output_type": "display_data"
    },
    {
     "data": {
      "text/html": [
       "<div>\n",
       "<style scoped>\n",
       "    .dataframe tbody tr th:only-of-type {\n",
       "        vertical-align: middle;\n",
       "    }\n",
       "\n",
       "    .dataframe tbody tr th {\n",
       "        vertical-align: top;\n",
       "    }\n",
       "\n",
       "    .dataframe thead th {\n",
       "        text-align: right;\n",
       "    }\n",
       "</style>\n",
       "<table border=\"1\" class=\"dataframe\">\n",
       "  <thead>\n",
       "    <tr style=\"text-align: right;\">\n",
       "      <th></th>\n",
       "      <th>movieId</th>\n",
       "      <th>tagId</th>\n",
       "      <th>relevance</th>\n",
       "    </tr>\n",
       "  </thead>\n",
       "  <tbody>\n",
       "    <tr>\n",
       "      <th>0</th>\n",
       "      <td>1</td>\n",
       "      <td>1</td>\n",
       "      <td>0.02500</td>\n",
       "    </tr>\n",
       "    <tr>\n",
       "      <th>1</th>\n",
       "      <td>1</td>\n",
       "      <td>2</td>\n",
       "      <td>0.02500</td>\n",
       "    </tr>\n",
       "    <tr>\n",
       "      <th>2</th>\n",
       "      <td>1</td>\n",
       "      <td>3</td>\n",
       "      <td>0.05775</td>\n",
       "    </tr>\n",
       "    <tr>\n",
       "      <th>3</th>\n",
       "      <td>1</td>\n",
       "      <td>4</td>\n",
       "      <td>0.09675</td>\n",
       "    </tr>\n",
       "    <tr>\n",
       "      <th>4</th>\n",
       "      <td>1</td>\n",
       "      <td>5</td>\n",
       "      <td>0.14675</td>\n",
       "    </tr>\n",
       "  </tbody>\n",
       "</table>\n",
       "</div>"
      ],
      "text/plain": [
       "   movieId  tagId  relevance\n",
       "0        1      1    0.02500\n",
       "1        1      2    0.02500\n",
       "2        1      3    0.05775\n",
       "3        1      4    0.09675\n",
       "4        1      5    0.14675"
      ]
     },
     "metadata": {},
     "output_type": "display_data"
    },
    {
     "data": {
      "text/plain": [
       "'Genome Tags Dataset:\\n'"
      ]
     },
     "metadata": {},
     "output_type": "display_data"
    },
    {
     "data": {
      "text/html": [
       "<div>\n",
       "<style scoped>\n",
       "    .dataframe tbody tr th:only-of-type {\n",
       "        vertical-align: middle;\n",
       "    }\n",
       "\n",
       "    .dataframe tbody tr th {\n",
       "        vertical-align: top;\n",
       "    }\n",
       "\n",
       "    .dataframe thead th {\n",
       "        text-align: right;\n",
       "    }\n",
       "</style>\n",
       "<table border=\"1\" class=\"dataframe\">\n",
       "  <thead>\n",
       "    <tr style=\"text-align: right;\">\n",
       "      <th></th>\n",
       "      <th>tagId</th>\n",
       "      <th>tag</th>\n",
       "    </tr>\n",
       "  </thead>\n",
       "  <tbody>\n",
       "    <tr>\n",
       "      <th>0</th>\n",
       "      <td>1</td>\n",
       "      <td>007</td>\n",
       "    </tr>\n",
       "    <tr>\n",
       "      <th>1</th>\n",
       "      <td>2</td>\n",
       "      <td>007 (series)</td>\n",
       "    </tr>\n",
       "    <tr>\n",
       "      <th>2</th>\n",
       "      <td>3</td>\n",
       "      <td>18th century</td>\n",
       "    </tr>\n",
       "    <tr>\n",
       "      <th>3</th>\n",
       "      <td>4</td>\n",
       "      <td>1920s</td>\n",
       "    </tr>\n",
       "    <tr>\n",
       "      <th>4</th>\n",
       "      <td>5</td>\n",
       "      <td>1930s</td>\n",
       "    </tr>\n",
       "  </tbody>\n",
       "</table>\n",
       "</div>"
      ],
      "text/plain": [
       "   tagId           tag\n",
       "0      1           007\n",
       "1      2  007 (series)\n",
       "2      3  18th century\n",
       "3      4         1920s\n",
       "4      5         1930s"
      ]
     },
     "metadata": {},
     "output_type": "display_data"
    }
   ],
   "source": [
    "# Inspect datasets\n",
    "display(\"Tags Dataset:\\n\", tag_df.head())\n",
    "display(\"Ratings Dataset:\\n\", rating_df.head())\n",
    "display(\"Movies Dataset:\\n\", movie_df.head())\n",
    "display(\"Links Dataset:\\n\", link_df.head())\n",
    "display(\"Genome Scores Dataset:\\n\", genome_scores_df.head())\n",
    "display(\"Genome Tags Dataset:\\n\", genome_tags_df.head())"
   ]
  },
  {
   "cell_type": "markdown",
   "metadata": {},
   "source": [
    "# Focus on rating.csv ::\n"
   ]
  },
  {
   "cell_type": "code",
   "execution_count": 22,
   "metadata": {},
   "outputs": [
    {
     "data": {
      "text/html": [
       "<div>\n",
       "<style scoped>\n",
       "    .dataframe tbody tr th:only-of-type {\n",
       "        vertical-align: middle;\n",
       "    }\n",
       "\n",
       "    .dataframe tbody tr th {\n",
       "        vertical-align: top;\n",
       "    }\n",
       "\n",
       "    .dataframe thead th {\n",
       "        text-align: right;\n",
       "    }\n",
       "</style>\n",
       "<table border=\"1\" class=\"dataframe\">\n",
       "  <thead>\n",
       "    <tr style=\"text-align: right;\">\n",
       "      <th></th>\n",
       "      <th>userId</th>\n",
       "      <th>movieId</th>\n",
       "      <th>rating</th>\n",
       "      <th>timestamp</th>\n",
       "    </tr>\n",
       "  </thead>\n",
       "  <tbody>\n",
       "    <tr>\n",
       "      <th>0</th>\n",
       "      <td>1</td>\n",
       "      <td>2</td>\n",
       "      <td>3.5</td>\n",
       "      <td>2005-04-02 23:53:47</td>\n",
       "    </tr>\n",
       "    <tr>\n",
       "      <th>1</th>\n",
       "      <td>1</td>\n",
       "      <td>29</td>\n",
       "      <td>3.5</td>\n",
       "      <td>2005-04-02 23:31:16</td>\n",
       "    </tr>\n",
       "    <tr>\n",
       "      <th>2</th>\n",
       "      <td>1</td>\n",
       "      <td>32</td>\n",
       "      <td>3.5</td>\n",
       "      <td>2005-04-02 23:33:39</td>\n",
       "    </tr>\n",
       "    <tr>\n",
       "      <th>3</th>\n",
       "      <td>1</td>\n",
       "      <td>47</td>\n",
       "      <td>3.5</td>\n",
       "      <td>2005-04-02 23:32:07</td>\n",
       "    </tr>\n",
       "    <tr>\n",
       "      <th>4</th>\n",
       "      <td>1</td>\n",
       "      <td>50</td>\n",
       "      <td>3.5</td>\n",
       "      <td>2005-04-02 23:29:40</td>\n",
       "    </tr>\n",
       "  </tbody>\n",
       "</table>\n",
       "</div>"
      ],
      "text/plain": [
       "   userId  movieId  rating            timestamp\n",
       "0       1        2     3.5  2005-04-02 23:53:47\n",
       "1       1       29     3.5  2005-04-02 23:31:16\n",
       "2       1       32     3.5  2005-04-02 23:33:39\n",
       "3       1       47     3.5  2005-04-02 23:32:07\n",
       "4       1       50     3.5  2005-04-02 23:29:40"
      ]
     },
     "metadata": {},
     "output_type": "display_data"
    }
   ],
   "source": [
    "display(rating_df.head())"
   ]
  },
  {
   "cell_type": "code",
   "execution_count": 23,
   "metadata": {},
   "outputs": [
    {
     "name": "stdout",
     "output_type": "stream",
     "text": [
      "<class 'pandas.core.frame.DataFrame'>\n",
      "RangeIndex: 20000263 entries, 0 to 20000262\n",
      "Data columns (total 4 columns):\n",
      " #   Column     Dtype  \n",
      "---  ------     -----  \n",
      " 0   userId     int64  \n",
      " 1   movieId    int64  \n",
      " 2   rating     float64\n",
      " 3   timestamp  object \n",
      "dtypes: float64(1), int64(2), object(1)\n",
      "memory usage: 610.4+ MB\n"
     ]
    },
    {
     "data": {
      "text/plain": [
       "(<bound method DataFrame.info of           userId  movieId  rating            timestamp\n",
       " 0              1        2     3.5  2005-04-02 23:53:47\n",
       " 1              1       29     3.5  2005-04-02 23:31:16\n",
       " 2              1       32     3.5  2005-04-02 23:33:39\n",
       " 3              1       47     3.5  2005-04-02 23:32:07\n",
       " 4              1       50     3.5  2005-04-02 23:29:40\n",
       " ...          ...      ...     ...                  ...\n",
       " 20000258  138493    68954     4.5  2009-11-13 15:42:00\n",
       " 20000259  138493    69526     4.5  2009-12-03 18:31:48\n",
       " 20000260  138493    69644     3.0  2009-12-07 18:10:57\n",
       " 20000261  138493    70286     5.0  2009-11-13 15:42:24\n",
       " 20000262  138493    71619     2.5  2009-10-17 20:25:36\n",
       " \n",
       " [20000263 rows x 4 columns]>,\n",
       " None)"
      ]
     },
     "execution_count": 23,
     "metadata": {},
     "output_type": "execute_result"
    }
   ],
   "source": [
    "# Show the Rating Dataset informations\n",
    "rating_df.info,rating_df.info()"
   ]
  },
  {
   "cell_type": "code",
   "execution_count": 24,
   "metadata": {},
   "outputs": [
    {
     "name": "stdout",
     "output_type": "stream",
     "text": [
      "   movieId                               title  \\\n",
      "0        1                    Toy Story (1995)   \n",
      "1        2                      Jumanji (1995)   \n",
      "2        3             Grumpier Old Men (1995)   \n",
      "3        4            Waiting to Exhale (1995)   \n",
      "4        5  Father of the Bride Part II (1995)   \n",
      "\n",
      "                                        genres  \n",
      "0  Adventure|Animation|Children|Comedy|Fantasy  \n",
      "1                   Adventure|Children|Fantasy  \n",
      "2                               Comedy|Romance  \n",
      "3                         Comedy|Drama|Romance  \n",
      "4                                       Comedy  \n"
     ]
    }
   ],
   "source": [
    "print(movie_df.head())"
   ]
  },
  {
   "cell_type": "code",
   "execution_count": 25,
   "metadata": {},
   "outputs": [],
   "source": [
    "# Define a function to obtain the film title without date\n",
    "def splitter_title(text):\n",
    "    text=text.split(\"(\")\n",
    "    return text[0]"
   ]
  },
  {
   "cell_type": "code",
   "execution_count": 26,
   "metadata": {},
   "outputs": [
    {
     "data": {
      "text/html": [
       "<div>\n",
       "<style scoped>\n",
       "    .dataframe tbody tr th:only-of-type {\n",
       "        vertical-align: middle;\n",
       "    }\n",
       "\n",
       "    .dataframe tbody tr th {\n",
       "        vertical-align: top;\n",
       "    }\n",
       "\n",
       "    .dataframe thead th {\n",
       "        text-align: right;\n",
       "    }\n",
       "</style>\n",
       "<table border=\"1\" class=\"dataframe\">\n",
       "  <thead>\n",
       "    <tr style=\"text-align: right;\">\n",
       "      <th></th>\n",
       "      <th>movieId</th>\n",
       "      <th>title</th>\n",
       "      <th>genres</th>\n",
       "      <th>title2</th>\n",
       "      <th>genre_list</th>\n",
       "    </tr>\n",
       "  </thead>\n",
       "  <tbody>\n",
       "    <tr>\n",
       "      <th>0</th>\n",
       "      <td>1</td>\n",
       "      <td>Toy Story (1995)</td>\n",
       "      <td>Adventure|Animation|Children|Comedy|Fantasy</td>\n",
       "      <td>Toy Story</td>\n",
       "      <td>[Adventure, Animation, Children, Comedy, Fantasy]</td>\n",
       "    </tr>\n",
       "    <tr>\n",
       "      <th>1</th>\n",
       "      <td>2</td>\n",
       "      <td>Jumanji (1995)</td>\n",
       "      <td>Adventure|Children|Fantasy</td>\n",
       "      <td>Jumanji</td>\n",
       "      <td>[Adventure, Children, Fantasy]</td>\n",
       "    </tr>\n",
       "    <tr>\n",
       "      <th>2</th>\n",
       "      <td>3</td>\n",
       "      <td>Grumpier Old Men (1995)</td>\n",
       "      <td>Comedy|Romance</td>\n",
       "      <td>Grumpier Old Men</td>\n",
       "      <td>[Comedy, Romance]</td>\n",
       "    </tr>\n",
       "    <tr>\n",
       "      <th>3</th>\n",
       "      <td>4</td>\n",
       "      <td>Waiting to Exhale (1995)</td>\n",
       "      <td>Comedy|Drama|Romance</td>\n",
       "      <td>Waiting to Exhale</td>\n",
       "      <td>[Comedy, Drama, Romance]</td>\n",
       "    </tr>\n",
       "    <tr>\n",
       "      <th>4</th>\n",
       "      <td>5</td>\n",
       "      <td>Father of the Bride Part II (1995)</td>\n",
       "      <td>Comedy</td>\n",
       "      <td>Father of the Bride Part II</td>\n",
       "      <td>[Comedy]</td>\n",
       "    </tr>\n",
       "  </tbody>\n",
       "</table>\n",
       "</div>"
      ],
      "text/plain": [
       "   movieId                               title  \\\n",
       "0        1                    Toy Story (1995)   \n",
       "1        2                      Jumanji (1995)   \n",
       "2        3             Grumpier Old Men (1995)   \n",
       "3        4            Waiting to Exhale (1995)   \n",
       "4        5  Father of the Bride Part II (1995)   \n",
       "\n",
       "                                        genres                        title2  \\\n",
       "0  Adventure|Animation|Children|Comedy|Fantasy                    Toy Story    \n",
       "1                   Adventure|Children|Fantasy                      Jumanji    \n",
       "2                               Comedy|Romance             Grumpier Old Men    \n",
       "3                         Comedy|Drama|Romance            Waiting to Exhale    \n",
       "4                                       Comedy  Father of the Bride Part II    \n",
       "\n",
       "                                          genre_list  \n",
       "0  [Adventure, Animation, Children, Comedy, Fantasy]  \n",
       "1                     [Adventure, Children, Fantasy]  \n",
       "2                                  [Comedy, Romance]  \n",
       "3                           [Comedy, Drama, Romance]  \n",
       "4                                           [Comedy]  "
      ]
     },
     "execution_count": 26,
     "metadata": {},
     "output_type": "execute_result"
    }
   ],
   "source": [
    "# Apply the splitter_title function to the \"title\" column and store the result in \"title2\"\n",
    "movie_df[\"title2\"] = movie_df[\"title\"].apply(splitter_title)\n",
    "\n",
    "# Split the \"genres\" column by \"|\" and store the resulting list in \"genre_list\"\n",
    "movie_df[\"genre_list\"] = movie_df[\"genres\"].str.split(\"|\")\n",
    "\n",
    "# Display the first 5 rows of the DataFrame to check the new columns\n",
    "movie_df.head()"
   ]
  },
  {
   "cell_type": "markdown",
   "metadata": {},
   "source": [
    "### Why we use `map` instead of `merge`?\n",
    "\n",
    "In this context, `map` is used because it is computationally more efficient for simple one-to-one mappings compared to `merge`. Here's why:\n",
    "\n",
    "1. **Performance**:  \n",
    "   `map` is faster when you need to map a single column based on a key-value relationship, as it avoids the overhead of merging entire DataFrames.\n",
    "\n",
    "2. **Memory Usage**:  \n",
    "   `map` consumes less RAM memory since it only operates on the relevant column and does not create a new DataFrame, unlike `merge`.\n",
    "\n"
   ]
  },
  {
   "cell_type": "code",
   "execution_count": 27,
   "metadata": {},
   "outputs": [],
   "source": [
    "# Map 'title2' column to 'Movie Title'\n",
    "rating_df[\"Movie Title\"] = rating_df['movieId'].map(movie_df.set_index('movieId')['title2'])\n",
    "\n",
    "# Map 'genre_list' column to 'Genre'\n",
    "rating_df[\"Genre\"] = rating_df['movieId'].map(movie_df.set_index('movieId')['genre_list'])"
   ]
  },
  {
   "cell_type": "code",
   "execution_count": 28,
   "metadata": {},
   "outputs": [
    {
     "data": {
      "text/html": [
       "<div>\n",
       "<style scoped>\n",
       "    .dataframe tbody tr th:only-of-type {\n",
       "        vertical-align: middle;\n",
       "    }\n",
       "\n",
       "    .dataframe tbody tr th {\n",
       "        vertical-align: top;\n",
       "    }\n",
       "\n",
       "    .dataframe thead th {\n",
       "        text-align: right;\n",
       "    }\n",
       "</style>\n",
       "<table border=\"1\" class=\"dataframe\">\n",
       "  <thead>\n",
       "    <tr style=\"text-align: right;\">\n",
       "      <th></th>\n",
       "      <th>userId</th>\n",
       "      <th>movieId</th>\n",
       "      <th>rating</th>\n",
       "      <th>timestamp</th>\n",
       "      <th>Movie Title</th>\n",
       "      <th>Genre</th>\n",
       "    </tr>\n",
       "  </thead>\n",
       "  <tbody>\n",
       "    <tr>\n",
       "      <th>0</th>\n",
       "      <td>1</td>\n",
       "      <td>2</td>\n",
       "      <td>3.5</td>\n",
       "      <td>2005-04-02 23:53:47</td>\n",
       "      <td>Jumanji</td>\n",
       "      <td>[Adventure, Children, Fantasy]</td>\n",
       "    </tr>\n",
       "    <tr>\n",
       "      <th>1</th>\n",
       "      <td>1</td>\n",
       "      <td>29</td>\n",
       "      <td>3.5</td>\n",
       "      <td>2005-04-02 23:31:16</td>\n",
       "      <td>City of Lost Children, The</td>\n",
       "      <td>[Adventure, Drama, Fantasy, Mystery, Sci-Fi]</td>\n",
       "    </tr>\n",
       "    <tr>\n",
       "      <th>2</th>\n",
       "      <td>1</td>\n",
       "      <td>32</td>\n",
       "      <td>3.5</td>\n",
       "      <td>2005-04-02 23:33:39</td>\n",
       "      <td>Twelve Monkeys</td>\n",
       "      <td>[Mystery, Sci-Fi, Thriller]</td>\n",
       "    </tr>\n",
       "    <tr>\n",
       "      <th>3</th>\n",
       "      <td>1</td>\n",
       "      <td>47</td>\n",
       "      <td>3.5</td>\n",
       "      <td>2005-04-02 23:32:07</td>\n",
       "      <td>Seven</td>\n",
       "      <td>[Mystery, Thriller]</td>\n",
       "    </tr>\n",
       "    <tr>\n",
       "      <th>4</th>\n",
       "      <td>1</td>\n",
       "      <td>50</td>\n",
       "      <td>3.5</td>\n",
       "      <td>2005-04-02 23:29:40</td>\n",
       "      <td>Usual Suspects, The</td>\n",
       "      <td>[Crime, Mystery, Thriller]</td>\n",
       "    </tr>\n",
       "  </tbody>\n",
       "</table>\n",
       "</div>"
      ],
      "text/plain": [
       "   userId  movieId  rating            timestamp                  Movie Title  \\\n",
       "0       1        2     3.5  2005-04-02 23:53:47                     Jumanji    \n",
       "1       1       29     3.5  2005-04-02 23:31:16  City of Lost Children, The    \n",
       "2       1       32     3.5  2005-04-02 23:33:39              Twelve Monkeys    \n",
       "3       1       47     3.5  2005-04-02 23:32:07                       Seven    \n",
       "4       1       50     3.5  2005-04-02 23:29:40         Usual Suspects, The    \n",
       "\n",
       "                                          Genre  \n",
       "0                [Adventure, Children, Fantasy]  \n",
       "1  [Adventure, Drama, Fantasy, Mystery, Sci-Fi]  \n",
       "2                   [Mystery, Sci-Fi, Thriller]  \n",
       "3                           [Mystery, Thriller]  \n",
       "4                    [Crime, Mystery, Thriller]  "
      ]
     },
     "execution_count": 28,
     "metadata": {},
     "output_type": "execute_result"
    }
   ],
   "source": [
    "rating_df.head()"
   ]
  },
  {
   "cell_type": "code",
   "execution_count": 29,
   "metadata": {},
   "outputs": [
    {
     "name": "stdout",
     "output_type": "stream",
     "text": [
      "<class 'pandas.core.frame.DataFrame'>\n",
      "RangeIndex: 20000263 entries, 0 to 20000262\n",
      "Data columns (total 6 columns):\n",
      " #   Column       Dtype  \n",
      "---  ------       -----  \n",
      " 0   userId       int64  \n",
      " 1   movieId      int64  \n",
      " 2   rating       float64\n",
      " 3   timestamp    object \n",
      " 4   Movie Title  object \n",
      " 5   Genre        object \n",
      "dtypes: float64(1), int64(2), object(3)\n",
      "memory usage: 915.5+ MB\n"
     ]
    }
   ],
   "source": [
    "# Show the new Rating Dataset informations\n",
    "rating_df.info()"
   ]
  },
  {
   "cell_type": "code",
   "execution_count": 30,
   "metadata": {},
   "outputs": [
    {
     "data": {
      "text/plain": [
       "userId         0\n",
       "movieId        0\n",
       "rating         0\n",
       "timestamp      0\n",
       "Movie Title    0\n",
       "Genre          0\n",
       "dtype: int64"
      ]
     },
     "execution_count": 30,
     "metadata": {},
     "output_type": "execute_result"
    }
   ],
   "source": [
    "# Check if there are NA values in the dataset\n",
    "rating_df.isnull().sum()"
   ]
  },
  {
   "cell_type": "markdown",
   "metadata": {},
   "source": [
    "### Information about the dataset"
   ]
  },
  {
   "cell_type": "markdown",
   "metadata": {},
   "source": [
    "#### 1. **Time range and the number of movies released for each year**"
   ]
  },
  {
   "cell_type": "code",
   "execution_count": 31,
   "metadata": {},
   "outputs": [
    {
     "name": "stdout",
     "output_type": "stream",
     "text": [
      "The dataset covers a time range of 20 years, from 1995 to 2015\n"
     ]
    }
   ],
   "source": [
    "# Convert the \"timestamp\" column to datetime format\n",
    "rating_df[\"timestamp\"] = pd.to_datetime(rating_df[\"timestamp\"])\n",
    "\n",
    "# Calculate the time range in years and print it with better formatting\n",
    "time_range_years = rating_df[\"timestamp\"].max().year - rating_df[\"timestamp\"].min().year\n",
    "print(f\"The dataset covers a time range of {time_range_years} years, from {rating_df['timestamp'].min().year} to {rating_df['timestamp'].max().year}\")"
   ]
  },
  {
   "cell_type": "code",
   "execution_count": 32,
   "metadata": {},
   "outputs": [
    {
     "name": "stdout",
     "output_type": "stream",
     "text": [
      "year\n",
      "1996     331\n",
      "1997     143\n",
      "1998      99\n",
      "1999     773\n",
      "2000     485\n",
      "2001     666\n",
      "2002    1026\n",
      "2003     548\n",
      "2004     495\n",
      "2005    1121\n",
      "2006     512\n",
      "2007    1267\n",
      "2008     774\n",
      "2009    1516\n",
      "2010    1844\n",
      "2011    2219\n",
      "2012    2324\n",
      "2013    2495\n",
      "2014    3720\n",
      "2015    2963\n",
      "Name: count, dtype: int64\n"
     ]
    }
   ],
   "source": [
    "# Define a new column with only year of timestamp column\n",
    "rating_df['year'] = rating_df['timestamp'].dt.year\n",
    "\n",
    "# Count unique movies per year\n",
    "movies_per_year = rating_df.drop_duplicates(subset='Movie Title')['year'].value_counts().sort_index()\n",
    "\n",
    "# Show the results\n",
    "print(movies_per_year)"
   ]
  },
  {
   "cell_type": "code",
   "execution_count": 33,
   "metadata": {},
   "outputs": [
    {
     "data": {
      "image/png": "[encoded data removed]",
      "text/plain": [
       "<Figure size 1000x600 with 1 Axes>"
      ]
     },
     "metadata": {},
     "output_type": "display_data"
    }
   ],
   "source": [
    "plt.figure(figsize=(10, 6))\n",
    "sns.barplot(\n",
    "    x=movies_per_year.index, \n",
    "    y=movies_per_year.values, \n",
    "    hue=movies_per_year.index,  # Assign 'x' to 'hue'\n",
    "    palette='viridis', \n",
    "    edgecolor=\"black\",\n",
    "    dodge=False,  # Ensures bars are not split into groups\n",
    "    legend=False  # Removes the legend for the hues\n",
    ")\n",
    "plt.title('Number of movies released per year', fontsize=16, fontweight='bold')\n",
    "plt.xlabel('Years', fontsize=14)\n",
    "plt.ylabel('Number of movies', fontsize=14)\n",
    "plt.grid(linestyle='--', linewidth=0.5, color=\"black\")\n",
    "plt.tight_layout()\n",
    "plt.show()"
   ]
  },
  {
   "cell_type": "markdown",
   "metadata": {},
   "source": [
    "*The graph shows a clear upward trend in the number of movies released per year, with a significant spike in 2014 reaching over 3,000 movies. The data suggests that the movie industry has experienced substantial growth and expansion over the past two decades, with an increasing number of films being produced and released annually.*"
   ]
  },
  {
   "cell_type": "markdown",
   "metadata": {},
   "source": [
    "#### 2. **Number of reviews per user**"
   ]
  },
  {
   "cell_type": "code",
   "execution_count": 34,
   "metadata": {},
   "outputs": [
    {
     "name": "stdout",
     "output_type": "stream",
     "text": [
      "Top 5 users with the most ratings:\n",
      "userId\n",
      "118205    9254\n",
      "8405      7515\n",
      "82418     5646\n",
      "121535    5520\n",
      "125794    5491\n",
      "Name: rating, dtype: int64\n",
      "\n",
      "Bottom 5 users with the fewest ratings:\n",
      "userId\n",
      "89305     20\n",
      "110463    20\n",
      "96990     20\n",
      "134747    20\n",
      "6526      20\n",
      "Name: rating, dtype: int64\n"
     ]
    }
   ],
   "source": [
    "# Group by 'userId', count the number of ratings each user has, and sort in descending order\n",
    "user_rating_counts = rating_df.groupby('userId')['rating'].apply(len).sort_values(ascending=False)\n",
    "\n",
    "# Print the results with clear labels\n",
    "print(f\"Top 5 users with the most ratings:\\n{user_rating_counts.head(5)}\")\n",
    "print(f\"\\nBottom 5 users with the fewest ratings:\\n{user_rating_counts.tail(5)}\")"
   ]
  },
  {
   "cell_type": "markdown",
   "metadata": {},
   "source": [
    "There are users who have watched more than 5000 different movies. Probably those who have watched so many movies are usually film critics, journalists or extremely dedicated film enthusiasts."
   ]
  },
  {
   "cell_type": "markdown",
   "metadata": {},
   "source": [
    "## *Final check for preprocessing*"
   ]
  },
  {
   "cell_type": "code",
   "execution_count": 58,
   "metadata": {},
   "outputs": [],
   "source": [
    "import pandas as pd\n",
    "\n",
    "# Preprocess Tags\n",
    "tag_df['tag'] = tag_df['tag'].fillna('No Tag')  # Fill missing tags\n",
    "tag_df['timestamp'] = pd.to_datetime(tag_df['timestamp'])  # Convert timestamp to datetime\n",
    "\n",
    "# Preprocess Ratings\n",
    "rating_df['timestamp'] = pd.to_datetime(rating_df['timestamp'])  # Convert timestamp to datetime\n",
    "\n",
    "# Preprocess Movies\n",
    "movie_df['genres'] = movie_df['genres'].fillna('Unknown')  # Fill missing genres\n",
    "movie_df['year'] = movie_df['title'].str.extract(r'\\((\\d{4})\\)').astype(float)  # Extract year\n",
    "movie_df['genres'] = movie_df['genres'].str.split('|')  # Split genres into lists\n",
    "\n",
    "# Preprocess Links\n",
    "link_df = link_df.fillna(0)  # Fill missing external IDs\n",
    "\n",
    "# Preprocess Genome Scores\n",
    "genome_scores_df = genome_scores_df.fillna(0)  # Fill missing values\n",
    "\n",
    "# Preprocess Genome Tags\n",
    "genome_tags_df['tag'] = genome_tags_df['tag'].fillna('No Tag')  # Fill missing tags"
   ]
  },
  {
   "cell_type": "markdown",
   "metadata": {},
   "source": [
    "# 1.2.0 Minhash Signatures"
   ]
  },
  {
   "cell_type": "markdown",
   "metadata": {},
   "source": [
    "This function will **hash** each user's watched movie list to create a **signature vector**, which provides a compact representation of the user's preferences. By using **MinHash**, we can generate these signature vectors based on the movies that each user has rated. The key advantage of using MinHash is that it allows for **quick comparisons** of user similarity without directly comparing their entire lists of movies.\n",
    "\n",
    "### Steps:\n",
    "1. **Hash User's Movie List**: For each user, we generate a hash based on their watched movies.\n",
    "2. **MinHash Signatures**: The MinHash function creates a **signature vector** for each user, which is a compressed version of their movie list.\n",
    "3. **Efficient Similarity Comparison**: These signature vectors make it faster to compare users, enabling quick identification of similar users based on their movie preferences.\n"
   ]
  },
  {
   "cell_type": "code",
   "execution_count": 36,
   "metadata": {},
   "outputs": [
    {
     "name": "stdout",
     "output_type": "stream",
     "text": [
      "User Movies:\n",
      "User 1: {2, 3081, 4105, 1036, 5146, 541, 29, 32, 4128, 4133, 47, 1584, 5679, 50, 5171, 2100, 1079, 1080, 1089, 1090, 2628, 2118, 1097, 589, 7757, 7247, 593, 3153, 2644, 2648, 2138, 2140, 2143, 6242, 6754, 6755, 2664, 112, 1136, 4720, 6774, 2683, 2173, 2174, 4226, 2692, 653, 2193, 2194, 4754, 151, 6807, 2716, 5797, 1193, 1196, 1198, 1200, 1201, 6834, 8368, 1208, 5816, 6333, 1214, 1215, 1217, 3265, 1219, 1222, 2761, 2762, 2253, 4306, 1750, 1240, 1243, 7387, 7389, 1246, 223, 1249, 6888, 1258, 1259, 1261, 1262, 2288, 1266, 2291, 2804, 253, 1278, 8961, 260, 5898, 1291, 4878, 7438, 1304, 7449, 7454, 4896, 8482, 293, 296, 1321, 4911, 3889, 4915, 1333, 1848, 2872, 7482, 8507, 318, 5952, 1348, 1350, 4941, 1358, 337, 7001, 1370, 3932, 1374, 4446, 2918, 6502, 1387, 3438, 367, 5999, 4467, 4980, 1920, 2944, 4993, 2947, 7045, 7046, 6539, 2959, 3476, 919, 2968, 3479, 924, 3996, 3997, 3489, 5026, 5540, 3499, 4011, 1967, 5039, 5040, 3000, 4027, 8636, 1994, 1997, 6093, 31696, 3030, 4571, 3037, 2021, 2542, 1009, 7153, 8690, 1525, 7164}\n",
      "User 2: {3, 260, 2948, 2951, 1544, 1673, 266, 908, 2454, 2455, 924, 541, 3753, 2858, 1196, 1580, 1965, 1327, 1969, 1970, 1971, 1972, 1973, 1974, 3513, 1210, 1214, 62, 1986, 70, 1356, 589, 3150, 3534, 3917, 3918, 3959, 3923, 1748, 469, 3926, 3159, 3927, 3928, 3930, 480, 1121, 1249, 3555, 3937, 3173, 2791, 1259, 3565, 110, 242, 2291, 1270, 3703, 3450, 891}\n",
      "User 3: {512, 1, 3072, 2053, 2054, 2567, 1544, 2571, 1037, 2574, 24, 3098, 2076, 541, 32, 1060, 2093, 1584, 1073, 50, 1077, 2613, 1079, 2615, 2105, 1084, 1089, 1603, 2628, 2117, 1094, 2118, 3142, 1097, 589, 1103, 2640, 593, 2642, 2643, 3070, 2140, 2657, 610, 1125, 2150, 1127, 2662, 1129, 2668, 2676, 1653, 2694, 1674, 2699, 1676, 2710, 1179, 160, 2722, 1188, 1193, 1196, 173, 1197, 175, 1198, 1199, 1200, 1206, 1208, 1721, 1210, 2236, 1213, 1214, 1215, 2750, 1219, 196, 1220, 1222, 1221, 1225, 1228, 718, 1230, 1240, 1242, 223, 1247, 1762, 2788, 2791, 1257, 1258, 1259, 1261, 2797, 2288, 1266, 1779, 1270, 1272, 2808, 1276, 1278, 260, 2311, 1288, 780, 1810, 788, 1304, 2329, 1307, 1831, 1321, 2857, 1330, 1333, 2872, 316, 318, 2366, 1345, 2371, 329, 1356, 337, 1876, 2900, 2901, 2391, 858, 1882, 1372, 1373, 1374, 1375, 1376, 2916, 2918, 2407, 1396, 1909, 2428, 1917, 1921, 2947, 2948, 2949, 904, 905, 2448, 919, 2455, 2968, 924, 2985, 2986, 440, 953, 442, 5060, 968, 457, 2505, 2009, 3033, 2011, 2012, 3039, 480, 2528, 2018, 2529, 2530, 2531, 2532, 2533, 490, 2028, 2541, 2034, 2551, 2046}\n",
      "User 4: {6, 519, 520, 10, 19, 531, 32, 420, 165, 548, 431, 440, 454, 329, 586, 589, 594, 596, 733, 350, 480, 356, 489, 367, 368, 370, 377, 380}\n",
      "User 5: {2, 515, 260, 1028, 648, 11, 140, 141, 780, 1035, 1036, 17, 529, 531, 788, 1042, 150, 282, 671, 1196, 1198, 1073, 1079, 440, 1080, 1210, 316, 60, 318, 62, 832, 708, 454, 457, 1097, 587, 588, 589, 590, 720, 593, 594, 595, 475, 350, 224, 480, 608, 736, 1291, 104, 235, 364, 491, 110, 367, 368, 508, 370, 1136, 500, 1393, 631, 376, 377, 380}\n"
     ]
    }
   ],
   "source": [
    "# Group the 'rating' DataFrame by 'userId', then apply 'set()' to the 'movieId' for each user.\n",
    "user_movies=rating_df.groupby('userId')['movieId'].apply(set).to_dict()\n",
    "print(\"User Movies:\")\n",
    "for user, movies in list(user_movies.items())[:5]:  # Display the first 5 users\n",
    "    print(f\"User {user}: {movies}\")"
   ]
  },
  {
   "cell_type": "markdown",
   "metadata": {},
   "source": [
    "MinHash is a technique used for approximating the similarity between sets, such as the set of movies each user has watched in a recommendation system. It uses multiple hash functions to generate **signature vectors** that represent the set of movies a user has rated.\n",
    "\n",
    "For the MinHash we defined three different type of Hash function. In details:\n",
    "\n",
    "# **1.2.1 The three Hash Functions:**\n",
    "\n",
    "### 1. **Linear Hash Function**\n",
    "The **linear** hash function is the simplest type, using the formula:\n",
    "\n",
    "$ Hash(x) = (a \\cdot x + b) \\mod p $\n",
    "\n",
    "Where:\n",
    "- **a** and **b** are random coefficients ;\n",
    "- **p** is a prime number (for example 10513) ;\n",
    "- **x** is the movie ID.\n",
    "\n",
    "The idea behind this hash function is to perform a linear transformation of the movie ID, and then take the result modulo p. This produces a unique integer for each movie, which is used to create the signature.\n",
    "\n",
    "---\n",
    "\n",
    "### 2. **Polynomial Hash Function**\n",
    "The **polynomial** hash function works similarly to the linear function, but instead of a simple linear transformation, it applies polynomial powers to the movie ID. The formula is:\n",
    "\n",
    "$ Hash(x) =  \\sum_{i=0}^{n} c_i \\cdot (x^i) \\mod p $\n",
    "\n",
    "Where:\n",
    "- $\\mathbf{c_{i}}$ are random coefficients for each power of x ;\n",
    "- **p** is a prime number (for example 10513) ;\n",
    "- **n** is the degree of the polynomial ;\n",
    "- **x** is the movie ID.\n",
    "\n",
    "In this case, the movie ID is raised to successive powers, with each term multiplied by a corresponding random coefficient. The sum is then taken modulo **p**.\n",
    "\n",
    "---\n",
    "\n",
    "### 3. **Universal Hash Function**\n",
    "The **universal** hash function is a more advanced form of hashing that uses `double hashing` to reduce the probability of collisions in a hash table. The idea is to apply two hash functions and combine the results to get a more uniform distribution of hashes.\n",
    "The second hash function applies an additional step using the value obtained from the first function ($ Hash_1(x) $ ) and a larger modulus m.\n",
    "\n",
    "$ Hash_1(x) $ = $ ((a \\cdot x + b) \\mod p) $  \n",
    "\n",
    "$ Hash_2(x) $ = $ ((a \\cdot Hash_1(x) + b) \\mod m) $  \n",
    "\n",
    "$ Hash_{1,2}(x)=(Hash_1(x)+Hash_2(x)) \\mod m $\n",
    "\n",
    "Where:\n",
    "- **a** and **b** are random coefficients ;\n",
    "- **p** is a prime number (for example 10513) ;\n",
    "- **m** is the modulus used to limit the hash output to a specific range. It is generally a prime number larger than the modulus used in the first hash function to reduce the risk of collisions.\n",
    "\n",
    "### MinHash Process:\n",
    "\n",
    "1. **Random Coefficients** : For each hash function, random values a and b are generated within the range of the modulus p ;\n",
    "   \n",
    "2. **Hashing Process** : For each movie in the user's watched list, apply the formula \\hash(x) for each hash function. This results in a unique integer value (hash) for each movie ;\n",
    "\n",
    "3. **Signature Vector** : The minimum hash value for each of the hash functions is selected from the set of movie hashes. This set of minimum values across all hash functions forms the **signature vector** for the user.\n"
   ]
  },
  {
   "cell_type": "code",
   "execution_count": 37,
   "metadata": {},
   "outputs": [
    {
     "name": "stdout",
     "output_type": "stream",
     "text": [
      "Help on class MinHash in module libs.minhash_similarity:\n",
      "\n",
      "class MinHash(builtins.object)\n",
      " |  MinHash(n_hash_functions: int = 100, prime_number: int = 10513, type_function: str = 'linear')\n",
      " |  \n",
      " |  Methods defined here:\n",
      " |  \n",
      " |  __init__(self, n_hash_functions: int = 100, prime_number: int = 10513, type_function: str = 'linear')\n",
      " |      Initialize MinHash with a specified number of hash functions.\n",
      " |      \n",
      " |      Args:\n",
      " |          n_hash_functions: Number of hash functions to use for creating signatures (default is 100)\n",
      " |          prime: A higher prime number for the hash function (default is 10513)\n",
      " |          type_function: Type of hash function to use ('linear', 'universal', 'polynomial')\n",
      " |  \n",
      " |  create_signature(self, movie_set)\n",
      " |      Create MinHash signature for a set of movies.\n",
      " |      \n",
      " |      Args:\n",
      " |          movie_set: Set of movie IDs\n",
      " |          \n",
      " |      Returns:\n",
      " |          np.ndarray: MinHash signature (array of minimum hash values)\n",
      " |  \n",
      " |  hash_function(self, x, a, b, i)\n",
      " |      Apply the selected hash function based on type_function. \n",
      " |      (linear, polynomial, universal)\n",
      " |      \n",
      " |      Args:\n",
      " |          x: The value to hash (movie ID)\n",
      " |          a, b: Random coefficients used in the hash function\n",
      " |          i: Index of the current hash function\n",
      " |      \n",
      " |      Returns:\n",
      " |          int: Hashed value\n",
      " |  \n",
      " |  jaccard_similarity(self, signature1, signature2)\n",
      " |      Estimate Jaccard similarity between two MinHash signatures.\n",
      " |      \n",
      " |      Args:\n",
      " |          signature1: First MinHash signature\n",
      " |          signature2: Second MinHash signature\n",
      " |      \n",
      " |      Returns:\n",
      " |          float: Estimated Jaccard similarity (0-1)\n",
      " |  \n",
      " |  ----------------------------------------------------------------------\n",
      " |  Data descriptors defined here:\n",
      " |  \n",
      " |  __dict__\n",
      " |      dictionary for instance variables (if defined)\n",
      " |  \n",
      " |  __weakref__\n",
      " |      list of weak references to the object (if defined)\n",
      "\n"
     ]
    }
   ],
   "source": [
    "from libs.minhash_similarity import MinHash\n",
    "\n",
    "# Show the informations about the two functions of the MinHash module:\n",
    "help(MinHash)"
   ]
  },
  {
   "cell_type": "markdown",
   "metadata": {},
   "source": [
    "### **1.2 Minhash Signatures Jaccard Similarity**\n",
    "\n",
    "As a next step, we were asked to use the **userId** and **movieId**  column to try to implement min-hash signatures in order that users with similar interests in a genre appear in the same bucket. To do this we used the custom-made `minHash` class we built specifically for this homework. For more information on the **implementation** of the code behind it, please refer to the `lsh_functions` file included in the `libs` folder of this repository.\n",
    "\n",
    "We can initialize our class:"
   ]
  },
  {
   "cell_type": "code",
   "execution_count": null,
   "metadata": {},
   "outputs": [],
   "source": [
    "from libs.minhash_similarity import generate_signatures, exact_jaccard_similarity, compute_similarities"
   ]
  },
  {
   "cell_type": "code",
   "execution_count": 39,
   "metadata": {},
   "outputs": [
    {
     "name": "stdout",
     "output_type": "stream",
     "text": [
      "Help on function generate_signatures in module libs.minhash_similarity:\n",
      "\n",
      "generate_signatures(user_movies: dict, num_hash_function: int, function_name: str)\n",
      "\n"
     ]
    }
   ],
   "source": [
    "# check in libs.minhash_similarity -> generate signatures to check the function made from scrath \n",
    "help(generate_signatures)"
   ]
  },
  {
   "cell_type": "markdown",
   "metadata": {},
   "source": [
    "## **Jaccard Similarity** \n",
    "#### *(or Jaccard Index)*\n",
    "##### *Is a statistical measure used to compare the similarity and diversity between two sets. It is commonly used to calculate the similarity between two sets of items, such as the sets of movies watched by two users in a recommendation system.*\n",
    "\n",
    "#### Formula:\n",
    "\n",
    "The formula to calculate Jaccard Similarity between two sets A and B is as follows:\n",
    "\n",
    "$$\\ J(A, B) = \\frac{|A \\cap B|}{|A \\cup B|}\\$$\n",
    "\n",
    "Where:\n",
    "- \\|A $\\cap B|$ is the **cardinality of the intersection** of A and B , the number of elements common to both sets.\n",
    "- \\|A $\\cup B|$ is the **cardinality of the union** of  A and B , the total number of elements present in at least one of the two sets.\n"
   ]
  },
  {
   "cell_type": "code",
   "execution_count": 40,
   "metadata": {},
   "outputs": [
    {
     "name": "stdout",
     "output_type": "stream",
     "text": [
      "Help on function exact_jaccard_similarity in module libs.minhash_similarity:\n",
      "\n",
      "exact_jaccard_similarity(sig1, sig2)\n",
      "    sig1 : the signature of the user 1\n",
      "    sig2 : the signature of the user 2\n",
      "\n"
     ]
    }
   ],
   "source": [
    "# check in libs.minhash_similarity ->  exact_jaccard_similarity to check the function made from scrath \n",
    "help(exact_jaccard_similarity)"
   ]
  },
  {
   "cell_type": "markdown",
   "metadata": {},
   "source": [
    "### `compute_similarities` function\n",
    "\n",
    "This function calculates Jaccard similarity between randomly sampled user pairs (1000 samples) to reduce computation time. Instead of comparing all users, it randomly selects a subset for similarity calculation using MinHash. \n",
    "\n",
    "Pairs with estimated Jaccard similarity above a given threshold (0.6) are considered similar.\n",
    "\n",
    "- **Random Sampling:** 1000 random user pairs are selected ;\n",
    "- **Thresholding:** Pairs with estimated similarity above the threshold are counted as similar ;\n",
    "- **Outputs:** The function prints the most similar pairs, average loss and the count of similar/non-similar user pairs.\n",
    "\n",
    "**Considerations**\n",
    "\n",
    "We chose this sample size to evaluate whether the Jaccard similarities estimated by the algorithm align with the real Jaccard similarities of the users. Conducting a complete analysis involving all users would have required nearly 10 billion comparisons, making it hard computationally.\n"
   ]
  },
  {
   "cell_type": "code",
   "execution_count": 41,
   "metadata": {},
   "outputs": [
    {
     "name": "stdout",
     "output_type": "stream",
     "text": [
      "Help on function compute_similarities in module libs.minhash_similarity:\n",
      "\n",
      "compute_similarities(user_signatures, user_movies, max_results=10, similarity_threshold=0.6, hash_functions=100)\n",
      "\n"
     ]
    }
   ],
   "source": [
    "help(compute_similarities)"
   ]
  },
  {
   "cell_type": "code",
   "execution_count": 42,
   "metadata": {},
   "outputs": [
    {
     "name": "stdout",
     "output_type": "stream",
     "text": [
      "Generating signatures with Linear hash function --> 50 hash functions:\n"
     ]
    },
    {
     "name": "stderr",
     "output_type": "stream",
     "text": [
      "Generating Signatures: 100%|██████████| 138493/138493 [05:01<00:00, 459.66it/s]\n"
     ]
    },
    {
     "name": "stdout",
     "output_type": "stream",
     "text": [
      "--------------------------------------------------------------------------------\n",
      "Generating signatures with Universal hash function --> 50 hash functions:\n"
     ]
    },
    {
     "name": "stderr",
     "output_type": "stream",
     "text": [
      "Generating Signatures: 100%|██████████| 138493/138493 [06:41<00:00, 344.79it/s]\n"
     ]
    },
    {
     "name": "stdout",
     "output_type": "stream",
     "text": [
      "--------------------------------------------------------------------------------\n",
      "Generating signatures with Polynomial hash function --> 50 hash functions:\n"
     ]
    },
    {
     "name": "stderr",
     "output_type": "stream",
     "text": [
      "Generating Signatures: 100%|██████████| 138493/138493 [11:44<00:00, 196.57it/s]\n"
     ]
    }
   ],
   "source": [
    "# Print and generate signatures with different types of hash functions and 50 hash functions\n",
    "\n",
    "# Using Linear hash functions\n",
    "\n",
    "print(\"Generating signatures with Linear hash function --> 50 hash functions:\")\n",
    "signatures_linear_50 = generate_signatures(user_movies, 50 , function_name='linear')\n",
    "print(\"-\" * 80)\n",
    "\n",
    "# Using Universal hash functions\n",
    "\n",
    "print(\"Generating signatures with Universal hash function --> 50 hash functions:\")\n",
    "signatures_universal_50 = generate_signatures(user_movies, 50 , function_name='universal')\n",
    "print(\"-\" * 80)\n",
    "\n",
    "# Using Polynomial hash functions\n",
    "\n",
    "print(\"Generating signatures with Polynomial hash function --> 50 hash functions:\")\n",
    "signatures_polynomial_50 = generate_signatures(user_movies, 50 , function_name='polynomial')"
   ]
  },
  {
   "cell_type": "markdown",
   "metadata": {},
   "source": [
    "<h4> Now we compute the similarities for the three Hash Functions using the previously defined function for each set of signatures with a different number of hash functions </h4>\n",
    " "
   ]
  },
  {
   "cell_type": "code",
   "execution_count": 43,
   "metadata": {},
   "outputs": [
    {
     "name": "stdout",
     "output_type": "stream",
     "text": [
      "Similarities with Linear Hash Function --> 50 Hash Functions:\n",
      "Users: (26219, 35593) --> Estimated: 0.88, Exact: 0.84, Loss: 0.04\n",
      "Users: (18916, 41335) --> Estimated: 0.80, Exact: 0.82, Loss: 0.02\n",
      "Users: (2028, 41335) --> Estimated: 0.78, Exact: 0.83, Loss: 0.05\n",
      "Users: (92201, 17104) --> Estimated: 0.78, Exact: 0.67, Loss: 0.11\n",
      "Users: (42267, 64287) --> Estimated: 0.72, Exact: 0.72, Loss: 0.00\n",
      "Users: (132685, 26219) --> Estimated: 0.72, Exact: 0.71, Loss: 0.01\n",
      "Users: (91064, 50559) --> Estimated: 0.70, Exact: 0.66, Loss: 0.04\n",
      "Users: (106591, 10123) --> Estimated: 0.70, Exact: 0.64, Loss: 0.06\n",
      "Users: (92201, 19488) --> Estimated: 0.70, Exact: 0.62, Loss: 0.08\n",
      "Users: (132685, 35593) --> Estimated: 0.68, Exact: 0.69, Loss: 0.01\n",
      "\n",
      "Average Loss: 0.0407\n",
      "\n",
      "Number of similar user pairs (estimated similarity > 0.6): 28, Number of non similar user pairs is 972\n",
      "None\n"
     ]
    }
   ],
   "source": [
    "# 1. Linear\n",
    "print(\"Similarities with Linear Hash Function --> 50 Hash Functions:\")\n",
    "print(compute_similarities(signatures_linear_50, user_movies, hash_functions=50))"
   ]
  },
  {
   "cell_type": "code",
   "execution_count": 44,
   "metadata": {},
   "outputs": [
    {
     "name": "stdout",
     "output_type": "stream",
     "text": [
      "Similarities with Universal Hash Function --> 50 Hash Functions:\n",
      "Users: (2028, 41335) --> Estimated: 0.90, Exact: 0.83, Loss: 0.07\n",
      "Users: (26219, 35593) --> Estimated: 0.90, Exact: 0.84, Loss: 0.06\n",
      "Users: (18916, 41335) --> Estimated: 0.86, Exact: 0.82, Loss: 0.04\n",
      "Users: (2028, 18916) --> Estimated: 0.76, Exact: 0.68, Loss: 0.08\n",
      "Users: (132685, 26219) --> Estimated: 0.76, Exact: 0.71, Loss: 0.05\n",
      "Users: (42267, 64287) --> Estimated: 0.74, Exact: 0.72, Loss: 0.02\n",
      "Users: (84791, 74344) --> Estimated: 0.74, Exact: 0.54, Loss: 0.20\n",
      "Users: (41335, 97084) --> Estimated: 0.72, Exact: 0.68, Loss: 0.04\n",
      "Users: (41335, 35593) --> Estimated: 0.72, Exact: 0.69, Loss: 0.03\n",
      "Users: (25173, 35593) --> Estimated: 0.72, Exact: 0.69, Loss: 0.03\n",
      "\n",
      "Average Loss: 0.0594\n",
      "\n",
      "Number of similar user pairs (estimated similarity > 0.6): 52, Number of non similar user pairs is 948\n",
      "None\n"
     ]
    }
   ],
   "source": [
    "# 2. Universal\n",
    "print(\"Similarities with Universal Hash Function --> 50 Hash Functions:\")\n",
    "print(compute_similarities(signatures_universal_50, user_movies, hash_functions=50))"
   ]
  },
  {
   "cell_type": "code",
   "execution_count": 45,
   "metadata": {},
   "outputs": [
    {
     "name": "stdout",
     "output_type": "stream",
     "text": [
      "Similarities with Polynomial Hash Function --> 50 Hash Functions:\n",
      "Users: (18916, 41335) --> Estimated: 0.88, Exact: 0.82, Loss: 0.06\n",
      "Users: (26219, 35593) --> Estimated: 0.86, Exact: 0.84, Loss: 0.02\n",
      "Users: (2028, 41335) --> Estimated: 0.82, Exact: 0.83, Loss: 0.01\n",
      "Users: (91064, 50559) --> Estimated: 0.80, Exact: 0.66, Loss: 0.14\n",
      "Users: (41335, 35593) --> Estimated: 0.76, Exact: 0.69, Loss: 0.07\n",
      "Users: (15938, 35593) --> Estimated: 0.76, Exact: 0.71, Loss: 0.05\n",
      "Users: (90345, 17104) --> Estimated: 0.74, Exact: 0.64, Loss: 0.10\n",
      "Users: (25173, 35593) --> Estimated: 0.74, Exact: 0.69, Loss: 0.05\n",
      "Users: (64287, 50559) --> Estimated: 0.72, Exact: 0.59, Loss: 0.13\n",
      "Users: (2028, 18916) --> Estimated: 0.70, Exact: 0.68, Loss: 0.02\n",
      "\n",
      "Average Loss: 0.0610\n",
      "\n",
      "Number of similar user pairs (estimated similarity > 0.6): 44, Number of non similar user pairs is 956\n",
      "None\n"
     ]
    }
   ],
   "source": [
    "# 3. Polynomial \n",
    "print(\"Similarities with Polynomial Hash Function --> 50 Hash Functions:\")\n",
    "print(compute_similarities(signatures_polynomial_50, user_movies, hash_functions=50))"
   ]
  },
  {
   "cell_type": "markdown",
   "metadata": {},
   "source": [
    "# MinHash Similarity Comparison\n",
    "\n",
    "---\n",
    "\n",
    "### 1. **Linear Hash Function (50 Hash Functions)**\n",
    "   - The Linear Hash Function demonstrates the **lowest average loss** among the three. This indicates that its similarity estimates are consistently close to the true values. \n",
    "   - Given its balance between precision and computational efficiency, it is the **best choice** for  applications requiring a good trade-off between accuracy and processing time.\n",
    "\n",
    "---\n",
    "\n",
    "### 2. **Universal Hash Function (50 Hash Functions)**\n",
    "   - The universal hash function has a **computational complexity similar to the linear**. In the tests conducted, **the average loss is unstable**, in most cases it was the slightly higher one among the other functions with a loss of 0.1 although it can also reach a lower loss.\n",
    "---\n",
    "\n",
    "### 3. **Polynomial Hash Function (50 Hash Functions)**\n",
    "   - The polynomial hash function shows a **relatively low average loss**, but it is the **most computationally expensive** among the three. It is a good alternative when higher precision is needed, but with a higher computational cost respect linear.\n",
    "---\n",
    "\n",
    "### **Conclusion**\n",
    "   - The Linear Hash Function is the best choice, with the lowest average loss and good computational performance.\n"
   ]
  },
  {
   "cell_type": "markdown",
   "metadata": {},
   "source": [
    "<h3> To further improve the similarity and reduce the average loss, we increase the number of Hash functions for the linear. </h3>\n",
    "\n",
    "In details:\n",
    "- We define signatures for each user id with a higher number of Hash functions (100,200). We expect that higher number of functions will lead to higher computational cost but very high accuracy ;\n",
    "- We calculate the estimated Jaccard with 100,200 Hash functions and observe the differences from the exact Jaccard between different users ;\n",
    "- Let's compare the results by looking at the average loss calculated on a random sample of 1000 users as a metric ;"
   ]
  },
  {
   "cell_type": "markdown",
   "metadata": {},
   "source": [
    "<h3> Compare similarity for 100-200 number of Hash Functions </h3>"
   ]
  },
  {
   "cell_type": "code",
   "execution_count": 46,
   "metadata": {},
   "outputs": [
    {
     "name": "stderr",
     "output_type": "stream",
     "text": [
      "Generating Signatures: 100%|██████████| 138493/138493 [10:01<00:00, 230.11it/s]\n"
     ]
    },
    {
     "name": "stdout",
     "output_type": "stream",
     "text": [
      "--------------------------------------------------------------------------------\n"
     ]
    },
    {
     "name": "stderr",
     "output_type": "stream",
     "text": [
      "Generating Signatures: 100%|██████████| 138493/138493 [20:36<00:00, 112.01it/s]\n"
     ]
    }
   ],
   "source": [
    "# Let's try with 100 and 200 functions to see if the avg loss will be lower\n",
    "\n",
    "# The length of the signature increases further, improving the similarity\n",
    "signatures_linear_100 = generate_signatures(user_movies, 100,function_name='linear')\n",
    "\n",
    "print(\"-\" * 80)\n",
    "\n",
    "# Much more detailed signature, suitable for the scenario where high precision is needed\n",
    "# It is the most expensive in terms of memory and computation.\n",
    "signatures_linear_200 = generate_signatures(user_movies, 200,function_name='linear')"
   ]
  },
  {
   "cell_type": "code",
   "execution_count": 47,
   "metadata": {},
   "outputs": [
    {
     "name": "stdout",
     "output_type": "stream",
     "text": [
      "Similarities with 100 Hash Functions:\n",
      "Users: (26219, 35593) --> Estimated: 0.85, Exact: 0.84, Loss: 0.01\n",
      "Users: (2028, 41335) --> Estimated: 0.83, Exact: 0.83, Loss: 0.00\n",
      "Users: (18916, 41335) --> Estimated: 0.79, Exact: 0.82, Loss: 0.03\n",
      "Users: (91064, 50559) --> Estimated: 0.75, Exact: 0.66, Loss: 0.09\n",
      "Users: (64287, 118850) --> Estimated: 0.73, Exact: 0.64, Loss: 0.09\n",
      "Users: (93094, 50559) --> Estimated: 0.71, Exact: 0.68, Loss: 0.03\n",
      "Users: (132685, 26219) --> Estimated: 0.71, Exact: 0.71, Loss: 0.00\n",
      "Users: (132685, 35593) --> Estimated: 0.71, Exact: 0.69, Loss: 0.02\n",
      "Users: (106591, 33207) --> Estimated: 0.70, Exact: 0.63, Loss: 0.07\n",
      "Users: (92201, 17104) --> Estimated: 0.70, Exact: 0.67, Loss: 0.03\n",
      "\n",
      "Average Loss: 0.0391\n",
      "\n",
      "Number of similar user pairs (estimated similarity > 0.6): 39, Number of non similar user pairs is 961\n",
      "None\n",
      "--------------------------------------------------------------------------------\n",
      "Similarities with 200 Hash Functions:\n",
      "Users: (26219, 35593) --> Estimated: 0.86, Exact: 0.84, Loss: 0.03\n",
      "Users: (2028, 41335) --> Estimated: 0.84, Exact: 0.83, Loss: 0.02\n",
      "Users: (18916, 41335) --> Estimated: 0.82, Exact: 0.82, Loss: 0.00\n",
      "Users: (132685, 26219) --> Estimated: 0.76, Exact: 0.71, Loss: 0.05\n",
      "Users: (93094, 50559) --> Estimated: 0.74, Exact: 0.68, Loss: 0.06\n",
      "Users: (132685, 35593) --> Estimated: 0.73, Exact: 0.69, Loss: 0.04\n",
      "Users: (41335, 35593) --> Estimated: 0.72, Exact: 0.69, Loss: 0.04\n",
      "Users: (2028, 18916) --> Estimated: 0.69, Exact: 0.68, Loss: 0.01\n",
      "Users: (92201, 17104) --> Estimated: 0.69, Exact: 0.67, Loss: 0.03\n",
      "Users: (25173, 35593) --> Estimated: 0.68, Exact: 0.69, Loss: 0.01\n",
      "\n",
      "Average Loss: 0.0267\n",
      "\n",
      "Number of similar user pairs (estimated similarity > 0.6): 32, Number of non similar user pairs is 968\n",
      "None\n"
     ]
    }
   ],
   "source": [
    "print(\"Similarities with 100 Hash Functions:\")\n",
    "print(compute_similarities(signatures_linear_100,user_movies,hash_functions=100))\n",
    "\n",
    "print(\"-\" * 80)\n",
    "\n",
    "print(\"Similarities with 200 Hash Functions:\")\n",
    "print(compute_similarities(signatures_linear_200,user_movies,hash_functions=200))"
   ]
  },
  {
   "cell_type": "markdown",
   "metadata": {},
   "source": [
    "## *1.2 bis : Second approach for MinHash function and analysis* "
   ]
  },
  {
   "cell_type": "markdown",
   "metadata": {},
   "source": [
    "# **Main Differences Between Two MinHash Implementations**\n",
    "\n",
    "### **1. Hash Function Types**\n",
    "- **First Implementation**:\n",
    "  - Uses three different MinHash function types: `linear`, `polynomial`, and `universal`.\n",
    "  - Focuses on experimenting with multiple hashing techniques and evaluating their effectiveness.\n",
    "\n",
    "- **Second Implementation**:\n",
    "  - Does not include multiple hash function types; instead, it uses hash functions to simulate row permutations for MinHashing.\n",
    "\n",
    "---\n",
    "\n",
    "### **2. Matrix Representation**\n",
    "- **First Implementation**:\n",
    "  - Operates directly on user-movie mappings without explicitly constructing a characteristic matrix.\n",
    "\n",
    "- **Second Implementation**:\n",
    "  - Explicitly builds and visualizes the **characteristic matrix** as a binary user-item interaction matrix.\n",
    "  - Demonstrates how MinHash signatures are derived from this matrix.\n",
    "\n",
    "---\n",
    "\n",
    "### **3. Visualization**\n",
    "- **First Implementation**:\n",
    "  - Focuses on comparing MinHash function performances and similarity computation results.\n",
    "\n",
    "- **Second Implementation**:\n",
    "  - Visualizes the **characteristic matrix**, signature matrix, and the impact of hash functions on similarity.\n",
    "\n",
    "---\n",
    "\n",
    "### **Summary**\n",
    "- The **first implementation** focuses on evaluating different MinHash functions and their efficiency, while the **second implementation** emphasizes the conceptual understanding of MinHashing through matrix construction and visualization."
   ]
  },
  {
   "cell_type": "code",
   "execution_count": 59,
   "metadata": {},
   "outputs": [],
   "source": [
    "# Import necessary functions , other custom made\n",
    "from libs.lsh_functions import ( \n",
    "    create_characteristic_matrix, \n",
    "    generate_minhash_signatures, \n",
    "    compute_jaccard_similarity, \n",
    "    compute_similarities, \n",
    "    recommend_movies, \n",
    "    plot_probability_curve, \n",
    "    visualize_signature_matrix, \n",
    "    create_sparse_interaction_matrix, \n",
    "    generate_minhash_signatures_with_interaction, \n",
    "    create_sparse_interaction_matrix_from_binary\n",
    ")"
   ]
  },
  {
   "cell_type": "markdown",
   "metadata": {},
   "source": [
    "Now, in order to perform Minhashing, we must perform the following steps:\n",
    "\n",
    "#### **1.2.1. Shingling**\n",
    "\n",
    "In this case, we define each different **movieId** as a shingle and represent our users as sets of shingles. Shingles are essentially the unique identifiers (IDs) of the movies that a user has interacted with or rated.\n",
    "\n",
    "For example, we can represent a user A as:\n",
    "\n",
    "$$A = \\{\\text{movie1}, \\text{movie2}, \\text{movie2}, \\dots\\},$$\n",
    "\n",
    "Where the set contains the movieId values corresponding to the movies that the user  A  has watched or rated.\n",
    "\n",
    "This representation captures the set of movies associated with each user, which is the fundamental input for building the characteristic matrix and applying MinHashing.\n",
    "\n",
    "We can extract the movie shingles for every user in our dataset. For example, user 1 can be represented by their movie shingles as follows:"
   ]
  },
  {
   "cell_type": "code",
   "execution_count": 60,
   "metadata": {},
   "outputs": [
    {
     "name": "stdout",
     "output_type": "stream",
     "text": [
      "Movies watched by User 1: [2, 29, 32, 47, 50, 112, 151, 223, 253, 260, 293, 296, 318, 337, 367, 541, 589, 593, 653, 919, 924, 1009, 1036, 1079, 1080, 1089, 1090, 1097, 1136, 1193, 1196, 1198, 1200, 1201, 1208, 1214, 1215, 1217, 1219, 1222, 1240, 1243, 1246, 1249, 1258, 1259, 1261, 1262, 1266, 1278, 1291, 1304, 1321, 1333, 1348, 1350, 1358, 1370, 1374, 1387, 1525, 1584, 1750, 1848, 1920, 1967, 1994, 1997, 2021, 2100, 2118, 2138, 2140, 2143, 2173, 2174, 2193, 2194, 2253, 2288, 2291, 2542, 2628, 2644, 2648, 2664, 2683, 2692, 2716, 2761, 2762, 2804, 2872, 2918, 2944, 2947, 2959, 2968, 3000, 3030, 3037, 3081, 3153, 3265, 3438, 3476, 3479, 3489, 3499, 3889, 3932, 3996, 3997, 4011, 4027, 4105, 4128, 4133, 4226, 4306, 4446, 4467, 4571, 4720, 4754, 4878, 4896, 4911, 4915, 4941, 4980, 4993, 5026, 5039, 5040, 5146, 5171, 5540, 5679, 5797, 5816, 5898, 5952, 5999, 6093, 6242, 6333, 6502, 6539, 6754, 6755, 6774, 6807, 6834, 6888, 7001, 7045, 7046, 7153, 7164, 7247, 7387, 7389, 7438, 7449, 7454, 7482, 7757, 8368, 8482, 8507, 8636, 8690, 8961, 31696]\n"
     ]
    }
   ],
   "source": [
    "user_movies = rating_df.groupby('userId')['movieId'].apply(list)\n",
    "print(f\"Movies watched by User 1: {user_movies[1]}\")"
   ]
  },
  {
   "cell_type": "code",
   "execution_count": 61,
   "metadata": {},
   "outputs": [
    {
     "data": {
      "text/html": [
       "<div>\n",
       "<style scoped>\n",
       "    .dataframe tbody tr th:only-of-type {\n",
       "        vertical-align: middle;\n",
       "    }\n",
       "\n",
       "    .dataframe tbody tr th {\n",
       "        vertical-align: top;\n",
       "    }\n",
       "\n",
       "    .dataframe thead th {\n",
       "        text-align: right;\n",
       "    }\n",
       "</style>\n",
       "<table border=\"1\" class=\"dataframe\">\n",
       "  <thead>\n",
       "    <tr style=\"text-align: right;\">\n",
       "      <th></th>\n",
       "      <th>userId</th>\n",
       "      <th>movieId</th>\n",
       "      <th>rating</th>\n",
       "      <th>timestamp</th>\n",
       "      <th>title</th>\n",
       "      <th>genres</th>\n",
       "      <th>year</th>\n",
       "    </tr>\n",
       "  </thead>\n",
       "  <tbody>\n",
       "    <tr>\n",
       "      <th>0</th>\n",
       "      <td>1</td>\n",
       "      <td>2</td>\n",
       "      <td>3.5</td>\n",
       "      <td>2005-04-02 23:53:47</td>\n",
       "      <td>Jumanji (1995)</td>\n",
       "      <td>[Adventure, Children, Fantasy]</td>\n",
       "      <td>1995.0</td>\n",
       "    </tr>\n",
       "    <tr>\n",
       "      <th>1</th>\n",
       "      <td>1</td>\n",
       "      <td>29</td>\n",
       "      <td>3.5</td>\n",
       "      <td>2005-04-02 23:31:16</td>\n",
       "      <td>City of Lost Children, The (Cité des enfants p...</td>\n",
       "      <td>[Adventure, Drama, Fantasy, Mystery, Sci-Fi]</td>\n",
       "      <td>1995.0</td>\n",
       "    </tr>\n",
       "    <tr>\n",
       "      <th>2</th>\n",
       "      <td>1</td>\n",
       "      <td>32</td>\n",
       "      <td>3.5</td>\n",
       "      <td>2005-04-02 23:33:39</td>\n",
       "      <td>Twelve Monkeys (a.k.a. 12 Monkeys) (1995)</td>\n",
       "      <td>[Mystery, Sci-Fi, Thriller]</td>\n",
       "      <td>1995.0</td>\n",
       "    </tr>\n",
       "    <tr>\n",
       "      <th>3</th>\n",
       "      <td>1</td>\n",
       "      <td>47</td>\n",
       "      <td>3.5</td>\n",
       "      <td>2005-04-02 23:32:07</td>\n",
       "      <td>Seven (a.k.a. Se7en) (1995)</td>\n",
       "      <td>[Mystery, Thriller]</td>\n",
       "      <td>1995.0</td>\n",
       "    </tr>\n",
       "    <tr>\n",
       "      <th>4</th>\n",
       "      <td>1</td>\n",
       "      <td>50</td>\n",
       "      <td>3.5</td>\n",
       "      <td>2005-04-02 23:29:40</td>\n",
       "      <td>Usual Suspects, The (1995)</td>\n",
       "      <td>[Crime, Mystery, Thriller]</td>\n",
       "      <td>1995.0</td>\n",
       "    </tr>\n",
       "  </tbody>\n",
       "</table>\n",
       "</div>"
      ],
      "text/plain": [
       "   userId  movieId  rating           timestamp  \\\n",
       "0       1        2     3.5 2005-04-02 23:53:47   \n",
       "1       1       29     3.5 2005-04-02 23:31:16   \n",
       "2       1       32     3.5 2005-04-02 23:33:39   \n",
       "3       1       47     3.5 2005-04-02 23:32:07   \n",
       "4       1       50     3.5 2005-04-02 23:29:40   \n",
       "\n",
       "                                               title  \\\n",
       "0                                     Jumanji (1995)   \n",
       "1  City of Lost Children, The (Cité des enfants p...   \n",
       "2          Twelve Monkeys (a.k.a. 12 Monkeys) (1995)   \n",
       "3                        Seven (a.k.a. Se7en) (1995)   \n",
       "4                         Usual Suspects, The (1995)   \n",
       "\n",
       "                                         genres    year  \n",
       "0                [Adventure, Children, Fantasy]  1995.0  \n",
       "1  [Adventure, Drama, Fantasy, Mystery, Sci-Fi]  1995.0  \n",
       "2                   [Mystery, Sci-Fi, Thriller]  1995.0  \n",
       "3                           [Mystery, Thriller]  1995.0  \n",
       "4                    [Crime, Mystery, Thriller]  1995.0  "
      ]
     },
     "execution_count": 61,
     "metadata": {},
     "output_type": "execute_result"
    }
   ],
   "source": [
    "# Merge rating_df with movie_df to include movie titles\n",
    "merged_df = pd.merge(rating_df, movie_df, on='movieId')\n",
    "\n",
    "# Display the first few rows\n",
    "merged_df.head()"
   ]
  },
  {
   "cell_type": "markdown",
   "metadata": {},
   "source": [
    "Here we can see that the movies watched by each user (e.g., User `1`) are represented by their unique `movieId` values. This gives us insight into the specific movies a user has interacted with. We can do this for every user and represent each individual user by the set of `movieId`s they have rated or interacted with. However, to effectively compare users, we need to represent them in a way that accounts for all possible movies regardless of the order in which they appear.\n",
    "\n",
    "###  **Building the Characteristic Matrix**\n",
    "\n",
    "Once we've represented each of our users using their `movieId` shingles, we can construct the **characteristic matrix** for users. In this matrix:\n",
    "\n",
    "- Each **column** corresponds to a unique user (`userId`).\n",
    "- Each **row** corresponds to a unique movie (`movieId`) from the universal set of movies that appear in the dataset.\n",
    "\n",
    "The value in the element  $(i, j)$  of the matrix is 1  if the movie in row $i$  has been rated or interacted with by the user in column $j$ ; otherwise, it is  0. The resulting matrix looks like this:\n",
    "\n",
    "<br>\n",
    "\n",
    "$$\n",
    "\\begin{pmatrix}\n",
    "& \\text{User ID 1}&\\text{User ID 2}&\\dots&\\text{User $ID(n-1)$}&\\text{User ID $n$}\\\\\n",
    "\\text{Movie ID 1} &1&0&\\dots&0&1\\\\\n",
    "\\text{Movie ID 2} &0&0&\\dots&1&0\\\\\n",
    "\\vdots &0&1&\\dots&0&1\\\\\n",
    "\\text{Movie ID $m-1$} &1&0&\\dots&1&1\\\\\n",
    "\\text{Movie ID $m$} &0&0&\\dots&1&0\n",
    "\\end{pmatrix}\n",
    "$$\n",
    "\n",
    "<br>\n",
    "\n",
    "For example, the first row represents **Movie 1**, and we can see that Users  1  and $n$  have interacted with this movie, while the others have not. Similarly, other rows correspond to different movies, and columns represent the one-hot encoded interaction of users with those movies.\n",
    "\n",
    "We can think of this matrix as the **one-hot representation** of users based on the movies they have interacted with. This representation is critical for computing MinHash signatures.\n",
    "\n",
    "For completeness, we can extract the column of this matrix for a specific user, such as User `1`, which gives the binary interaction vector of that user with the movies:\n"
   ]
  },
  {
   "cell_type": "code",
   "execution_count": 62,
   "metadata": {},
   "outputs": [
    {
     "name": "stderr",
     "output_type": "stream",
     "text": [
      "/var/folders/jp/fnr369_172b9ghtllhyqdmtw0000gp/T/ipykernel_45736/2151508797.py:2: PerformanceWarning: The following operation may generate 3703856792 cells in the resulting pandas object.\n",
      "  interaction_matrix = pd.pivot_table(\n"
     ]
    },
    {
     "data": {
      "text/html": [
       "<div>\n",
       "<style scoped>\n",
       "    .dataframe tbody tr th:only-of-type {\n",
       "        vertical-align: middle;\n",
       "    }\n",
       "\n",
       "    .dataframe tbody tr th {\n",
       "        vertical-align: top;\n",
       "    }\n",
       "\n",
       "    .dataframe thead th {\n",
       "        text-align: right;\n",
       "    }\n",
       "</style>\n",
       "<table border=\"1\" class=\"dataframe\">\n",
       "  <thead>\n",
       "    <tr style=\"text-align: right;\">\n",
       "      <th>userId</th>\n",
       "      <th>1</th>\n",
       "      <th>2</th>\n",
       "      <th>3</th>\n",
       "      <th>4</th>\n",
       "      <th>5</th>\n",
       "      <th>6</th>\n",
       "      <th>7</th>\n",
       "      <th>8</th>\n",
       "      <th>9</th>\n",
       "      <th>10</th>\n",
       "      <th>...</th>\n",
       "      <th>138484</th>\n",
       "      <th>138485</th>\n",
       "      <th>138486</th>\n",
       "      <th>138487</th>\n",
       "      <th>138488</th>\n",
       "      <th>138489</th>\n",
       "      <th>138490</th>\n",
       "      <th>138491</th>\n",
       "      <th>138492</th>\n",
       "      <th>138493</th>\n",
       "    </tr>\n",
       "    <tr>\n",
       "      <th>movieId</th>\n",
       "      <th></th>\n",
       "      <th></th>\n",
       "      <th></th>\n",
       "      <th></th>\n",
       "      <th></th>\n",
       "      <th></th>\n",
       "      <th></th>\n",
       "      <th></th>\n",
       "      <th></th>\n",
       "      <th></th>\n",
       "      <th></th>\n",
       "      <th></th>\n",
       "      <th></th>\n",
       "      <th></th>\n",
       "      <th></th>\n",
       "      <th></th>\n",
       "      <th></th>\n",
       "      <th></th>\n",
       "      <th></th>\n",
       "      <th></th>\n",
       "      <th></th>\n",
       "    </tr>\n",
       "  </thead>\n",
       "  <tbody>\n",
       "    <tr>\n",
       "      <th>1</th>\n",
       "      <td>0</td>\n",
       "      <td>0</td>\n",
       "      <td>1</td>\n",
       "      <td>0</td>\n",
       "      <td>0</td>\n",
       "      <td>1</td>\n",
       "      <td>0</td>\n",
       "      <td>1</td>\n",
       "      <td>0</td>\n",
       "      <td>1</td>\n",
       "      <td>...</td>\n",
       "      <td>0</td>\n",
       "      <td>0</td>\n",
       "      <td>1</td>\n",
       "      <td>0</td>\n",
       "      <td>1</td>\n",
       "      <td>0</td>\n",
       "      <td>0</td>\n",
       "      <td>1</td>\n",
       "      <td>0</td>\n",
       "      <td>1</td>\n",
       "    </tr>\n",
       "    <tr>\n",
       "      <th>2</th>\n",
       "      <td>1</td>\n",
       "      <td>0</td>\n",
       "      <td>0</td>\n",
       "      <td>0</td>\n",
       "      <td>1</td>\n",
       "      <td>0</td>\n",
       "      <td>0</td>\n",
       "      <td>0</td>\n",
       "      <td>0</td>\n",
       "      <td>0</td>\n",
       "      <td>...</td>\n",
       "      <td>1</td>\n",
       "      <td>0</td>\n",
       "      <td>0</td>\n",
       "      <td>0</td>\n",
       "      <td>1</td>\n",
       "      <td>0</td>\n",
       "      <td>0</td>\n",
       "      <td>0</td>\n",
       "      <td>0</td>\n",
       "      <td>1</td>\n",
       "    </tr>\n",
       "    <tr>\n",
       "      <th>3</th>\n",
       "      <td>0</td>\n",
       "      <td>1</td>\n",
       "      <td>0</td>\n",
       "      <td>0</td>\n",
       "      <td>0</td>\n",
       "      <td>1</td>\n",
       "      <td>1</td>\n",
       "      <td>1</td>\n",
       "      <td>0</td>\n",
       "      <td>0</td>\n",
       "      <td>...</td>\n",
       "      <td>1</td>\n",
       "      <td>0</td>\n",
       "      <td>0</td>\n",
       "      <td>0</td>\n",
       "      <td>0</td>\n",
       "      <td>0</td>\n",
       "      <td>0</td>\n",
       "      <td>0</td>\n",
       "      <td>0</td>\n",
       "      <td>0</td>\n",
       "    </tr>\n",
       "    <tr>\n",
       "      <th>4</th>\n",
       "      <td>0</td>\n",
       "      <td>0</td>\n",
       "      <td>0</td>\n",
       "      <td>0</td>\n",
       "      <td>0</td>\n",
       "      <td>0</td>\n",
       "      <td>0</td>\n",
       "      <td>0</td>\n",
       "      <td>0</td>\n",
       "      <td>0</td>\n",
       "      <td>...</td>\n",
       "      <td>0</td>\n",
       "      <td>0</td>\n",
       "      <td>0</td>\n",
       "      <td>0</td>\n",
       "      <td>0</td>\n",
       "      <td>0</td>\n",
       "      <td>0</td>\n",
       "      <td>0</td>\n",
       "      <td>0</td>\n",
       "      <td>0</td>\n",
       "    </tr>\n",
       "    <tr>\n",
       "      <th>5</th>\n",
       "      <td>0</td>\n",
       "      <td>0</td>\n",
       "      <td>0</td>\n",
       "      <td>0</td>\n",
       "      <td>0</td>\n",
       "      <td>0</td>\n",
       "      <td>0</td>\n",
       "      <td>0</td>\n",
       "      <td>0</td>\n",
       "      <td>0</td>\n",
       "      <td>...</td>\n",
       "      <td>0</td>\n",
       "      <td>0</td>\n",
       "      <td>0</td>\n",
       "      <td>0</td>\n",
       "      <td>0</td>\n",
       "      <td>0</td>\n",
       "      <td>0</td>\n",
       "      <td>0</td>\n",
       "      <td>0</td>\n",
       "      <td>0</td>\n",
       "    </tr>\n",
       "  </tbody>\n",
       "</table>\n",
       "<p>5 rows × 138493 columns</p>\n",
       "</div>"
      ],
      "text/plain": [
       "userId   1       2       3       4       5       6       7       8       \\\n",
       "movieId                                                                   \n",
       "1             0       0       1       0       0       1       0       1   \n",
       "2             1       0       0       0       1       0       0       0   \n",
       "3             0       1       0       0       0       1       1       1   \n",
       "4             0       0       0       0       0       0       0       0   \n",
       "5             0       0       0       0       0       0       0       0   \n",
       "\n",
       "userId   9       10      ...  138484  138485  138486  138487  138488  138489  \\\n",
       "movieId                  ...                                                   \n",
       "1             0       1  ...       0       0       1       0       1       0   \n",
       "2             0       0  ...       1       0       0       0       1       0   \n",
       "3             0       0  ...       1       0       0       0       0       0   \n",
       "4             0       0  ...       0       0       0       0       0       0   \n",
       "5             0       0  ...       0       0       0       0       0       0   \n",
       "\n",
       "userId   138490  138491  138492  138493  \n",
       "movieId                                  \n",
       "1             0       1       0       1  \n",
       "2             0       0       0       1  \n",
       "3             0       0       0       0  \n",
       "4             0       0       0       0  \n",
       "5             0       0       0       0  \n",
       "\n",
       "[5 rows x 138493 columns]"
      ]
     },
     "execution_count": 62,
     "metadata": {},
     "output_type": "execute_result"
    }
   ],
   "source": [
    "# Create a binary interaction matrix\n",
    "interaction_matrix = pd.pivot_table(\n",
    "    merged_df, \n",
    "    values='rating', \n",
    "    index='movieId', \n",
    "    columns='userId', \n",
    "    aggfunc=lambda x: 1,  # Use 1 to indicate interaction\n",
    "    fill_value=0          # Fill with 0 for no interaction\n",
    ")\n",
    "\n",
    "interaction_matrix.head()"
   ]
  },
  {
   "cell_type": "code",
   "execution_count": null,
   "metadata": {},
   "outputs": [
    {
     "data": {
      "image/png": "[encoded data removed]",
      "text/plain": [
       "<Figure size 1000x800 with 2 Axes>"
      ]
     },
     "metadata": {},
     "output_type": "display_data"
    }
   ],
   "source": [
    "from libs.lsh_functions import plot_signature_matrix, plot_hash_param_effects\n",
    "\n",
    "# Visualize the first 10x10 portion of the signature matrix\n",
    "plot_signature_matrix(signature_matrix, rows=10, cols=10)\n",
    "\n",
    "# Analyze the effect of hash function parameters\n",
    "#plot_hash_param_effects(n_hashes=100, movie_range=range(1, interaction_matrix.shape[0]))"
   ]
  },
  {
   "cell_type": "markdown",
   "metadata": {},
   "source": [
    "As we can see, we only have 1 values in certain indexes representing the movies the user has rated. These correspond to the specific `movieId`s the user interacted with. Using this representation, we can compare users based on their rated movies. However, as the number of users and movies grows, this representation becomes inefficient due to the sparsity of the matrix. \n",
    "\n",
    "To address this issue, we replace the large characteristic matrix with a smaller **signature matrix** that still preserves the underlying similarity between users.\n",
    "\n",
    "### **Min-Hashing**\n",
    "\n",
    "We achieve this by building a **signature matrix** using **Min-Hashing**. To create this matrix from the characteristic matrix, we follow these steps:\n",
    "\n",
    "1. **Randomly permute the rows** of the characteristic matrix. For example, rows `12345` might become `35421`, so if \"Movie A\" was in row 1, it would now be in row 5.\n",
    "\n",
    "2. For each user (i.e., column), **find the position of the first non-zero value** (indicating a rated movie) in the permuted rows. This position is used to represent the user's interaction for that permutation.\n",
    "\n",
    "3. **Repeat this process** as many times as desired, appending each result to the user's signature vector.\n",
    "\n",
    "Instead of explicitly permuting the rows (which is computationally expensive), we use **hash functions** to simulate the permutation process. A hash function for an input integer $x$ is defined as:\n",
    "\n",
    "$$\n",
    "h(x) = (ax + b) \\mod c\n",
    "$$\n",
    "\n",
    "where:\n",
    "- $a$ and $b$ are random integers less than the number of rows of the matrix.\n",
    "- $c$ is a **prime number** slightly larger than the number of rows.\n",
    "\n",
    "This approach avoids true permutations and computes the hash values directly. While this may result in hash collisions (where two rows map to the same value), the effect can be minimized by choosing appropriate values for $a$, $b$, and $c$.\n",
    "\n",
    "Using this framework, our algorithm proceeds as follows:\n",
    "\n",
    "1. Initialize the **signature matrix** with all values set to $\\infty$.\n",
    "\n",
    "2. For each row, compute $h_1(r), h_2(r), \\dots, h_n(r)$ for $n$ random hash functions.\n",
    "\n",
    "3. For each column $c$ of row $r$:\n",
    "    - If $c$ has a $0$ in row $r$, skip it.\n",
    "    - If $c$ has a $1$ in row $r$, update $S(i, c)$ for each $i \\in \\{1, \\dots, n\\}$ to be the **minimum** of the current value of $S(i, c)$ and $h_i(r)$.\n",
    "\n",
    "The resulting **signature matrix** has dimensions determined by the number of hash functions (or permutations) and the number of users.\n",
    "\n",
    "For our Recommendation System, we chose **100 hash functions**, so the resulting signature matrix has dimensions:"
   ]
  },
  {
   "cell_type": "code",
   "execution_count": 3,
   "metadata": {},
   "outputs": [
    {
     "data": {
      "text/plain": [
       "'Shape of the signature matrix:'"
      ]
     },
     "metadata": {},
     "output_type": "display_data"
    },
    {
     "data": {
      "text/plain": [
       "(100, 5)"
      ]
     },
     "metadata": {},
     "output_type": "display_data"
    },
    {
     "data": {
      "image/png": "[encoded data removed]",
      "text/plain": [
       "<Figure size 1000x800 with 2 Axes>"
      ]
     },
     "metadata": {},
     "output_type": "display_data"
    }
   ],
   "source": [
    "# Import the custom functions from your library\n",
    "from libs.lsh_functions import create_characteristic_matrix, generate_minhash_signatures, next_prime, visualize_signature_matrix\n",
    "\n",
    "\n",
    "# A dictionary where keys are user IDs and values are sets of movie IDs watched by the user\n",
    "user_movies = {\n",
    "    1: {1, 2, 3},\n",
    "    2: {3, 4},\n",
    "    3: {5, 6},\n",
    "    4: {1, 3, 5},\n",
    "    5: {2, 4, 6}\n",
    "}\n",
    "\n",
    "# All movies in the dataset\n",
    "all_movies = {1, 2, 3, 4, 5, 6}\n",
    "\n",
    "# Create the characteristic matrix\n",
    "characteristic_matrix = create_characteristic_matrix(None, all_movies, user_movies)\n",
    "\n",
    "# Generate MinHash signatures with a specified number of hash functions\n",
    "n_hashes = 100\n",
    "signature_matrix = generate_minhash_signatures(characteristic_matrix, n_hashes)\n",
    "\n",
    "# Obtain the shape of the signature matrix\n",
    "display(\"Shape of the signature matrix:\", signature_matrix.shape)\n",
    "\n",
    "# Visualize the first 10 rows and columns of the signature matrix using a heatmap\n",
    "visualize_signature_matrix(signature_matrix, rows=10, cols=10)"
   ]
  },
  {
   "cell_type": "markdown",
   "metadata": {},
   "source": [
    "---\n",
    "\n",
    "Through this method, we produce vectors of equal length that contain positive integer values representing the MinHash signatures for each user, based on the movies they have rated. These signatures allow us to approximate user similarity efficiently. Ideally, we want to hash users into **buckets** such that users with similar preferences (based on their movie lists) end up in the same bucket. However, if we hash based on the entire signature as a whole, only identical signatures would end up in the same bucket, which is not practical for approximate similarity searches.\n",
    "\n",
    "In most cases, even though parts of two signatures may match, they might still be hashed into separate buckets. This is undesirable because it prevents us from identifying partially similar users. To address this, we use the **banding** technique.\n",
    "\n",
    "#### **Banding and Bucketing**\n",
    "\n",
    "The banding method addresses this issue by splitting the MinHash signature matrix into smaller sub-vectors called *bands*. Instead of hashing the entire signature for a user into a single bucket, we hash each band independently. For instance, splitting a 100-dimensional signature into 20 bands results in 20 opportunities to match users based on their sub-vector similarity.\n",
    "\n",
    "While this increases the chance of false positives (users hashed into the same bucket despite being dissimilar), we can tune the trade-off by adjusting the number of bands (\\(b\\)) and the number of rows per band \\($r$\\). The probability of a pair of users being hashed into the same bucket given their Jaccard similarity \\($s$\\) is:\n",
    "\n",
    "$$\n",
    "\\mathbb{P} = 1 - (1 - s^r)^b,\n",
    "$$\n",
    "\n",
    "where:\n",
    "\n",
    "- \\($b$)\\: Number of bands (splits in the signature matrix).\n",
    "- \\($r$)\\: Number of rows per band:\n",
    "$$r = \\frac{\\text{signature length}}{b}$$\n",
    "\n",
    "\n",
    "The **Jaccard Similarity** between users refers to the similarity between the sets of movies they have rated. We can visualize the effect of different banding configurations by plotting this probability for varying values of \\($b$\\):\n",
    "\n",
    "```python\n",
    "# Plot the probability of users being hashed into the same bucket as a function of their similarity\n",
    "plot_probability_curve(n=100, band_values=[5, 20, 25, 50]) "
   ]
  },
  {
   "cell_type": "code",
   "execution_count": 6,
   "metadata": {},
   "outputs": [
    {
     "data": {
      "image/png": "[encoded data removed]",
      "text/plain": [
       "<Figure size 1000x600 with 1 Axes>"
      ]
     },
     "metadata": {},
     "output_type": "display_data"
    }
   ],
   "source": [
    "# Example: Plot the probability curve\n",
    "plot_probability_curve(n=100, band_values=[5, 20, 25, 50])"
   ]
  },
  {
   "cell_type": "markdown",
   "metadata": {},
   "source": [
    "### **Probability Plot for MinHash Banding**\n",
    "\n",
    "This visualization shows the **probability of two users being hashed into the same bucket** as a function of their similarity $s$, based on different banding configurations in the MinHash algorithm.\n",
    "\n",
    "#### **Key Aspects**\n",
    "\n",
    "1. **Hash Functions ($n = 100$)**:\n",
    "   - The total number of hash functions used to generate the MinHash signatures is fixed at $n = 100$.\n",
    "\n",
    "2. **Banding Parameter ($b$)**:\n",
    "   - The curves represent different values of $b$ (number of bands).\n",
    "   - For example:\n",
    "     - $b = 5$: Larger number of rows per band ($r = n / b = 20$).\n",
    "     - $b = 50$: Smaller number of rows per band ($r = n / b = 2$).\n",
    "\n",
    "3. **Trade-off Between $b$ and $r$**:\n",
    "   - **Fewer bands ($b$) and more rows per band ($r$)**:\n",
    "     - The curve is steeper, requiring higher similarity for users to be hashed to the same bucket.\n",
    "     - Reduces false positives but increases false negatives.\n",
    "   - **More bands ($b$) and fewer rows per band ($r$)**:\n",
    "     - The curve is smoother, allowing even lower similarity pairs to hash into the same bucket.\n",
    "     - Increases false positives but reduces false negatives.\n",
    "\n",
    "4. **Interpretation of Similarity $s$**:\n",
    "   - $s = 0$: Probability is $0$, meaning users with no similarity will not hash to the same bucket.\n",
    "   - $s = 1$: Probability is $1$, meaning users with identical signatures will always hash to the same bucket.\n",
    "   - Intermediate $s$ values (e.g., $s = 0.4, 0.6$): The probability increases as similarity grows, depending on $b$ and $r$.\n",
    "\n",
    "5. **Use Case**:\n",
    "   - This plot helps determine the optimal $b$ and $r$ configuration based on the desired trade-off between false positives and false negatives.\n",
    "\n",
    "#### **Probability Formula**:\n",
    "The probability of a pair of users being hashed into the same bucket is given by:\n",
    "$$\n",
    "\\mathbb{P} = 1 - (1 - s^r)^b\n",
    "$$\n",
    "where:\n",
    "- $b$: Number of bands.\n",
    "- $r$: Number of rows per band $\\left(r = \\frac{\\text{signature length}}{b}\\right)$.\n",
    "\n",
    "#### **Recommendation**\n",
    "- For applications that require **high precision** (fewer false positives), choose configurations with fewer bands ($b = 5$ or $b = 10$).\n",
    "- For applications that tolerate **false positives** but emphasize capturing similar users, choose configurations with more bands ($b = 25$ or $b = 50$).\n",
    "\n",
    "---\n"
   ]
  },
  {
   "cell_type": "markdown",
   "metadata": {},
   "source": [
    "# 1.3.0 Locality-Sensitive Hashing (LSH)"
   ]
  },
  {
   "cell_type": "markdown",
   "metadata": {},
   "source": [
    "Our approach leverages Locality-Sensitive Hashing (LSH) with 200 hash functions to efficiently compute user similarities at scale. By generating compact signatures for each user, we dramatically reduce computational complexity from O(n²) to near-linear time.\n",
    "\n",
    "Key implementation details:\n",
    "\n",
    "1. 200 hash functions create robust user signatures\n",
    "2. Low average loss ensures high-quality similarity detection\n",
    "\n",
    "The LSH model transforms the Jaccard similarity computation among the 138,000 users of the dataset, reducing the complexity from O(n²) to O(num_bands $\\cdot$ rows_per_band + k) where:\n",
    "- **num_bands** is the number of bands the signature is divided into ;\n",
    "- **rows_per_band** is the number of rows per band (i.e., the length of each portion of the signature) ;\n",
    "- **k** is the number of candidate users found in the same matching buckets.\n",
    "\n",
    "This approach enables efficient analysis of the large-scale user network by minimizing computational overhead, preserving similarity patterns, and converting numerous pairwise comparisons into a fast approximation linear method."
   ]
  },
  {
   "cell_type": "code",
   "execution_count": 48,
   "metadata": {},
   "outputs": [
    {
     "name": "stdout",
     "output_type": "stream",
     "text": [
      "Help on class LSH in module libs.locality_sensitive_hashing:\n",
      "\n",
      "class LSH(builtins.object)\n",
      " |  LSH(num_bands: int, rows_per_band: int)\n",
      " |  \n",
      " |  Methods defined here:\n",
      " |  \n",
      " |  __init__(self, num_bands: int, rows_per_band: int)\n",
      " |      Initialize the Locality Sensitive Hashing (LSH) object.\n",
      " |      \n",
      " |      Args:\n",
      " |          num_bands (int): Number of bands to divide signatures into.\n",
      " |          rows_per_band (int): Number of rows (hash values) in each band.\n",
      " |  \n",
      " |  build_buckets(self, signatures: dict)\n",
      " |      Build hash buckets by dividing signatures into bands.\n",
      " |      \n",
      " |      This method populates the buckets with user IDs that have similar \n",
      " |      signature bands. It helps in quickly finding similar items by \n",
      " |      reducing the search space.\n",
      " |      \n",
      " |      Args:\n",
      " |          signatures (dict): Dictionary with user IDs as keys and signature arrays as values.\n",
      " |      Returns:\n",
      " |              None\n",
      " |  \n",
      " |  create_bucket_hash(self, band_idx, band_signature)\n",
      " |      Create a hash that generates a readable code.\n",
      " |      \n",
      " |      Returns:\n",
      " |          str: A unique hash code\n",
      " |  \n",
      " |  query(self, query_signature: list, query_user_id: int)\n",
      " |      Find candidate similar users using LSH buckets.\n",
      " |      \n",
      " |      This method identifies users with at least one matching signature band, \n",
      " |      providing potential similar candidates quickly.\n",
      " |      \n",
      " |      Args:\n",
      " |          query_signature (list): Signature array of the query user\n",
      " |          query_user_id (int): ID of the user making the query\n",
      " |      \n",
      " |      Returns:\n",
      " |          list: List of candidate user IDs similar to the query user\n",
      " |  \n",
      " |  view_buckets(self, num_buckets: int = 10)\n",
      " |      Display the contents of a specified number of random buckets.\n",
      " |      \n",
      " |      This method is useful for debugging and understanding \n",
      " |      how signatures are distributed across buckets.\n",
      " |      \n",
      " |      Args:\n",
      " |          num_buckets (int, optional): Number of random buckets to display. \n",
      " |      \n",
      " |      Returns:\n",
      " |          None\n",
      " |  \n",
      " |  ----------------------------------------------------------------------\n",
      " |  Data descriptors defined here:\n",
      " |  \n",
      " |  __dict__\n",
      " |      dictionary for instance variables (if defined)\n",
      " |  \n",
      " |  __weakref__\n",
      " |      list of weak references to the object (if defined)\n",
      "\n"
     ]
    }
   ],
   "source": [
    "from libs.locality_sensitive_hashing import LSH\n",
    "help(LSH)"
   ]
  },
  {
   "cell_type": "markdown",
   "metadata": {},
   "source": [
    "### Optimal number of Bands and Rows for 200 Hash Functions\n",
    "\n",
    "Given a signature matrix with **200 hash functions**, the total number of rows \\( n \\) is fixed at 200. The number of **bands (b)** and **rows per band (r)** must satisfy the equation:\n",
    "\n",
    "$ n = b \\times r $\n",
    "\n",
    "---\n",
    "\n",
    "#### Choosing the optimal numbers of bands and rows per band\n",
    "  **Balance False Positives and False Negatives:**  \n",
    "   - Fewer bands (b) and more rows per band (r) reduce false positives but increase false negatives;\n",
    "   - More bands and fewer rows per band reduce false negatives but increase false positives.\n",
    "\n",
    "We chose **10 bands** \\( b = 10 \\) and **20 rows per band** \\( r = 20 \\). Using fewer bands reduces the computational cost compared to configurations with more bands, while 20 rows per band ensures enough to reduce the impact of noise in the hash signatures.\n",
    "\n"
   ]
  },
  {
   "cell_type": "code",
   "execution_count": 49,
   "metadata": {},
   "outputs": [],
   "source": [
    "# Initialize LSH with 20 bands, 10 rows per band\n",
    "lsh_model = LSH(num_bands=20, rows_per_band=10)\n",
    "\n",
    "# Build buckets from signatures with 200 hash functions\n",
    "lsh_model.build_buckets(signatures_linear_200)"
   ]
  },
  {
   "cell_type": "markdown",
   "metadata": {},
   "source": [
    "1. **Bucket Creation**: For each user, we divide the MinHash signature into bands and hash each band to form buckets. Users with similar bands should fall into the same buckets;\n",
    "\n",
    "2. **Debug** : After creating buckets, we check bucket contents to verify that multiple users are being grouped in the same buckets."
   ]
  },
  {
   "cell_type": "code",
   "execution_count": 50,
   "metadata": {},
   "outputs": [
    {
     "name": "stdout",
     "output_type": "stream",
     "text": [
      "Bucket LSH-854377: [21037, 54416, 61013, 101655, 102880]\n",
      "Bucket LSH-529535: [85241, 87651]\n",
      "Bucket LSH-306645: [64202, 81289]\n",
      "Bucket LSH-889158: [8958, 36480, 101235, 114149]\n",
      "Bucket LSH-984886: [36760]\n",
      "Bucket LSH-348596: [20053, 22395, 26698, 83025, 136291]\n",
      "Bucket LSH-121376: [5391, 7445, 13782, 16824, 34603, 108874]\n",
      "Bucket LSH-644955: [26565, 50260, 99617]\n",
      "Bucket LSH-138853: [22939, 56813, 129226]\n",
      "Bucket LSH-400381: [8520, 9224, 20897, 22821, 115952]\n"
     ]
    }
   ],
   "source": [
    "# .view_buckets of LSH class show 10 random buckets and their respect contents\n",
    "lsh_model.view_buckets()"
   ]
  },
  {
   "cell_type": "markdown",
   "metadata": {},
   "source": [
    "<h3> <strong> Query: </strong> for a given user, identify the two most similar users based on their bucket placement </h3>\n"
   ]
  },
  {
   "cell_type": "code",
   "execution_count": 51,
   "metadata": {},
   "outputs": [
    {
     "name": "stdout",
     "output_type": "stream",
     "text": [
      "The two most similar users of user 137443 are: [25344, 43264]\n"
     ]
    }
   ],
   "source": [
    "import random\n",
    "\n",
    "# Randomly select a user ID\n",
    "user_id = random.randint(1, len(user_movies))\n",
    "\n",
    "# Get the query user's signature\n",
    "query_signature = signatures_linear_200[user_id]\n",
    "\n",
    "# Query for similar users using LSH\n",
    "similar_users = lsh_model.query(query_signature, user_id)\n",
    "\n",
    "# Sort the similar users by exact Jaccard similarity in descending order\n",
    "similar_users = sorted(similar_users, key=lambda x: exact_jaccard_similarity(signatures_linear_200[user_id], signatures_linear_200[x]), reverse=True)\n",
    "\n",
    "# Get the top 2 most similar users\n",
    "top_2_similar_users = similar_users[:2]\n",
    "\n",
    "print(f\"The two most similar users of user {user_id} are: {top_2_similar_users}\")"
   ]
  },
  {
   "cell_type": "markdown",
   "metadata": {},
   "source": [
    "<h3> <strong> Movie Recommendation Logic </strong> </h3>\n",
    "\n",
    "\n",
    "1. If both similar users have rated a movie, recommend this movie based on the average rating ;\n",
    "\n",
    "2. If there are no commonly rated movies, recommend the top-rated movies of the most similar user ;\n",
    "\n",
    "3. Final Recommendation: Provide at most five movies to the user."
   ]
  },
  {
   "cell_type": "code",
   "execution_count": 52,
   "metadata": {},
   "outputs": [
    {
     "data": {
      "text/html": [
       "<div>\n",
       "<style scoped>\n",
       "    .dataframe tbody tr th:only-of-type {\n",
       "        vertical-align: middle;\n",
       "    }\n",
       "\n",
       "    .dataframe tbody tr th {\n",
       "        vertical-align: top;\n",
       "    }\n",
       "\n",
       "    .dataframe thead th {\n",
       "        text-align: right;\n",
       "    }\n",
       "</style>\n",
       "<table border=\"1\" class=\"dataframe\">\n",
       "  <thead>\n",
       "    <tr style=\"text-align: right;\">\n",
       "      <th></th>\n",
       "      <th>userId</th>\n",
       "      <th>Movie Title</th>\n",
       "      <th>rating</th>\n",
       "    </tr>\n",
       "  </thead>\n",
       "  <tbody>\n",
       "    <tr>\n",
       "      <th>3722434</th>\n",
       "      <td>25344</td>\n",
       "      <td>Toy Story</td>\n",
       "      <td>4.0</td>\n",
       "    </tr>\n",
       "    <tr>\n",
       "      <th>3722435</th>\n",
       "      <td>25344</td>\n",
       "      <td>Jumanji</td>\n",
       "      <td>3.0</td>\n",
       "    </tr>\n",
       "    <tr>\n",
       "      <th>3722436</th>\n",
       "      <td>25344</td>\n",
       "      <td>Grumpier Old Men</td>\n",
       "      <td>4.0</td>\n",
       "    </tr>\n",
       "    <tr>\n",
       "      <th>3722437</th>\n",
       "      <td>25344</td>\n",
       "      <td>Heat</td>\n",
       "      <td>5.0</td>\n",
       "    </tr>\n",
       "    <tr>\n",
       "      <th>3722438</th>\n",
       "      <td>25344</td>\n",
       "      <td>GoldenEye</td>\n",
       "      <td>4.0</td>\n",
       "    </tr>\n",
       "    <tr>\n",
       "      <th>...</th>\n",
       "      <td>...</td>\n",
       "      <td>...</td>\n",
       "      <td>...</td>\n",
       "    </tr>\n",
       "    <tr>\n",
       "      <th>6298506</th>\n",
       "      <td>43264</td>\n",
       "      <td>Meet the Parents</td>\n",
       "      <td>5.0</td>\n",
       "    </tr>\n",
       "    <tr>\n",
       "      <th>6298507</th>\n",
       "      <td>43264</td>\n",
       "      <td>Bedazzled</td>\n",
       "      <td>4.0</td>\n",
       "    </tr>\n",
       "    <tr>\n",
       "      <th>6298508</th>\n",
       "      <td>43264</td>\n",
       "      <td>Pay It Forward</td>\n",
       "      <td>5.0</td>\n",
       "    </tr>\n",
       "    <tr>\n",
       "      <th>6298509</th>\n",
       "      <td>43264</td>\n",
       "      <td>Book of Shadows: Blair Witch 2</td>\n",
       "      <td>5.0</td>\n",
       "    </tr>\n",
       "    <tr>\n",
       "      <th>6298510</th>\n",
       "      <td>43264</td>\n",
       "      <td>Charlie's Angels</td>\n",
       "      <td>5.0</td>\n",
       "    </tr>\n",
       "  </tbody>\n",
       "</table>\n",
       "<p>661 rows × 3 columns</p>\n",
       "</div>"
      ],
      "text/plain": [
       "         userId                      Movie Title  rating\n",
       "3722434   25344                       Toy Story      4.0\n",
       "3722435   25344                         Jumanji      3.0\n",
       "3722436   25344                Grumpier Old Men      4.0\n",
       "3722437   25344                            Heat      5.0\n",
       "3722438   25344                       GoldenEye      4.0\n",
       "...         ...                              ...     ...\n",
       "6298506   43264                Meet the Parents      5.0\n",
       "6298507   43264                       Bedazzled      4.0\n",
       "6298508   43264                  Pay It Forward      5.0\n",
       "6298509   43264  Book of Shadows: Blair Witch 2      5.0\n",
       "6298510   43264                Charlie's Angels      5.0\n",
       "\n",
       "[661 rows x 3 columns]"
      ]
     },
     "execution_count": 52,
     "metadata": {},
     "output_type": "execute_result"
    }
   ],
   "source": [
    "# Filter the dataset by the two users similar to the query user ID\n",
    "filtered_ratings= rating_df[[\"userId\",\"Movie Title\",\"rating\"]].loc[rating_df[\"userId\"].isin(top_2_similar_users)]\n",
    "filtered_ratings"
   ]
  },
  {
   "cell_type": "code",
   "execution_count": 53,
   "metadata": {},
   "outputs": [
    {
     "name": "stdout",
     "output_type": "stream",
     "text": [
      "Common movies rated by both similar users:\n",
      "Common Movie: Gladiator  (average rating: 4.75)\n",
      "Common Movie: Bourne Identity, The  (average rating: 4.50)\n",
      "Common Movie: Pay It Forward  (average rating: 4.50)\n",
      "Common Movie: Schindler's List  (average rating: 4.50)\n",
      "Common Movie: Chocolat  (average rating: 4.25)\n"
     ]
    }
   ],
   "source": [
    "# Find movies rated by both similar users\n",
    "\n",
    "movies_rated_by_similar_users = filtered_ratings.groupby('Movie Title').filter(lambda x: len(x['userId'].isin(top_2_similar_users)) == 2)\n",
    "\n",
    "# Calculate average ratings for commonly rated movies\n",
    "average_ratings = movies_rated_by_similar_users.groupby('Movie Title')['rating'].mean()\n",
    "\n",
    "# Count the number of common movies to determine recommendation strategy\n",
    "num_movies=len(average_ratings)\n",
    "\n",
    "if average_ratings.empty:\n",
    "    # If no common movies, find the top-rated movies by each similar user\n",
    "    top_rated_by_user = filtered_ratings.loc[filtered_ratings.groupby('userId')['rating'].idxmax()]\n",
    "    print(\"No common movies rated by both users. Here are the top ratings per user:\")\n",
    "    print(top_rated_by_user)\n",
    "    num_movies=2 \n",
    "else:\n",
    "    # Print the top 5 common movies with their average ratings\n",
    "    print(\"Common movies rated by both similar users:\")\n",
    "    for movie, avg_rating in average_ratings.nlargest(5).items():  # Provide at most five movies to the user\n",
    "        print(f\"Common Movie: {movie} (average rating: {avg_rating:.2f})\")\n",
    "\n",
    "# Supplementary strategy if fewer than 5 common movies are found, complete the list using other high-rated movies by the most similar users.\n",
    "if num_movies < 5:\n",
    "     # Exclude the movies that have been rated the highest by each user\n",
    "    filtered_ratings_excluded = filtered_ratings[~filtered_ratings['Movie Title'].isin(top_rated_by_user['Movie Title'])]\n",
    "    # Calculate how many more movies are needed to reach 5\n",
    "    remaining_movies = 5 - num_movies\n",
    "     # Get the top-rated movies (by each user) from the remaining movies after exclusion\n",
    "    top_rated_by_user = filtered_ratings_excluded.loc[filtered_ratings_excluded.groupby('Movie Title')['rating'].idxmax()].sort_values('rating', ascending=False)\n",
    "\n",
    "    print(f\"Since there are only {num_movies} common movies, showing the top-rated movies from each user:\")\n",
    "    \n",
    "    for index in range(remaining_movies):\n",
    "        user_id, movie_title = list(dict(top_rated_by_user).keys())[index] \n",
    "        rating = list(dict(top_rated_by_user).values())[index]\n",
    "        print(f\"User {user_id} gave a rating of {rating:.2f} to the movie '{movie_title}'.\")"
   ]
  }
 ],
 "metadata": {
  "kernelspec": {
   "display_name": "3.11.6",
   "language": "python",
   "name": "python3"
  },
  "language_info": {
   "codemirror_mode": {
    "name": "ipython",
    "version": 3
   },
   "file_extension": ".py",
   "mimetype": "text/x-python",
   "name": "python",
   "nbconvert_exporter": "python",
   "pygments_lexer": "ipython3",
   "version": "3.11.6"
  }
 },
 "nbformat": 4,
 "nbformat_minor": 2
}
