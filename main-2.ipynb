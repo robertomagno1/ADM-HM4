{
 "cells": [
  {
   "cell_type": "markdown",
   "metadata": {},
   "source": [
    "# **Algorithmic Methods for Data Mining: Homework 4**\n",
    "\n",
    "**Author:** Roberto Magno Mazzotta , Gabriel Pinos\n",
    "\n",
    "*MSc. in Data Science, Sapienza University of Rome*\n",
    "\n",
    "\n",
    "## **0. Uploading the Classes and Modules**\n",
    "\n",
    "Before doing any kind of analysis it is necessary to upload both the relevant Classes and Modules we will use to work."
   ]
  },
  {
   "cell_type": "code",
   "execution_count": 1,
   "metadata": {},
   "outputs": [],
   "source": [
    "import pandas as pd\n",
    "import numpy as np\n",
    "import matplotlib.pyplot as plt\n",
    "import seaborn as sns\n",
    "\n",
    "# Paths to datasets\n",
    "path = \"/Users/roberto/Desktop/HM4-ADM/datasets\"\n",
    "tag_df = pd.read_csv(f\"{path}/tag.csv\")\n",
    "rating_df = pd.read_csv(f\"{path}/rating.csv\")\n",
    "movie_df = pd.read_csv(f\"{path}/movie.csv\")\n",
    "link_df = pd.read_csv(f\"{path}/link.csv\")\n",
    "genome_scores_df = pd.read_csv(f\"{path}/genome_scores.csv\")\n",
    "genome_tags_df = pd.read_csv(f\"{path}/genome_tags.csv\")"
   ]
  },
  {
   "cell_type": "markdown",
   "metadata": {},
   "source": [
    "\n",
    "\n",
    "## **1. Recommendation System**\n",
    "\n",
    "In this homework, we were asked to implement our version of the [LSH algorithm](https://www.learndatasci.com/tutorials/building-recommendation-engine-locality-sensitive-hashing-lsh-python/), which will take as input a user's preferred genre of movies, find the most similar users to this user, and recommend the most watched movies by those who are more similar to the user.\n",
    "\n",
    "### **1.1. The Dataset**\n",
    "\n",
    "We were provided with a [dataset](https://www.kaggle.com/datasets/grouplens/movielens-20m-dataset?select=rating.csv) that describe ratings and free-text tagging activities from MovieLens, a movie recommendation service. \n",
    "\n",
    "It contains 20000263 ratings and 465564 tag applications across 27278 movies. These data were created by 138493 users between January 09, 1995 and March 31, 2015. This dataset was generated on October 17, 2016."
   ]
  },
  {
   "cell_type": "markdown",
   "metadata": {},
   "source": [
    "\n",
    "The data are contained in six files.\n",
    "\n",
    "\n",
    "- **tag.csv**: contains tags applied to movies by users:\n",
    "    >- userId\n",
    "    >- movieId\n",
    "    >- tag\n",
    "    >- timestamp\n",
    "\n",
    "- **rating.csv**: contains ratings of movies by users:\n",
    "    >- userId\n",
    "    >- movieId\n",
    "    >- rating\n",
    "    >- timestamp\n",
    "\n",
    "- **movie.csv**: contains movie information:\n",
    "    >- movieId\n",
    "    >- title\n",
    "    >- genres\n",
    "\n",
    "- **link.csv**: contains identifiers that can be used to link to other sources:\n",
    "    >- movieId\n",
    "    >- imdbId\n",
    "    >- tmbdId\n",
    "\n",
    "- **genome_scores.csv**: contains movie-tag relevance data:\n",
    "    >- movieId\n",
    "    >- tagId\n",
    "    >- relevance\n",
    "- **genome_tags.csv**: contains tag descriptions:\n",
    "    >- tagId\n",
    "    >- tag\n",
    "\n"
   ]
  },
  {
   "cell_type": "code",
   "execution_count": 2,
   "metadata": {},
   "outputs": [
    {
     "data": {
      "text/plain": [
       "'Tags Dataset:\\n'"
      ]
     },
     "metadata": {},
     "output_type": "display_data"
    },
    {
     "data": {
      "text/html": [
       "<div>\n",
       "<style scoped>\n",
       "    .dataframe tbody tr th:only-of-type {\n",
       "        vertical-align: middle;\n",
       "    }\n",
       "\n",
       "    .dataframe tbody tr th {\n",
       "        vertical-align: top;\n",
       "    }\n",
       "\n",
       "    .dataframe thead th {\n",
       "        text-align: right;\n",
       "    }\n",
       "</style>\n",
       "<table border=\"1\" class=\"dataframe\">\n",
       "  <thead>\n",
       "    <tr style=\"text-align: right;\">\n",
       "      <th></th>\n",
       "      <th>userId</th>\n",
       "      <th>movieId</th>\n",
       "      <th>tag</th>\n",
       "      <th>timestamp</th>\n",
       "    </tr>\n",
       "  </thead>\n",
       "  <tbody>\n",
       "    <tr>\n",
       "      <th>0</th>\n",
       "      <td>18</td>\n",
       "      <td>4141</td>\n",
       "      <td>Mark Waters</td>\n",
       "      <td>2009-04-24 18:19:40</td>\n",
       "    </tr>\n",
       "    <tr>\n",
       "      <th>1</th>\n",
       "      <td>65</td>\n",
       "      <td>208</td>\n",
       "      <td>dark hero</td>\n",
       "      <td>2013-05-10 01:41:18</td>\n",
       "    </tr>\n",
       "    <tr>\n",
       "      <th>2</th>\n",
       "      <td>65</td>\n",
       "      <td>353</td>\n",
       "      <td>dark hero</td>\n",
       "      <td>2013-05-10 01:41:19</td>\n",
       "    </tr>\n",
       "    <tr>\n",
       "      <th>3</th>\n",
       "      <td>65</td>\n",
       "      <td>521</td>\n",
       "      <td>noir thriller</td>\n",
       "      <td>2013-05-10 01:39:43</td>\n",
       "    </tr>\n",
       "    <tr>\n",
       "      <th>4</th>\n",
       "      <td>65</td>\n",
       "      <td>592</td>\n",
       "      <td>dark hero</td>\n",
       "      <td>2013-05-10 01:41:18</td>\n",
       "    </tr>\n",
       "  </tbody>\n",
       "</table>\n",
       "</div>"
      ],
      "text/plain": [
       "   userId  movieId            tag            timestamp\n",
       "0      18     4141    Mark Waters  2009-04-24 18:19:40\n",
       "1      65      208      dark hero  2013-05-10 01:41:18\n",
       "2      65      353      dark hero  2013-05-10 01:41:19\n",
       "3      65      521  noir thriller  2013-05-10 01:39:43\n",
       "4      65      592      dark hero  2013-05-10 01:41:18"
      ]
     },
     "metadata": {},
     "output_type": "display_data"
    },
    {
     "data": {
      "text/plain": [
       "'Ratings Dataset:\\n'"
      ]
     },
     "metadata": {},
     "output_type": "display_data"
    },
    {
     "data": {
      "text/html": [
       "<div>\n",
       "<style scoped>\n",
       "    .dataframe tbody tr th:only-of-type {\n",
       "        vertical-align: middle;\n",
       "    }\n",
       "\n",
       "    .dataframe tbody tr th {\n",
       "        vertical-align: top;\n",
       "    }\n",
       "\n",
       "    .dataframe thead th {\n",
       "        text-align: right;\n",
       "    }\n",
       "</style>\n",
       "<table border=\"1\" class=\"dataframe\">\n",
       "  <thead>\n",
       "    <tr style=\"text-align: right;\">\n",
       "      <th></th>\n",
       "      <th>userId</th>\n",
       "      <th>movieId</th>\n",
       "      <th>rating</th>\n",
       "      <th>timestamp</th>\n",
       "    </tr>\n",
       "  </thead>\n",
       "  <tbody>\n",
       "    <tr>\n",
       "      <th>0</th>\n",
       "      <td>1</td>\n",
       "      <td>2</td>\n",
       "      <td>3.5</td>\n",
       "      <td>2005-04-02 23:53:47</td>\n",
       "    </tr>\n",
       "    <tr>\n",
       "      <th>1</th>\n",
       "      <td>1</td>\n",
       "      <td>29</td>\n",
       "      <td>3.5</td>\n",
       "      <td>2005-04-02 23:31:16</td>\n",
       "    </tr>\n",
       "    <tr>\n",
       "      <th>2</th>\n",
       "      <td>1</td>\n",
       "      <td>32</td>\n",
       "      <td>3.5</td>\n",
       "      <td>2005-04-02 23:33:39</td>\n",
       "    </tr>\n",
       "    <tr>\n",
       "      <th>3</th>\n",
       "      <td>1</td>\n",
       "      <td>47</td>\n",
       "      <td>3.5</td>\n",
       "      <td>2005-04-02 23:32:07</td>\n",
       "    </tr>\n",
       "    <tr>\n",
       "      <th>4</th>\n",
       "      <td>1</td>\n",
       "      <td>50</td>\n",
       "      <td>3.5</td>\n",
       "      <td>2005-04-02 23:29:40</td>\n",
       "    </tr>\n",
       "  </tbody>\n",
       "</table>\n",
       "</div>"
      ],
      "text/plain": [
       "   userId  movieId  rating            timestamp\n",
       "0       1        2     3.5  2005-04-02 23:53:47\n",
       "1       1       29     3.5  2005-04-02 23:31:16\n",
       "2       1       32     3.5  2005-04-02 23:33:39\n",
       "3       1       47     3.5  2005-04-02 23:32:07\n",
       "4       1       50     3.5  2005-04-02 23:29:40"
      ]
     },
     "metadata": {},
     "output_type": "display_data"
    },
    {
     "data": {
      "text/plain": [
       "'Movies Dataset:\\n'"
      ]
     },
     "metadata": {},
     "output_type": "display_data"
    },
    {
     "data": {
      "text/html": [
       "<div>\n",
       "<style scoped>\n",
       "    .dataframe tbody tr th:only-of-type {\n",
       "        vertical-align: middle;\n",
       "    }\n",
       "\n",
       "    .dataframe tbody tr th {\n",
       "        vertical-align: top;\n",
       "    }\n",
       "\n",
       "    .dataframe thead th {\n",
       "        text-align: right;\n",
       "    }\n",
       "</style>\n",
       "<table border=\"1\" class=\"dataframe\">\n",
       "  <thead>\n",
       "    <tr style=\"text-align: right;\">\n",
       "      <th></th>\n",
       "      <th>movieId</th>\n",
       "      <th>title</th>\n",
       "      <th>genres</th>\n",
       "    </tr>\n",
       "  </thead>\n",
       "  <tbody>\n",
       "    <tr>\n",
       "      <th>0</th>\n",
       "      <td>1</td>\n",
       "      <td>Toy Story (1995)</td>\n",
       "      <td>Adventure|Animation|Children|Comedy|Fantasy</td>\n",
       "    </tr>\n",
       "    <tr>\n",
       "      <th>1</th>\n",
       "      <td>2</td>\n",
       "      <td>Jumanji (1995)</td>\n",
       "      <td>Adventure|Children|Fantasy</td>\n",
       "    </tr>\n",
       "    <tr>\n",
       "      <th>2</th>\n",
       "      <td>3</td>\n",
       "      <td>Grumpier Old Men (1995)</td>\n",
       "      <td>Comedy|Romance</td>\n",
       "    </tr>\n",
       "    <tr>\n",
       "      <th>3</th>\n",
       "      <td>4</td>\n",
       "      <td>Waiting to Exhale (1995)</td>\n",
       "      <td>Comedy|Drama|Romance</td>\n",
       "    </tr>\n",
       "    <tr>\n",
       "      <th>4</th>\n",
       "      <td>5</td>\n",
       "      <td>Father of the Bride Part II (1995)</td>\n",
       "      <td>Comedy</td>\n",
       "    </tr>\n",
       "  </tbody>\n",
       "</table>\n",
       "</div>"
      ],
      "text/plain": [
       "   movieId                               title  \\\n",
       "0        1                    Toy Story (1995)   \n",
       "1        2                      Jumanji (1995)   \n",
       "2        3             Grumpier Old Men (1995)   \n",
       "3        4            Waiting to Exhale (1995)   \n",
       "4        5  Father of the Bride Part II (1995)   \n",
       "\n",
       "                                        genres  \n",
       "0  Adventure|Animation|Children|Comedy|Fantasy  \n",
       "1                   Adventure|Children|Fantasy  \n",
       "2                               Comedy|Romance  \n",
       "3                         Comedy|Drama|Romance  \n",
       "4                                       Comedy  "
      ]
     },
     "metadata": {},
     "output_type": "display_data"
    },
    {
     "data": {
      "text/plain": [
       "'Links Dataset:\\n'"
      ]
     },
     "metadata": {},
     "output_type": "display_data"
    },
    {
     "data": {
      "text/html": [
       "<div>\n",
       "<style scoped>\n",
       "    .dataframe tbody tr th:only-of-type {\n",
       "        vertical-align: middle;\n",
       "    }\n",
       "\n",
       "    .dataframe tbody tr th {\n",
       "        vertical-align: top;\n",
       "    }\n",
       "\n",
       "    .dataframe thead th {\n",
       "        text-align: right;\n",
       "    }\n",
       "</style>\n",
       "<table border=\"1\" class=\"dataframe\">\n",
       "  <thead>\n",
       "    <tr style=\"text-align: right;\">\n",
       "      <th></th>\n",
       "      <th>movieId</th>\n",
       "      <th>imdbId</th>\n",
       "      <th>tmdbId</th>\n",
       "    </tr>\n",
       "  </thead>\n",
       "  <tbody>\n",
       "    <tr>\n",
       "      <th>0</th>\n",
       "      <td>1</td>\n",
       "      <td>114709</td>\n",
       "      <td>862.0</td>\n",
       "    </tr>\n",
       "    <tr>\n",
       "      <th>1</th>\n",
       "      <td>2</td>\n",
       "      <td>113497</td>\n",
       "      <td>8844.0</td>\n",
       "    </tr>\n",
       "    <tr>\n",
       "      <th>2</th>\n",
       "      <td>3</td>\n",
       "      <td>113228</td>\n",
       "      <td>15602.0</td>\n",
       "    </tr>\n",
       "    <tr>\n",
       "      <th>3</th>\n",
       "      <td>4</td>\n",
       "      <td>114885</td>\n",
       "      <td>31357.0</td>\n",
       "    </tr>\n",
       "    <tr>\n",
       "      <th>4</th>\n",
       "      <td>5</td>\n",
       "      <td>113041</td>\n",
       "      <td>11862.0</td>\n",
       "    </tr>\n",
       "  </tbody>\n",
       "</table>\n",
       "</div>"
      ],
      "text/plain": [
       "   movieId  imdbId   tmdbId\n",
       "0        1  114709    862.0\n",
       "1        2  113497   8844.0\n",
       "2        3  113228  15602.0\n",
       "3        4  114885  31357.0\n",
       "4        5  113041  11862.0"
      ]
     },
     "metadata": {},
     "output_type": "display_data"
    },
    {
     "data": {
      "text/plain": [
       "'Genome Scores Dataset:\\n'"
      ]
     },
     "metadata": {},
     "output_type": "display_data"
    },
    {
     "data": {
      "text/html": [
       "<div>\n",
       "<style scoped>\n",
       "    .dataframe tbody tr th:only-of-type {\n",
       "        vertical-align: middle;\n",
       "    }\n",
       "\n",
       "    .dataframe tbody tr th {\n",
       "        vertical-align: top;\n",
       "    }\n",
       "\n",
       "    .dataframe thead th {\n",
       "        text-align: right;\n",
       "    }\n",
       "</style>\n",
       "<table border=\"1\" class=\"dataframe\">\n",
       "  <thead>\n",
       "    <tr style=\"text-align: right;\">\n",
       "      <th></th>\n",
       "      <th>movieId</th>\n",
       "      <th>tagId</th>\n",
       "      <th>relevance</th>\n",
       "    </tr>\n",
       "  </thead>\n",
       "  <tbody>\n",
       "    <tr>\n",
       "      <th>0</th>\n",
       "      <td>1</td>\n",
       "      <td>1</td>\n",
       "      <td>0.02500</td>\n",
       "    </tr>\n",
       "    <tr>\n",
       "      <th>1</th>\n",
       "      <td>1</td>\n",
       "      <td>2</td>\n",
       "      <td>0.02500</td>\n",
       "    </tr>\n",
       "    <tr>\n",
       "      <th>2</th>\n",
       "      <td>1</td>\n",
       "      <td>3</td>\n",
       "      <td>0.05775</td>\n",
       "    </tr>\n",
       "    <tr>\n",
       "      <th>3</th>\n",
       "      <td>1</td>\n",
       "      <td>4</td>\n",
       "      <td>0.09675</td>\n",
       "    </tr>\n",
       "    <tr>\n",
       "      <th>4</th>\n",
       "      <td>1</td>\n",
       "      <td>5</td>\n",
       "      <td>0.14675</td>\n",
       "    </tr>\n",
       "  </tbody>\n",
       "</table>\n",
       "</div>"
      ],
      "text/plain": [
       "   movieId  tagId  relevance\n",
       "0        1      1    0.02500\n",
       "1        1      2    0.02500\n",
       "2        1      3    0.05775\n",
       "3        1      4    0.09675\n",
       "4        1      5    0.14675"
      ]
     },
     "metadata": {},
     "output_type": "display_data"
    },
    {
     "data": {
      "text/plain": [
       "'Genome Tags Dataset:\\n'"
      ]
     },
     "metadata": {},
     "output_type": "display_data"
    },
    {
     "data": {
      "text/html": [
       "<div>\n",
       "<style scoped>\n",
       "    .dataframe tbody tr th:only-of-type {\n",
       "        vertical-align: middle;\n",
       "    }\n",
       "\n",
       "    .dataframe tbody tr th {\n",
       "        vertical-align: top;\n",
       "    }\n",
       "\n",
       "    .dataframe thead th {\n",
       "        text-align: right;\n",
       "    }\n",
       "</style>\n",
       "<table border=\"1\" class=\"dataframe\">\n",
       "  <thead>\n",
       "    <tr style=\"text-align: right;\">\n",
       "      <th></th>\n",
       "      <th>tagId</th>\n",
       "      <th>tag</th>\n",
       "    </tr>\n",
       "  </thead>\n",
       "  <tbody>\n",
       "    <tr>\n",
       "      <th>0</th>\n",
       "      <td>1</td>\n",
       "      <td>007</td>\n",
       "    </tr>\n",
       "    <tr>\n",
       "      <th>1</th>\n",
       "      <td>2</td>\n",
       "      <td>007 (series)</td>\n",
       "    </tr>\n",
       "    <tr>\n",
       "      <th>2</th>\n",
       "      <td>3</td>\n",
       "      <td>18th century</td>\n",
       "    </tr>\n",
       "    <tr>\n",
       "      <th>3</th>\n",
       "      <td>4</td>\n",
       "      <td>1920s</td>\n",
       "    </tr>\n",
       "    <tr>\n",
       "      <th>4</th>\n",
       "      <td>5</td>\n",
       "      <td>1930s</td>\n",
       "    </tr>\n",
       "  </tbody>\n",
       "</table>\n",
       "</div>"
      ],
      "text/plain": [
       "   tagId           tag\n",
       "0      1           007\n",
       "1      2  007 (series)\n",
       "2      3  18th century\n",
       "3      4         1920s\n",
       "4      5         1930s"
      ]
     },
     "metadata": {},
     "output_type": "display_data"
    }
   ],
   "source": [
    "# Inspect datasets\n",
    "display(\"Tags Dataset:\\n\", tag_df.head())\n",
    "display(\"Ratings Dataset:\\n\", rating_df.head())\n",
    "display(\"Movies Dataset:\\n\", movie_df.head())\n",
    "display(\"Links Dataset:\\n\", link_df.head())\n",
    "display(\"Genome Scores Dataset:\\n\", genome_scores_df.head())\n",
    "display(\"Genome Tags Dataset:\\n\", genome_tags_df.head())"
   ]
  },
  {
   "cell_type": "markdown",
   "metadata": {},
   "source": [
    "## Preprocess the dataset "
   ]
  },
  {
   "cell_type": "code",
   "execution_count": 3,
   "metadata": {},
   "outputs": [],
   "source": [
    "import pandas as pd\n",
    "\n",
    "# Preprocess Tags\n",
    "tag_df['tag'] = tag_df['tag'].fillna('No Tag')  # Fill missing tags\n",
    "tag_df['timestamp'] = pd.to_datetime(tag_df['timestamp'])  # Convert timestamp to datetime\n",
    "\n",
    "# Preprocess Ratings\n",
    "rating_df['timestamp'] = pd.to_datetime(rating_df['timestamp'])  # Convert timestamp to datetime\n",
    "\n",
    "# Preprocess Movies\n",
    "movie_df['genres'] = movie_df['genres'].fillna('Unknown')  # Fill missing genres\n",
    "movie_df['year'] = movie_df['title'].str.extract(r'\\((\\d{4})\\)').astype(float)  # Extract year\n",
    "movie_df['genres'] = movie_df['genres'].str.split('|')  # Split genres into lists\n",
    "\n",
    "# Preprocess Links\n",
    "link_df = link_df.fillna(0)  # Fill missing external IDs\n",
    "\n",
    "# Preprocess Genome Scores\n",
    "genome_scores_df = genome_scores_df.fillna(0)  # Fill missing values\n",
    "\n",
    "# Preprocess Genome Tags\n",
    "genome_tags_df['tag'] = genome_tags_df['tag'].fillna('No Tag')  # Fill missing tags"
   ]
  },
  {
   "cell_type": "markdown",
   "metadata": {},
   "source": [
    "### Maybe will remove from here up to cell 18'"
   ]
  },
  {
   "cell_type": "markdown",
   "metadata": {},
   "source": [
    " #### **Preprocess rating_df**\n",
    "> -\tConvert timestamp to datetime format."
   ]
  },
  {
   "cell_type": "code",
   "execution_count": 17,
   "metadata": {},
   "outputs": [
    {
     "name": "stdout",
     "output_type": "stream",
     "text": [
      "Tag Dataset After Preprocessing:\n",
      "<class 'pandas.core.frame.DataFrame'>\n",
      "RangeIndex: 465564 entries, 0 to 465563\n",
      "Data columns (total 4 columns):\n",
      " #   Column     Non-Null Count   Dtype         \n",
      "---  ------     --------------   -----         \n",
      " 0   userId     465564 non-null  int64         \n",
      " 1   movieId    465564 non-null  int64         \n",
      " 2   tag        465564 non-null  object        \n",
      " 3   timestamp  465564 non-null  datetime64[ns]\n",
      "dtypes: datetime64[ns](1), int64(2), object(1)\n",
      "memory usage: 14.2+ MB\n"
     ]
    },
    {
     "data": {
      "text/plain": [
       "None"
      ]
     },
     "metadata": {},
     "output_type": "display_data"
    },
    {
     "data": {
      "text/html": [
       "<div>\n",
       "<style scoped>\n",
       "    .dataframe tbody tr th:only-of-type {\n",
       "        vertical-align: middle;\n",
       "    }\n",
       "\n",
       "    .dataframe tbody tr th {\n",
       "        vertical-align: top;\n",
       "    }\n",
       "\n",
       "    .dataframe thead th {\n",
       "        text-align: right;\n",
       "    }\n",
       "</style>\n",
       "<table border=\"1\" class=\"dataframe\">\n",
       "  <thead>\n",
       "    <tr style=\"text-align: right;\">\n",
       "      <th></th>\n",
       "      <th>userId</th>\n",
       "      <th>movieId</th>\n",
       "      <th>tag</th>\n",
       "      <th>timestamp</th>\n",
       "    </tr>\n",
       "  </thead>\n",
       "  <tbody>\n",
       "    <tr>\n",
       "      <th>0</th>\n",
       "      <td>18</td>\n",
       "      <td>4141</td>\n",
       "      <td>Mark Waters</td>\n",
       "      <td>2009-04-24 18:19:40</td>\n",
       "    </tr>\n",
       "    <tr>\n",
       "      <th>1</th>\n",
       "      <td>65</td>\n",
       "      <td>208</td>\n",
       "      <td>dark hero</td>\n",
       "      <td>2013-05-10 01:41:18</td>\n",
       "    </tr>\n",
       "    <tr>\n",
       "      <th>2</th>\n",
       "      <td>65</td>\n",
       "      <td>353</td>\n",
       "      <td>dark hero</td>\n",
       "      <td>2013-05-10 01:41:19</td>\n",
       "    </tr>\n",
       "    <tr>\n",
       "      <th>3</th>\n",
       "      <td>65</td>\n",
       "      <td>521</td>\n",
       "      <td>noir thriller</td>\n",
       "      <td>2013-05-10 01:39:43</td>\n",
       "    </tr>\n",
       "    <tr>\n",
       "      <th>4</th>\n",
       "      <td>65</td>\n",
       "      <td>592</td>\n",
       "      <td>dark hero</td>\n",
       "      <td>2013-05-10 01:41:18</td>\n",
       "    </tr>\n",
       "  </tbody>\n",
       "</table>\n",
       "</div>"
      ],
      "text/plain": [
       "   userId  movieId            tag           timestamp\n",
       "0      18     4141    Mark Waters 2009-04-24 18:19:40\n",
       "1      65      208      dark hero 2013-05-10 01:41:18\n",
       "2      65      353      dark hero 2013-05-10 01:41:19\n",
       "3      65      521  noir thriller 2013-05-10 01:39:43\n",
       "4      65      592      dark hero 2013-05-10 01:41:18"
      ]
     },
     "metadata": {},
     "output_type": "display_data"
    }
   ],
   "source": [
    "# Preprocess Tags\n",
    "tag_df['tag'] = tag_df['tag'].fillna('No Tag')  # Fill missing tags\n",
    "tag_df['timestamp'] = pd.to_datetime(tag_df['timestamp'])  # Convert timestamp to datetime\n",
    "\n",
    "print(\"Tag Dataset After Preprocessing:\")\n",
    "display(tag_df.info())\n",
    "display(tag_df.head())"
   ]
  },
  {
   "cell_type": "markdown",
   "metadata": {},
   "source": [
    "#### **Preprocess movie_df**\n",
    "> -\tFill missing values in genres with “Unknown”.\n",
    "> -\tExtract year from title.\n",
    "> -\tSplit genres into a list."
   ]
  },
  {
   "cell_type": "code",
   "execution_count": 9,
   "metadata": {},
   "outputs": [
    {
     "name": "stdout",
     "output_type": "stream",
     "text": [
      "Movie Dataset After Preprocessing:\n",
      "<class 'pandas.core.frame.DataFrame'>\n",
      "RangeIndex: 27278 entries, 0 to 27277\n",
      "Data columns (total 4 columns):\n",
      " #   Column   Non-Null Count  Dtype  \n",
      "---  ------   --------------  -----  \n",
      " 0   movieId  27278 non-null  int64  \n",
      " 1   title    27278 non-null  object \n",
      " 2   genres   0 non-null      float64\n",
      " 3   year     27256 non-null  float64\n",
      "dtypes: float64(2), int64(1), object(1)\n",
      "memory usage: 852.6+ KB\n"
     ]
    },
    {
     "data": {
      "text/plain": [
       "None"
      ]
     },
     "metadata": {},
     "output_type": "display_data"
    },
    {
     "data": {
      "text/html": [
       "<div>\n",
       "<style scoped>\n",
       "    .dataframe tbody tr th:only-of-type {\n",
       "        vertical-align: middle;\n",
       "    }\n",
       "\n",
       "    .dataframe tbody tr th {\n",
       "        vertical-align: top;\n",
       "    }\n",
       "\n",
       "    .dataframe thead th {\n",
       "        text-align: right;\n",
       "    }\n",
       "</style>\n",
       "<table border=\"1\" class=\"dataframe\">\n",
       "  <thead>\n",
       "    <tr style=\"text-align: right;\">\n",
       "      <th></th>\n",
       "      <th>movieId</th>\n",
       "      <th>title</th>\n",
       "      <th>genres</th>\n",
       "      <th>year</th>\n",
       "    </tr>\n",
       "  </thead>\n",
       "  <tbody>\n",
       "    <tr>\n",
       "      <th>0</th>\n",
       "      <td>1</td>\n",
       "      <td>Toy Story (1995)</td>\n",
       "      <td>NaN</td>\n",
       "      <td>1995.0</td>\n",
       "    </tr>\n",
       "    <tr>\n",
       "      <th>1</th>\n",
       "      <td>2</td>\n",
       "      <td>Jumanji (1995)</td>\n",
       "      <td>NaN</td>\n",
       "      <td>1995.0</td>\n",
       "    </tr>\n",
       "    <tr>\n",
       "      <th>2</th>\n",
       "      <td>3</td>\n",
       "      <td>Grumpier Old Men (1995)</td>\n",
       "      <td>NaN</td>\n",
       "      <td>1995.0</td>\n",
       "    </tr>\n",
       "    <tr>\n",
       "      <th>3</th>\n",
       "      <td>4</td>\n",
       "      <td>Waiting to Exhale (1995)</td>\n",
       "      <td>NaN</td>\n",
       "      <td>1995.0</td>\n",
       "    </tr>\n",
       "    <tr>\n",
       "      <th>4</th>\n",
       "      <td>5</td>\n",
       "      <td>Father of the Bride Part II (1995)</td>\n",
       "      <td>NaN</td>\n",
       "      <td>1995.0</td>\n",
       "    </tr>\n",
       "  </tbody>\n",
       "</table>\n",
       "</div>"
      ],
      "text/plain": [
       "   movieId                               title  genres    year\n",
       "0        1                    Toy Story (1995)     NaN  1995.0\n",
       "1        2                      Jumanji (1995)     NaN  1995.0\n",
       "2        3             Grumpier Old Men (1995)     NaN  1995.0\n",
       "3        4            Waiting to Exhale (1995)     NaN  1995.0\n",
       "4        5  Father of the Bride Part II (1995)     NaN  1995.0"
      ]
     },
     "metadata": {},
     "output_type": "display_data"
    }
   ],
   "source": [
    "# Preprocess Movies\n",
    "movie_df['genres'] = movie_df['genres'].fillna('Unknown')  # Fill missing genres\n",
    "movie_df['year'] = movie_df['title'].str.extract(r'\\((\\d{4})\\)').astype(float)  # Extract year\n",
    "movie_df['genres'] = movie_df['genres'].str.split('|')  # Split genres into lists\n",
    "\n",
    "print(\"Movie Dataset After Preprocessing:\")\n",
    "display(movie_df.info())\n",
    "display(movie_df.head())"
   ]
  },
  {
   "cell_type": "markdown",
   "metadata": {},
   "source": [
    "####  **Preprocess link_df**\n",
    "> - Fill missing values in imdbId and tmdbId."
   ]
  },
  {
   "cell_type": "code",
   "execution_count": 10,
   "metadata": {},
   "outputs": [
    {
     "name": "stdout",
     "output_type": "stream",
     "text": [
      "Link Dataset After Preprocessing:\n",
      "<class 'pandas.core.frame.DataFrame'>\n",
      "RangeIndex: 27278 entries, 0 to 27277\n",
      "Data columns (total 3 columns):\n",
      " #   Column   Non-Null Count  Dtype  \n",
      "---  ------   --------------  -----  \n",
      " 0   movieId  27278 non-null  int64  \n",
      " 1   imdbId   27278 non-null  int64  \n",
      " 2   tmdbId   27278 non-null  float64\n",
      "dtypes: float64(1), int64(2)\n",
      "memory usage: 639.5 KB\n"
     ]
    },
    {
     "data": {
      "text/plain": [
       "None"
      ]
     },
     "metadata": {},
     "output_type": "display_data"
    },
    {
     "data": {
      "text/html": [
       "<div>\n",
       "<style scoped>\n",
       "    .dataframe tbody tr th:only-of-type {\n",
       "        vertical-align: middle;\n",
       "    }\n",
       "\n",
       "    .dataframe tbody tr th {\n",
       "        vertical-align: top;\n",
       "    }\n",
       "\n",
       "    .dataframe thead th {\n",
       "        text-align: right;\n",
       "    }\n",
       "</style>\n",
       "<table border=\"1\" class=\"dataframe\">\n",
       "  <thead>\n",
       "    <tr style=\"text-align: right;\">\n",
       "      <th></th>\n",
       "      <th>movieId</th>\n",
       "      <th>imdbId</th>\n",
       "      <th>tmdbId</th>\n",
       "    </tr>\n",
       "  </thead>\n",
       "  <tbody>\n",
       "    <tr>\n",
       "      <th>0</th>\n",
       "      <td>1</td>\n",
       "      <td>114709</td>\n",
       "      <td>862.0</td>\n",
       "    </tr>\n",
       "    <tr>\n",
       "      <th>1</th>\n",
       "      <td>2</td>\n",
       "      <td>113497</td>\n",
       "      <td>8844.0</td>\n",
       "    </tr>\n",
       "    <tr>\n",
       "      <th>2</th>\n",
       "      <td>3</td>\n",
       "      <td>113228</td>\n",
       "      <td>15602.0</td>\n",
       "    </tr>\n",
       "    <tr>\n",
       "      <th>3</th>\n",
       "      <td>4</td>\n",
       "      <td>114885</td>\n",
       "      <td>31357.0</td>\n",
       "    </tr>\n",
       "    <tr>\n",
       "      <th>4</th>\n",
       "      <td>5</td>\n",
       "      <td>113041</td>\n",
       "      <td>11862.0</td>\n",
       "    </tr>\n",
       "  </tbody>\n",
       "</table>\n",
       "</div>"
      ],
      "text/plain": [
       "   movieId  imdbId   tmdbId\n",
       "0        1  114709    862.0\n",
       "1        2  113497   8844.0\n",
       "2        3  113228  15602.0\n",
       "3        4  114885  31357.0\n",
       "4        5  113041  11862.0"
      ]
     },
     "metadata": {},
     "output_type": "display_data"
    }
   ],
   "source": [
    "# Preprocess Links\n",
    "link_df = link_df.fillna(0)  # Fill missing external IDs\n",
    "\n",
    "print(\"Link Dataset After Preprocessing:\")\n",
    "display(link_df.info())\n",
    "display(link_df.head())"
   ]
  },
  {
   "cell_type": "markdown",
   "metadata": {},
   "source": [
    "####  **Preprocess genome_scores_df**\n",
    "> - Fill missing values in relevance."
   ]
  },
  {
   "cell_type": "code",
   "execution_count": 11,
   "metadata": {},
   "outputs": [
    {
     "name": "stdout",
     "output_type": "stream",
     "text": [
      "Genome Scores Dataset After Preprocessing:\n",
      "<class 'pandas.core.frame.DataFrame'>\n",
      "RangeIndex: 11709768 entries, 0 to 11709767\n",
      "Data columns (total 3 columns):\n",
      " #   Column     Dtype  \n",
      "---  ------     -----  \n",
      " 0   movieId    int64  \n",
      " 1   tagId      int64  \n",
      " 2   relevance  float64\n",
      "dtypes: float64(1), int64(2)\n",
      "memory usage: 268.0 MB\n"
     ]
    },
    {
     "data": {
      "text/plain": [
       "None"
      ]
     },
     "metadata": {},
     "output_type": "display_data"
    },
    {
     "data": {
      "text/html": [
       "<div>\n",
       "<style scoped>\n",
       "    .dataframe tbody tr th:only-of-type {\n",
       "        vertical-align: middle;\n",
       "    }\n",
       "\n",
       "    .dataframe tbody tr th {\n",
       "        vertical-align: top;\n",
       "    }\n",
       "\n",
       "    .dataframe thead th {\n",
       "        text-align: right;\n",
       "    }\n",
       "</style>\n",
       "<table border=\"1\" class=\"dataframe\">\n",
       "  <thead>\n",
       "    <tr style=\"text-align: right;\">\n",
       "      <th></th>\n",
       "      <th>movieId</th>\n",
       "      <th>tagId</th>\n",
       "      <th>relevance</th>\n",
       "    </tr>\n",
       "  </thead>\n",
       "  <tbody>\n",
       "    <tr>\n",
       "      <th>0</th>\n",
       "      <td>1</td>\n",
       "      <td>1</td>\n",
       "      <td>0.02500</td>\n",
       "    </tr>\n",
       "    <tr>\n",
       "      <th>1</th>\n",
       "      <td>1</td>\n",
       "      <td>2</td>\n",
       "      <td>0.02500</td>\n",
       "    </tr>\n",
       "    <tr>\n",
       "      <th>2</th>\n",
       "      <td>1</td>\n",
       "      <td>3</td>\n",
       "      <td>0.05775</td>\n",
       "    </tr>\n",
       "    <tr>\n",
       "      <th>3</th>\n",
       "      <td>1</td>\n",
       "      <td>4</td>\n",
       "      <td>0.09675</td>\n",
       "    </tr>\n",
       "    <tr>\n",
       "      <th>4</th>\n",
       "      <td>1</td>\n",
       "      <td>5</td>\n",
       "      <td>0.14675</td>\n",
       "    </tr>\n",
       "  </tbody>\n",
       "</table>\n",
       "</div>"
      ],
      "text/plain": [
       "   movieId  tagId  relevance\n",
       "0        1      1    0.02500\n",
       "1        1      2    0.02500\n",
       "2        1      3    0.05775\n",
       "3        1      4    0.09675\n",
       "4        1      5    0.14675"
      ]
     },
     "metadata": {},
     "output_type": "display_data"
    }
   ],
   "source": [
    "# Preprocess Genome Scores\n",
    "genome_scores_df['relevance'] = genome_scores_df['relevance'].fillna(0)  # Fill missing relevance values\n",
    "\n",
    "print(\"Genome Scores Dataset After Preprocessing:\")\n",
    "display(genome_scores_df.info())\n",
    "display(genome_scores_df.head())"
   ]
  },
  {
   "cell_type": "markdown",
   "metadata": {},
   "source": [
    "####  **Preprocess genome_tags_df**\n",
    "\n",
    "> - \tHandle missing values in tag."
   ]
  },
  {
   "cell_type": "code",
   "execution_count": 16,
   "metadata": {},
   "outputs": [
    {
     "name": "stdout",
     "output_type": "stream",
     "text": [
      "Genome Tags Dataset After Preprocessing:\n",
      "<class 'pandas.core.frame.DataFrame'>\n",
      "RangeIndex: 1128 entries, 0 to 1127\n",
      "Data columns (total 2 columns):\n",
      " #   Column  Non-Null Count  Dtype \n",
      "---  ------  --------------  ----- \n",
      " 0   tagId   1128 non-null   int64 \n",
      " 1   tag     1128 non-null   object\n",
      "dtypes: int64(1), object(1)\n",
      "memory usage: 17.8+ KB\n"
     ]
    },
    {
     "data": {
      "text/plain": [
       "None"
      ]
     },
     "metadata": {},
     "output_type": "display_data"
    },
    {
     "data": {
      "text/html": [
       "<div>\n",
       "<style scoped>\n",
       "    .dataframe tbody tr th:only-of-type {\n",
       "        vertical-align: middle;\n",
       "    }\n",
       "\n",
       "    .dataframe tbody tr th {\n",
       "        vertical-align: top;\n",
       "    }\n",
       "\n",
       "    .dataframe thead th {\n",
       "        text-align: right;\n",
       "    }\n",
       "</style>\n",
       "<table border=\"1\" class=\"dataframe\">\n",
       "  <thead>\n",
       "    <tr style=\"text-align: right;\">\n",
       "      <th></th>\n",
       "      <th>tagId</th>\n",
       "      <th>tag</th>\n",
       "    </tr>\n",
       "  </thead>\n",
       "  <tbody>\n",
       "    <tr>\n",
       "      <th>0</th>\n",
       "      <td>1</td>\n",
       "      <td>007</td>\n",
       "    </tr>\n",
       "    <tr>\n",
       "      <th>1</th>\n",
       "      <td>2</td>\n",
       "      <td>007 (series)</td>\n",
       "    </tr>\n",
       "    <tr>\n",
       "      <th>2</th>\n",
       "      <td>3</td>\n",
       "      <td>18th century</td>\n",
       "    </tr>\n",
       "    <tr>\n",
       "      <th>3</th>\n",
       "      <td>4</td>\n",
       "      <td>1920s</td>\n",
       "    </tr>\n",
       "    <tr>\n",
       "      <th>4</th>\n",
       "      <td>5</td>\n",
       "      <td>1930s</td>\n",
       "    </tr>\n",
       "  </tbody>\n",
       "</table>\n",
       "</div>"
      ],
      "text/plain": [
       "   tagId           tag\n",
       "0      1           007\n",
       "1      2  007 (series)\n",
       "2      3  18th century\n",
       "3      4         1920s\n",
       "4      5         1930s"
      ]
     },
     "metadata": {},
     "output_type": "display_data"
    }
   ],
   "source": [
    "# Preprocess Genome Tags\n",
    "genome_tags_df['tag'] = genome_tags_df['tag'].fillna('No Tag')  # Fill missing tags\n",
    "\n",
    "print(\"Genome Tags Dataset After Preprocessing:\")\n",
    "display(genome_tags_df.info())\n",
    "display(genome_tags_df.head())"
   ]
  },
  {
   "cell_type": "markdown",
   "metadata": {},
   "source": [
    "### **Minhash Signatures**\n",
    "\n",
    "As a next step, we were asked to use the **userId** and **movieId**  column to try to implement min-hash signatures in order that users with similar interests in a genre appear in the same bucket. To do this we used the custom-made `minHash` class we built specifically for this homework. For more information on the **implementation** of the code behind it, please refer to the `lsh_functions` file included in the `libs` folder of this repository.\n",
    "\n",
    "We can initialize our class:"
   ]
  },
  {
   "cell_type": "code",
   "execution_count": 7,
   "metadata": {},
   "outputs": [],
   "source": [
    "# Import necessary functions\n",
    "from libs.lsh_functions import ( \n",
    "    create_characteristic_matrix, \n",
    "    generate_minhash_signatures, \n",
    "    compute_jaccard_similarity, \n",
    "    compute_similarities, \n",
    "    recommend_movies, \n",
    "    plot_probability_curve, \n",
    "    visualize_signature_matrix, \n",
    "    create_sparse_interaction_matrix, \n",
    "    generate_minhash_signatures_with_interaction\n",
    ")"
   ]
  },
  {
   "cell_type": "markdown",
   "metadata": {},
   "source": [
    "Now, in order to perform Minhashing, we must perform the following steps:\n",
    "\n",
    "#### **1.2.1. Shingling**\n",
    "\n",
    "In this case, we define each different **movieId** as a shingle and represent our users as sets of shingles. Shingles are essentially the unique identifiers (IDs) of the movies that a user has interacted with or rated.\n",
    "\n",
    "For example, we can represent a user A as:\n",
    "\n",
    "$$A = \\{\\text{movie1}, \\text{movie2}, \\text{movie2}, \\dots\\},$$\n",
    "\n",
    "Where the set contains the movieId values corresponding to the movies that the user  A  has watched or rated.\n",
    "\n",
    "This representation captures the set of movies associated with each user, which is the fundamental input for building the characteristic matrix and applying MinHashing.\n",
    "\n",
    "We can extract the movie shingles for every user in our dataset. For example, user 1 can be represented by their movie shingles as follows:"
   ]
  },
  {
   "cell_type": "code",
   "execution_count": 5,
   "metadata": {},
   "outputs": [
    {
     "name": "stdout",
     "output_type": "stream",
     "text": [
      "Movies watched by User 1: [2, 29, 32, 47, 50, 112, 151, 223, 253, 260, 293, 296, 318, 337, 367, 541, 589, 593, 653, 919, 924, 1009, 1036, 1079, 1080, 1089, 1090, 1097, 1136, 1193, 1196, 1198, 1200, 1201, 1208, 1214, 1215, 1217, 1219, 1222, 1240, 1243, 1246, 1249, 1258, 1259, 1261, 1262, 1266, 1278, 1291, 1304, 1321, 1333, 1348, 1350, 1358, 1370, 1374, 1387, 1525, 1584, 1750, 1848, 1920, 1967, 1994, 1997, 2021, 2100, 2118, 2138, 2140, 2143, 2173, 2174, 2193, 2194, 2253, 2288, 2291, 2542, 2628, 2644, 2648, 2664, 2683, 2692, 2716, 2761, 2762, 2804, 2872, 2918, 2944, 2947, 2959, 2968, 3000, 3030, 3037, 3081, 3153, 3265, 3438, 3476, 3479, 3489, 3499, 3889, 3932, 3996, 3997, 4011, 4027, 4105, 4128, 4133, 4226, 4306, 4446, 4467, 4571, 4720, 4754, 4878, 4896, 4911, 4915, 4941, 4980, 4993, 5026, 5039, 5040, 5146, 5171, 5540, 5679, 5797, 5816, 5898, 5952, 5999, 6093, 6242, 6333, 6502, 6539, 6754, 6755, 6774, 6807, 6834, 6888, 7001, 7045, 7046, 7153, 7164, 7247, 7387, 7389, 7438, 7449, 7454, 7482, 7757, 8368, 8482, 8507, 8636, 8690, 8961, 31696]\n"
     ]
    }
   ],
   "source": [
    "user_movies = rating_df.groupby('userId')['movieId'].apply(list)\n",
    "print(f\"Movies watched by User 1: {user_movies[1]}\")"
   ]
  },
  {
   "cell_type": "code",
   "execution_count": 6,
   "metadata": {},
   "outputs": [
    {
     "data": {
      "text/html": [
       "<div>\n",
       "<style scoped>\n",
       "    .dataframe tbody tr th:only-of-type {\n",
       "        vertical-align: middle;\n",
       "    }\n",
       "\n",
       "    .dataframe tbody tr th {\n",
       "        vertical-align: top;\n",
       "    }\n",
       "\n",
       "    .dataframe thead th {\n",
       "        text-align: right;\n",
       "    }\n",
       "</style>\n",
       "<table border=\"1\" class=\"dataframe\">\n",
       "  <thead>\n",
       "    <tr style=\"text-align: right;\">\n",
       "      <th></th>\n",
       "      <th>userId</th>\n",
       "      <th>movieId</th>\n",
       "      <th>rating</th>\n",
       "      <th>timestamp</th>\n",
       "      <th>title</th>\n",
       "      <th>genres</th>\n",
       "      <th>year</th>\n",
       "    </tr>\n",
       "  </thead>\n",
       "  <tbody>\n",
       "    <tr>\n",
       "      <th>0</th>\n",
       "      <td>1</td>\n",
       "      <td>2</td>\n",
       "      <td>3.5</td>\n",
       "      <td>2005-04-02 23:53:47</td>\n",
       "      <td>Jumanji (1995)</td>\n",
       "      <td>[Adventure, Children, Fantasy]</td>\n",
       "      <td>1995.0</td>\n",
       "    </tr>\n",
       "    <tr>\n",
       "      <th>1</th>\n",
       "      <td>1</td>\n",
       "      <td>29</td>\n",
       "      <td>3.5</td>\n",
       "      <td>2005-04-02 23:31:16</td>\n",
       "      <td>City of Lost Children, The (Cité des enfants p...</td>\n",
       "      <td>[Adventure, Drama, Fantasy, Mystery, Sci-Fi]</td>\n",
       "      <td>1995.0</td>\n",
       "    </tr>\n",
       "    <tr>\n",
       "      <th>2</th>\n",
       "      <td>1</td>\n",
       "      <td>32</td>\n",
       "      <td>3.5</td>\n",
       "      <td>2005-04-02 23:33:39</td>\n",
       "      <td>Twelve Monkeys (a.k.a. 12 Monkeys) (1995)</td>\n",
       "      <td>[Mystery, Sci-Fi, Thriller]</td>\n",
       "      <td>1995.0</td>\n",
       "    </tr>\n",
       "    <tr>\n",
       "      <th>3</th>\n",
       "      <td>1</td>\n",
       "      <td>47</td>\n",
       "      <td>3.5</td>\n",
       "      <td>2005-04-02 23:32:07</td>\n",
       "      <td>Seven (a.k.a. Se7en) (1995)</td>\n",
       "      <td>[Mystery, Thriller]</td>\n",
       "      <td>1995.0</td>\n",
       "    </tr>\n",
       "    <tr>\n",
       "      <th>4</th>\n",
       "      <td>1</td>\n",
       "      <td>50</td>\n",
       "      <td>3.5</td>\n",
       "      <td>2005-04-02 23:29:40</td>\n",
       "      <td>Usual Suspects, The (1995)</td>\n",
       "      <td>[Crime, Mystery, Thriller]</td>\n",
       "      <td>1995.0</td>\n",
       "    </tr>\n",
       "  </tbody>\n",
       "</table>\n",
       "</div>"
      ],
      "text/plain": [
       "   userId  movieId  rating           timestamp  \\\n",
       "0       1        2     3.5 2005-04-02 23:53:47   \n",
       "1       1       29     3.5 2005-04-02 23:31:16   \n",
       "2       1       32     3.5 2005-04-02 23:33:39   \n",
       "3       1       47     3.5 2005-04-02 23:32:07   \n",
       "4       1       50     3.5 2005-04-02 23:29:40   \n",
       "\n",
       "                                               title  \\\n",
       "0                                     Jumanji (1995)   \n",
       "1  City of Lost Children, The (Cité des enfants p...   \n",
       "2          Twelve Monkeys (a.k.a. 12 Monkeys) (1995)   \n",
       "3                        Seven (a.k.a. Se7en) (1995)   \n",
       "4                         Usual Suspects, The (1995)   \n",
       "\n",
       "                                         genres    year  \n",
       "0                [Adventure, Children, Fantasy]  1995.0  \n",
       "1  [Adventure, Drama, Fantasy, Mystery, Sci-Fi]  1995.0  \n",
       "2                   [Mystery, Sci-Fi, Thriller]  1995.0  \n",
       "3                           [Mystery, Thriller]  1995.0  \n",
       "4                    [Crime, Mystery, Thriller]  1995.0  "
      ]
     },
     "execution_count": 6,
     "metadata": {},
     "output_type": "execute_result"
    }
   ],
   "source": [
    "# Merge rating_df with movie_df to include movie titles\n",
    "merged_df = pd.merge(rating_df, movie_df, on='movieId')\n",
    "\n",
    "# Display the first few rows\n",
    "merged_df.head()"
   ]
  },
  {
   "cell_type": "markdown",
   "metadata": {},
   "source": [
    "Here we can see that the movies watched by each user (e.g., User `1`) are represented by their unique `movieId` values. This gives us insight into the specific movies a user has interacted with. We can do this for every user and represent each individual user by the set of `movieId`s they have rated or interacted with. However, to effectively compare users, we need to represent them in a way that accounts for all possible movies regardless of the order in which they appear.\n",
    "\n",
    "###  **Building the Characteristic Matrix**\n",
    "\n",
    "Once we've represented each of our users using their `movieId` shingles, we can construct the **characteristic matrix** for users. In this matrix:\n",
    "\n",
    "- Each **column** corresponds to a unique user (`userId`).\n",
    "- Each **row** corresponds to a unique movie (`movieId`) from the universal set of movies that appear in the dataset.\n",
    "\n",
    "The value in the element  $(i, j)$  of the matrix is 1  if the movie in row $i$  has been rated or interacted with by the user in column $j$ ; otherwise, it is  0. The resulting matrix looks like this:\n",
    "\n",
    "<br>\n",
    "\n",
    "$$\n",
    "\\begin{pmatrix}\n",
    "& \\text{User ID 1}&\\text{User ID 2}&\\dots&\\text{User $ID(n-1)$}&\\text{User ID $n$}\\\\\n",
    "\\text{Movie ID 1} &1&0&\\dots&0&1\\\\\n",
    "\\text{Movie ID 2} &0&0&\\dots&1&0\\\\\n",
    "\\vdots &0&1&\\dots&0&1\\\\\n",
    "\\text{Movie ID $m-1$} &1&0&\\dots&1&1\\\\\n",
    "\\text{Movie ID $m$} &0&0&\\dots&1&0\n",
    "\\end{pmatrix}\n",
    "$$\n",
    "\n",
    "<br>\n",
    "\n",
    "For example, the first row represents **Movie 1**, and we can see that Users  1  and $n$  have interacted with this movie, while the others have not. Similarly, other rows correspond to different movies, and columns represent the one-hot encoded interaction of users with those movies.\n",
    "\n",
    "We can think of this matrix as the **one-hot representation** of users based on the movies they have interacted with. This representation is critical for computing MinHash signatures.\n",
    "\n",
    "For completeness, we can extract the column of this matrix for a specific user, such as User `1`, which gives the binary interaction vector of that user with the movies:\n"
   ]
  },
  {
   "cell_type": "code",
   "execution_count": 7,
   "metadata": {},
   "outputs": [
    {
     "name": "stderr",
     "output_type": "stream",
     "text": [
      "/var/folders/jp/fnr369_172b9ghtllhyqdmtw0000gp/T/ipykernel_3516/2151508797.py:2: PerformanceWarning: The following operation may generate 3703856792 cells in the resulting pandas object.\n",
      "  interaction_matrix = pd.pivot_table(\n"
     ]
    },
    {
     "data": {
      "text/html": [
       "<div>\n",
       "<style scoped>\n",
       "    .dataframe tbody tr th:only-of-type {\n",
       "        vertical-align: middle;\n",
       "    }\n",
       "\n",
       "    .dataframe tbody tr th {\n",
       "        vertical-align: top;\n",
       "    }\n",
       "\n",
       "    .dataframe thead th {\n",
       "        text-align: right;\n",
       "    }\n",
       "</style>\n",
       "<table border=\"1\" class=\"dataframe\">\n",
       "  <thead>\n",
       "    <tr style=\"text-align: right;\">\n",
       "      <th>userId</th>\n",
       "      <th>1</th>\n",
       "      <th>2</th>\n",
       "      <th>3</th>\n",
       "      <th>4</th>\n",
       "      <th>5</th>\n",
       "      <th>6</th>\n",
       "      <th>7</th>\n",
       "      <th>8</th>\n",
       "      <th>9</th>\n",
       "      <th>10</th>\n",
       "      <th>...</th>\n",
       "      <th>138484</th>\n",
       "      <th>138485</th>\n",
       "      <th>138486</th>\n",
       "      <th>138487</th>\n",
       "      <th>138488</th>\n",
       "      <th>138489</th>\n",
       "      <th>138490</th>\n",
       "      <th>138491</th>\n",
       "      <th>138492</th>\n",
       "      <th>138493</th>\n",
       "    </tr>\n",
       "    <tr>\n",
       "      <th>movieId</th>\n",
       "      <th></th>\n",
       "      <th></th>\n",
       "      <th></th>\n",
       "      <th></th>\n",
       "      <th></th>\n",
       "      <th></th>\n",
       "      <th></th>\n",
       "      <th></th>\n",
       "      <th></th>\n",
       "      <th></th>\n",
       "      <th></th>\n",
       "      <th></th>\n",
       "      <th></th>\n",
       "      <th></th>\n",
       "      <th></th>\n",
       "      <th></th>\n",
       "      <th></th>\n",
       "      <th></th>\n",
       "      <th></th>\n",
       "      <th></th>\n",
       "      <th></th>\n",
       "    </tr>\n",
       "  </thead>\n",
       "  <tbody>\n",
       "    <tr>\n",
       "      <th>1</th>\n",
       "      <td>0</td>\n",
       "      <td>0</td>\n",
       "      <td>1</td>\n",
       "      <td>0</td>\n",
       "      <td>0</td>\n",
       "      <td>1</td>\n",
       "      <td>0</td>\n",
       "      <td>1</td>\n",
       "      <td>0</td>\n",
       "      <td>1</td>\n",
       "      <td>...</td>\n",
       "      <td>0</td>\n",
       "      <td>0</td>\n",
       "      <td>1</td>\n",
       "      <td>0</td>\n",
       "      <td>1</td>\n",
       "      <td>0</td>\n",
       "      <td>0</td>\n",
       "      <td>1</td>\n",
       "      <td>0</td>\n",
       "      <td>1</td>\n",
       "    </tr>\n",
       "    <tr>\n",
       "      <th>2</th>\n",
       "      <td>1</td>\n",
       "      <td>0</td>\n",
       "      <td>0</td>\n",
       "      <td>0</td>\n",
       "      <td>1</td>\n",
       "      <td>0</td>\n",
       "      <td>0</td>\n",
       "      <td>0</td>\n",
       "      <td>0</td>\n",
       "      <td>0</td>\n",
       "      <td>...</td>\n",
       "      <td>1</td>\n",
       "      <td>0</td>\n",
       "      <td>0</td>\n",
       "      <td>0</td>\n",
       "      <td>1</td>\n",
       "      <td>0</td>\n",
       "      <td>0</td>\n",
       "      <td>0</td>\n",
       "      <td>0</td>\n",
       "      <td>1</td>\n",
       "    </tr>\n",
       "    <tr>\n",
       "      <th>3</th>\n",
       "      <td>0</td>\n",
       "      <td>1</td>\n",
       "      <td>0</td>\n",
       "      <td>0</td>\n",
       "      <td>0</td>\n",
       "      <td>1</td>\n",
       "      <td>1</td>\n",
       "      <td>1</td>\n",
       "      <td>0</td>\n",
       "      <td>0</td>\n",
       "      <td>...</td>\n",
       "      <td>1</td>\n",
       "      <td>0</td>\n",
       "      <td>0</td>\n",
       "      <td>0</td>\n",
       "      <td>0</td>\n",
       "      <td>0</td>\n",
       "      <td>0</td>\n",
       "      <td>0</td>\n",
       "      <td>0</td>\n",
       "      <td>0</td>\n",
       "    </tr>\n",
       "    <tr>\n",
       "      <th>4</th>\n",
       "      <td>0</td>\n",
       "      <td>0</td>\n",
       "      <td>0</td>\n",
       "      <td>0</td>\n",
       "      <td>0</td>\n",
       "      <td>0</td>\n",
       "      <td>0</td>\n",
       "      <td>0</td>\n",
       "      <td>0</td>\n",
       "      <td>0</td>\n",
       "      <td>...</td>\n",
       "      <td>0</td>\n",
       "      <td>0</td>\n",
       "      <td>0</td>\n",
       "      <td>0</td>\n",
       "      <td>0</td>\n",
       "      <td>0</td>\n",
       "      <td>0</td>\n",
       "      <td>0</td>\n",
       "      <td>0</td>\n",
       "      <td>0</td>\n",
       "    </tr>\n",
       "    <tr>\n",
       "      <th>5</th>\n",
       "      <td>0</td>\n",
       "      <td>0</td>\n",
       "      <td>0</td>\n",
       "      <td>0</td>\n",
       "      <td>0</td>\n",
       "      <td>0</td>\n",
       "      <td>0</td>\n",
       "      <td>0</td>\n",
       "      <td>0</td>\n",
       "      <td>0</td>\n",
       "      <td>...</td>\n",
       "      <td>0</td>\n",
       "      <td>0</td>\n",
       "      <td>0</td>\n",
       "      <td>0</td>\n",
       "      <td>0</td>\n",
       "      <td>0</td>\n",
       "      <td>0</td>\n",
       "      <td>0</td>\n",
       "      <td>0</td>\n",
       "      <td>0</td>\n",
       "    </tr>\n",
       "  </tbody>\n",
       "</table>\n",
       "<p>5 rows × 138493 columns</p>\n",
       "</div>"
      ],
      "text/plain": [
       "userId   1       2       3       4       5       6       7       8       \\\n",
       "movieId                                                                   \n",
       "1             0       0       1       0       0       1       0       1   \n",
       "2             1       0       0       0       1       0       0       0   \n",
       "3             0       1       0       0       0       1       1       1   \n",
       "4             0       0       0       0       0       0       0       0   \n",
       "5             0       0       0       0       0       0       0       0   \n",
       "\n",
       "userId   9       10      ...  138484  138485  138486  138487  138488  138489  \\\n",
       "movieId                  ...                                                   \n",
       "1             0       1  ...       0       0       1       0       1       0   \n",
       "2             0       0  ...       1       0       0       0       1       0   \n",
       "3             0       0  ...       1       0       0       0       0       0   \n",
       "4             0       0  ...       0       0       0       0       0       0   \n",
       "5             0       0  ...       0       0       0       0       0       0   \n",
       "\n",
       "userId   138490  138491  138492  138493  \n",
       "movieId                                  \n",
       "1             0       1       0       1  \n",
       "2             0       0       0       1  \n",
       "3             0       0       0       0  \n",
       "4             0       0       0       0  \n",
       "5             0       0       0       0  \n",
       "\n",
       "[5 rows x 138493 columns]"
      ]
     },
     "execution_count": 7,
     "metadata": {},
     "output_type": "execute_result"
    }
   ],
   "source": [
    "# Create a binary interaction matrix\n",
    "interaction_matrix = pd.pivot_table(\n",
    "    merged_df, \n",
    "    values='rating', \n",
    "    index='movieId', \n",
    "    columns='userId', \n",
    "    aggfunc=lambda x: 1,  # Use 1 to indicate interaction\n",
    "    fill_value=0          # Fill with 0 for no interaction\n",
    ")\n",
    "\n",
    "interaction_matrix.head()"
   ]
  },
  {
   "cell_type": "code",
   "execution_count": 8,
   "metadata": {},
   "outputs": [],
   "source": [
    "from libs.lsh_functions import create_sparse_interaction_matrix\n",
    "\n",
    "# Convert interaction matrix to sparse matrix\n",
    "sparse_interaction_matrix = create_sparse_interaction_matrix(interaction_matrix)"
   ]
  },
  {
   "cell_type": "code",
   "execution_count": 9,
   "metadata": {},
   "outputs": [],
   "source": [
    "from libs.lsh_functions import next_prime, generate_minhash_signatures_with_interaction\n",
    "\n",
    "# Define parameters for MinHash\n",
    "n_hashes = 100\n",
    "a_values = np.random.randint(1, next_prime(interaction_matrix.shape[0]), size=n_hashes)\n",
    "b_values = np.random.randint(0, next_prime(interaction_matrix.shape[0]), size=n_hashes)\n",
    "\n",
    "# Generate MinHash signatures\n",
    "signature_matrix = generate_minhash_signatures_with_interaction(\n",
    "    sparse_interaction_matrix, n_hashes, a_values, b_values\n",
    ")"
   ]
  },
  {
   "cell_type": "code",
   "execution_count": 10,
   "metadata": {},
   "outputs": [
    {
     "data": {
      "image/png": "[encoded data removed]",
      "text/plain": [
       "<Figure size 1000x800 with 2 Axes>"
      ]
     },
     "metadata": {},
     "output_type": "display_data"
    },
    {
     "data": {
      "image/png": "[encoded data removed]",
      "text/plain": [
       "<Figure size 1200x600 with 1 Axes>"
      ]
     },
     "metadata": {},
     "output_type": "display_data"
    }
   ],
   "source": [
    "from libs.lsh_functions import plot_signature_matrix, plot_hash_param_effects\n",
    "\n",
    "# Visualize the first 10x10 portion of the signature matrix\n",
    "plot_signature_matrix(signature_matrix, rows=10, cols=10)\n",
    "\n",
    "# Analyze the effect of hash function parameters\n",
    "plot_hash_param_effects(n_hashes=100, movie_range=range(1, interaction_matrix.shape[0]))"
   ]
  },
  {
   "cell_type": "code",
   "execution_count": 11,
   "metadata": {},
   "outputs": [],
   "source": [
    "from libs.lsh_functions import validate_signature_matrix, compute_estimated_jaccard, compute_actual_jaccard"
   ]
  },
  {
   "cell_type": "code",
   "execution_count": null,
   "metadata": {},
   "outputs": [
    {
     "name": "stdout",
     "output_type": "stream",
     "text": [
      "Starting validation of MinHash Signature Matrix...\n"
     ]
    },
    {
     "name": "stderr",
     "output_type": "stream",
     "text": [
      "/Users/roberto/.pyenv/versions/3.11.6/lib/python3.11/site-packages/sklearn/metrics/pairwise.py:2361: DataConversionWarning: Data was converted to boolean for metric jaccard\n",
      "  warnings.warn(msg, DataConversionWarning)\n"
     ]
    }
   ],
   "source": [
    "### compared with \n",
    "# Example Usage\n",
    "print(\"Starting validation of MinHash Signature Matrix...\")\n",
    "actual_similarities, estimated_similarities = validate_signature_matrix(interaction_matrix.values, signature_matrix)"
   ]
  },
  {
   "cell_type": "markdown",
   "metadata": {},
   "source": [
    "As we can see, we only have 1 values in certain indexes representing the movies the user has rated. These correspond to the specific `movieId`s the user interacted with. Using this representation, we can compare users based on their rated movies. However, as the number of users and movies grows, this representation becomes inefficient due to the sparsity of the matrix. \n",
    "\n",
    "To address this issue, we replace the large characteristic matrix with a smaller **signature matrix** that still preserves the underlying similarity between users.\n",
    "\n",
    "### **Min-Hashing**\n",
    "\n",
    "We achieve this by building a **signature matrix** using **Min-Hashing**. To create this matrix from the characteristic matrix, we follow these steps:\n",
    "\n",
    "1. **Randomly permute the rows** of the characteristic matrix. For example, rows `12345` might become `35421`, so if \"Movie A\" was in row 1, it would now be in row 5.\n",
    "\n",
    "2. For each user (i.e., column), **find the position of the first non-zero value** (indicating a rated movie) in the permuted rows. This position is used to represent the user's interaction for that permutation.\n",
    "\n",
    "3. **Repeat this process** as many times as desired, appending each result to the user's signature vector.\n",
    "\n",
    "Instead of explicitly permuting the rows (which is computationally expensive), we use **hash functions** to simulate the permutation process. A hash function for an input integer $x$ is defined as:\n",
    "\n",
    "$$\n",
    "h(x) = (ax + b) \\mod c\n",
    "$$\n",
    "\n",
    "where:\n",
    "- $a$ and $b$ are random integers less than the number of rows of the matrix.\n",
    "- $c$ is a **prime number** slightly larger than the number of rows.\n",
    "\n",
    "This approach avoids true permutations and computes the hash values directly. While this may result in hash collisions (where two rows map to the same value), the effect can be minimized by choosing appropriate values for $a$, $b$, and $c$.\n",
    "\n",
    "Using this framework, our algorithm proceeds as follows:\n",
    "\n",
    "1. Initialize the **signature matrix** with all values set to $\\infty$.\n",
    "\n",
    "2. For each row, compute $h_1(r), h_2(r), \\dots, h_n(r)$ for $n$ random hash functions.\n",
    "\n",
    "3. For each column $c$ of row $r$:\n",
    "    - If $c$ has a $0$ in row $r$, skip it.\n",
    "    - If $c$ has a $1$ in row $r$, update $S(i, c)$ for each $i \\in \\{1, \\dots, n\\}$ to be the **minimum** of the current value of $S(i, c)$ and $h_i(r)$.\n",
    "\n",
    "The resulting **signature matrix** has dimensions determined by the number of hash functions (or permutations) and the number of users.\n",
    "\n",
    "For our Recommendation System, we chose **100 hash functions**, so the resulting signature matrix has dimensions:"
   ]
  },
  {
   "cell_type": "code",
   "execution_count": null,
   "metadata": {},
   "outputs": [
    {
     "data": {
      "text/plain": [
       "'Shape of the signature matrix:'"
      ]
     },
     "metadata": {},
     "output_type": "display_data"
    },
    {
     "data": {
      "text/plain": [
       "(100, 5)"
      ]
     },
     "metadata": {},
     "output_type": "display_data"
    },
    {
     "data": {
      "image/png": "[encoded data removed]",
      "text/plain": [
       "<Figure size 1000x800 with 2 Axes>"
      ]
     },
     "metadata": {},
     "output_type": "display_data"
    }
   ],
   "source": [
    "# Import the custom functions from your library\n",
    "from libs.lsh_functions import create_characteristic_matrix, generate_minhash_signatures, next_prime, visualize_signature_matrix\n",
    "\n",
    "\n",
    "# A dictionary where keys are user IDs and values are sets of movie IDs watched by the user\n",
    "user_movies = {\n",
    "    1: {1, 2, 3},\n",
    "    2: {3, 4},\n",
    "    3: {5, 6},\n",
    "    4: {1, 3, 5},\n",
    "    5: {2, 4, 6}\n",
    "}\n",
    "\n",
    "# All movies in the dataset\n",
    "all_movies = {1, 2, 3, 4, 5, 6}\n",
    "\n",
    "# Create the characteristic matrix\n",
    "characteristic_matrix = create_characteristic_matrix(None, all_movies, user_movies)\n",
    "\n",
    "# Generate MinHash signatures with a specified number of hash functions\n",
    "n_hashes = 100\n",
    "signature_matrix = generate_minhash_signatures(characteristic_matrix, n_hashes)\n",
    "\n",
    "# Obtain the shape of the signature matrix\n",
    "display(\"Shape of the signature matrix:\", signature_matrix.shape)\n",
    "\n",
    "# Visualize the first 10 rows and columns of the signature matrix using a heatmap\n",
    "visualize_signature_matrix(signature_matrix, rows=10, cols=10)"
   ]
  },
  {
   "cell_type": "markdown",
   "metadata": {},
   "source": [
    "---\n",
    "\n",
    "Through this method, we produce vectors of equal length that contain positive integer values representing the MinHash signatures for each user, based on the movies they have rated. These signatures allow us to approximate user similarity efficiently. Ideally, we want to hash users into **buckets** such that users with similar preferences (based on their movie lists) end up in the same bucket. However, if we hash based on the entire signature as a whole, only identical signatures would end up in the same bucket, which is not practical for approximate similarity searches.\n",
    "\n",
    "In most cases, even though parts of two signatures may match, they might still be hashed into separate buckets. This is undesirable because it prevents us from identifying partially similar users. To address this, we use the **banding** technique.\n",
    "\n",
    "#### **Banding and Bucketing**\n",
    "\n",
    "The banding method addresses this issue by splitting the MinHash signature matrix into smaller sub-vectors called *bands*. Instead of hashing the entire signature for a user into a single bucket, we hash each band independently. For instance, splitting a 100-dimensional signature into 20 bands results in 20 opportunities to match users based on their sub-vector similarity.\n",
    "\n",
    "While this increases the chance of false positives (users hashed into the same bucket despite being dissimilar), we can tune the trade-off by adjusting the number of bands (\\(b\\)) and the number of rows per band \\($r$\\). The probability of a pair of users being hashed into the same bucket given their Jaccard similarity \\($s$\\) is:\n",
    "\n",
    "$$\n",
    "\\mathbb{P} = 1 - (1 - s^r)^b,\n",
    "$$\n",
    "\n",
    "where:\n",
    "\n",
    "- \\($b$)\\: Number of bands (splits in the signature matrix).\n",
    "- \\($r$)\\: Number of rows per band:\n",
    "$$r = \\frac{\\text{signature length}}{b}$$\n",
    "\n",
    "\n",
    "The **Jaccard Similarity** between users refers to the similarity between the sets of movies they have rated. We can visualize the effect of different banding configurations by plotting this probability for varying values of \\($b$\\):\n",
    "\n",
    "```python\n",
    "# Plot the probability of users being hashed into the same bucket as a function of their similarity\n",
    "plot_probability_curve(n=100, band_values=[5, 20, 25, 50]) "
   ]
  },
  {
   "cell_type": "code",
   "execution_count": 11,
   "metadata": {},
   "outputs": [
    {
     "data": {
      "image/png": "[encoded data removed]",
      "text/plain": [
       "<Figure size 1000x600 with 1 Axes>"
      ]
     },
     "metadata": {},
     "output_type": "display_data"
    }
   ],
   "source": [
    "# Example: Plot the probability curve\n",
    "plot_probability_curve(n=100, band_values=[5, 20, 25, 50])"
   ]
  },
  {
   "cell_type": "markdown",
   "metadata": {},
   "source": [
    "### **Probability Plot for MinHash Banding**\n",
    "\n",
    "This visualization shows the **probability of two users being hashed into the same bucket** as a function of their similarity $s$, based on different banding configurations in the MinHash algorithm.\n",
    "\n",
    "#### **Key Aspects**\n",
    "\n",
    "1. **Hash Functions ($n = 100$)**:\n",
    "   - The total number of hash functions used to generate the MinHash signatures is fixed at $n = 100$.\n",
    "\n",
    "2. **Banding Parameter ($b$)**:\n",
    "   - The curves represent different values of $b$ (number of bands).\n",
    "   - For example:\n",
    "     - $b = 5$: Larger number of rows per band ($r = n / b = 20$).\n",
    "     - $b = 50$: Smaller number of rows per band ($r = n / b = 2$).\n",
    "\n",
    "3. **Trade-off Between $b$ and $r$**:\n",
    "   - **Fewer bands ($b$) and more rows per band ($r$)**:\n",
    "     - The curve is steeper, requiring higher similarity for users to be hashed to the same bucket.\n",
    "     - Reduces false positives but increases false negatives.\n",
    "   - **More bands ($b$) and fewer rows per band ($r$)**:\n",
    "     - The curve is smoother, allowing even lower similarity pairs to hash into the same bucket.\n",
    "     - Increases false positives but reduces false negatives.\n",
    "\n",
    "4. **Interpretation of Similarity $s$**:\n",
    "   - $s = 0$: Probability is $0$, meaning users with no similarity will not hash to the same bucket.\n",
    "   - $s = 1$: Probability is $1$, meaning users with identical signatures will always hash to the same bucket.\n",
    "   - Intermediate $s$ values (e.g., $s = 0.4, 0.6$): The probability increases as similarity grows, depending on $b$ and $r$.\n",
    "\n",
    "5. **Use Case**:\n",
    "   - This plot helps determine the optimal $b$ and $r$ configuration based on the desired trade-off between false positives and false negatives.\n",
    "\n",
    "#### **Probability Formula**:\n",
    "The probability of a pair of users being hashed into the same bucket is given by:\n",
    "$$\n",
    "\\mathbb{P} = 1 - (1 - s^r)^b\n",
    "$$\n",
    "where:\n",
    "- $b$: Number of bands.\n",
    "- $r$: Number of rows per band $\\left(r = \\frac{\\text{signature length}}{b}\\right)$.\n",
    "\n",
    "#### **Recommendation**\n",
    "- For applications that require **high precision** (fewer false positives), choose configurations with fewer bands ($b = 5$ or $b = 10$).\n",
    "- For applications that tolerate **false positives** but emphasize capturing similar users, choose configurations with more bands ($b = 25$ or $b = 50$).\n",
    "\n",
    "---\n"
   ]
  },
  {
   "cell_type": "markdown",
   "metadata": {},
   "source": [
    "##### with spark::"
   ]
  },
  {
   "cell_type": "code",
   "execution_count": 1,
   "metadata": {},
   "outputs": [
    {
     "name": "stderr",
     "output_type": "stream",
     "text": [
      "24/12/02 22:00:01 WARN Utils: Your hostname, Robertos-MacBook-Pro.local resolves to a loopback address: 127.0.0.1; using 192.168.1.53 instead (on interface en0)\n",
      "24/12/02 22:00:01 WARN Utils: Set SPARK_LOCAL_IP if you need to bind to another address\n",
      "Setting default log level to \"WARN\".\n",
      "To adjust logging level use sc.setLogLevel(newLevel). For SparkR, use setLogLevel(newLevel).\n",
      "24/12/02 22:00:02 WARN NativeCodeLoader: Unable to load native-hadoop library for your platform... using builtin-java classes where applicable\n",
      "                                                                                \r"
     ]
    }
   ],
   "source": [
    "from libs.analysis_functions import (\n",
    "    initialize_spark, load_data, preprocess_movies_ratings,\n",
    "    calculate_avg_ratings_by_genre, calculate_ratings_by_year,\n",
    "    inspect_data, save_to_csv, merge_datasets\n",
    ")\n",
    "import matplotlib.pyplot as plt\n",
    "\n",
    "# Initialize Spark\n",
    "spark = initialize_spark()\n",
    "\n",
    "# Define dataset path\n",
    "path = \"/Users/roberto/Desktop/HM4-ADM/datasets\"\n",
    "\n",
    "# Load Data\n",
    "tag_df, rating_df, movie_df, link_df, genome_scores_df, genome_tags_df = load_data(spark, path)"
   ]
  },
  {
   "cell_type": "code",
   "execution_count": null,
   "metadata": {},
   "outputs": [
    {
     "name": "stdout",
     "output_type": "stream",
     "text": [
      "Inspecting rating_df:\n",
      "+------+-------+------+-------------------+\n",
      "|userId|movieId|rating|          timestamp|\n",
      "+------+-------+------+-------------------+\n",
      "|     1|      2|   3.5|2005-04-02 23:53:47|\n",
      "|     1|     29|   3.5|2005-04-02 23:31:16|\n",
      "|     1|     32|   3.5|2005-04-02 23:33:39|\n",
      "|     1|     47|   3.5|2005-04-02 23:32:07|\n",
      "|     1|     50|   3.5|2005-04-02 23:29:40|\n",
      "|     1|    112|   3.5|2004-09-10 03:09:00|\n",
      "|     1|    151|   4.0|2004-09-10 03:08:54|\n",
      "|     1|    223|   4.0|2005-04-02 23:46:13|\n",
      "|     1|    253|   4.0|2005-04-02 23:35:40|\n",
      "|     1|    260|   4.0|2005-04-02 23:33:46|\n",
      "+------+-------+------+-------------------+\n",
      "only showing top 10 rows\n",
      "\n",
      "Inspecting movie_df:\n",
      "+-------+--------------------+--------------------+\n",
      "|movieId|               title|              genres|\n",
      "+-------+--------------------+--------------------+\n",
      "|      1|    Toy Story (1995)|Adventure|Animati...|\n",
      "|      2|      Jumanji (1995)|Adventure|Childre...|\n",
      "|      3|Grumpier Old Men ...|      Comedy|Romance|\n",
      "|      4|Waiting to Exhale...|Comedy|Drama|Romance|\n",
      "|      5|Father of the Bri...|              Comedy|\n",
      "+-------+--------------------+--------------------+\n",
      "only showing top 5 rows\n",
      "\n",
      "   movieId                               title  \\\n",
      "0        1                    Toy Story (1995)   \n",
      "1        2                      Jumanji (1995)   \n",
      "2        3             Grumpier Old Men (1995)   \n",
      "3        4            Waiting to Exhale (1995)   \n",
      "4        5  Father of the Bride Part II (1995)   \n",
      "\n",
      "                                        genres  \n",
      "0  Adventure|Animation|Children|Comedy|Fantasy  \n",
      "1                   Adventure|Children|Fantasy  \n",
      "2                               Comedy|Romance  \n",
      "3                         Comedy|Drama|Romance  \n",
      "4                                       Comedy  \n"
     ]
    }
   ],
   "source": [
    "# Inspect the structure and content of the loaded DataFrames\n",
    "print(\"Inspecting rating_df:\")\n",
    "inspect_data(rating_df, num_rows=10)  # Display top 10 rows of ratings\n",
    "\n",
    "print(\"Inspecting movie_df:\")\n",
    "inspect_data(movie_df, num_rows=5)  # Display top 5 rows of movies\n",
    "\n",
    "# Convert to Pandas for detailed inspection\n",
    "movies_sample = inspect_data(movie_df, num_rows=5, convert_to_pandas=True)\n",
    "print(movies_sample)"
   ]
  },
  {
   "cell_type": "code",
   "execution_count": 3,
   "metadata": {},
   "outputs": [
    {
     "name": "stdout",
     "output_type": "stream",
     "text": [
      "Inspecting movies_ratings_df after preprocessing:\n",
      "+-------+--------------------+--------------------+------+------+-------------------+----+---------+\n",
      "|movieId|               title|              genres|userId|rating|          timestamp|year|    genre|\n",
      "+-------+--------------------+--------------------+------+------+-------------------+----+---------+\n",
      "|      2|      Jumanji (1995)|Adventure|Childre...|     1|   3.5|2005-04-02 23:53:47|2005|Adventure|\n",
      "|      2|      Jumanji (1995)|Adventure|Childre...|     1|   3.5|2005-04-02 23:53:47|2005| Children|\n",
      "|      2|      Jumanji (1995)|Adventure|Childre...|     1|   3.5|2005-04-02 23:53:47|2005|  Fantasy|\n",
      "|     29|City of Lost Chil...|Adventure|Drama|F...|     1|   3.5|2005-04-02 23:31:16|2005|Adventure|\n",
      "|     29|City of Lost Chil...|Adventure|Drama|F...|     1|   3.5|2005-04-02 23:31:16|2005|    Drama|\n",
      "+-------+--------------------+--------------------+------+------+-------------------+----+---------+\n",
      "only showing top 5 rows\n",
      "\n"
     ]
    }
   ],
   "source": [
    "# Preprocess movies and ratings data\n",
    "movies_ratings_df = preprocess_movies_ratings(movie_df, rating_df)\n",
    "\n",
    "# Inspect preprocessed data\n",
    "print(\"Inspecting movies_ratings_df after preprocessing:\")\n",
    "inspect_data(movies_ratings_df, num_rows=5)\n",
    "\n",
    "# Calculate average ratings by genre\n",
    "avg_ratings_by_genre = calculate_avg_ratings_by_genre(movies_ratings_df)\n",
    "\n",
    "# Calculate ratings by year\n",
    "ratings_by_year = calculate_ratings_by_year(movies_ratings_df)"
   ]
  },
  {
   "cell_type": "markdown",
   "metadata": {},
   "source": [
    "- **Merge the Dataset** :\n",
    "\n",
    "The six files contain complementary information that can be combined using shared keys like **userId**, **movieId**, and **tagId**. Below is an explanation of each file’s role and how they are merged to form a unified dataset."
   ]
  },
  {
   "cell_type": "code",
   "execution_count": 4,
   "metadata": {},
   "outputs": [],
   "source": [
    "import libs"
   ]
  },
  {
   "cell_type": "code",
   "execution_count": 12,
   "metadata": {},
   "outputs": [],
   "source": [
    "from libs.analysis_functions import merge_datasets"
   ]
  },
  {
   "cell_type": "code",
   "execution_count": 13,
   "metadata": {},
   "outputs": [
    {
     "name": "stderr",
     "output_type": "stream",
     "text": [
      "                                                                                \r"
     ]
    },
    {
     "name": "stdout",
     "output_type": "stream",
     "text": [
      "Dataset Schema:\n",
      "root\n",
      " |-- movieId: integer (nullable = true)\n",
      " |-- userId: integer (nullable = true)\n",
      " |-- title: string (nullable = true)\n",
      " |-- genres: string (nullable = false)\n",
      " |-- rating: double (nullable = true)\n",
      " |-- rating_timestamp: timestamp (nullable = true)\n",
      " |-- user_tag: string (nullable = false)\n",
      " |-- tag_timestamp: timestamp (nullable = true)\n",
      " |-- tagId: integer (nullable = true)\n",
      " |-- relevance: double (nullable = false)\n",
      " |-- genome_tag: string (nullable = true)\n",
      " |-- rating_date: date (nullable = true)\n",
      "\n",
      "\n",
      "Sample Rows:\n"
     ]
    },
    {
     "name": "stderr",
     "output_type": "stream",
     "text": [
      "[Stage 74:=================>                                       (3 + 7) / 10]\r"
     ]
    },
    {
     "name": "stdout",
     "output_type": "stream",
     "text": [
      "+-------+------+--------------------+------------------+------+-------------------+--------+-------------+-----+---------+------------+-----------+\n",
      "|movieId|userId|               title|            genres|rating|   rating_timestamp|user_tag|tag_timestamp|tagId|relevance|  genome_tag|rating_date|\n",
      "+-------+------+--------------------+------------------+------+-------------------+--------+-------------+-----+---------+------------+-----------+\n",
      "|   2659| 70324|It Came from Holl...|Comedy|Documentary|   4.0|1999-10-23 10:54:57|  No Tag|         NULL|    1|  0.04275|         007| 1999-10-23|\n",
      "|   2659| 70324|It Came from Holl...|Comedy|Documentary|   4.0|1999-10-23 10:54:57|  No Tag|         NULL|    2|  0.05125|007 (series)| 1999-10-23|\n",
      "|   2659| 70324|It Came from Holl...|Comedy|Documentary|   4.0|1999-10-23 10:54:57|  No Tag|         NULL|    3|  0.02875|18th century| 1999-10-23|\n",
      "|   2659| 70324|It Came from Holl...|Comedy|Documentary|   4.0|1999-10-23 10:54:57|  No Tag|         NULL|    4|   0.0705|       1920s| 1999-10-23|\n",
      "|   2659| 70324|It Came from Holl...|Comedy|Documentary|   4.0|1999-10-23 10:54:57|  No Tag|         NULL|    5|    0.161|       1930s| 1999-10-23|\n",
      "|   2659| 70324|It Came from Holl...|Comedy|Documentary|   4.0|1999-10-23 10:54:57|  No Tag|         NULL|    6|  0.32025|       1950s| 1999-10-23|\n",
      "|   2659| 70324|It Came from Holl...|Comedy|Documentary|   4.0|1999-10-23 10:54:57|  No Tag|         NULL|    7|  0.04925|       1960s| 1999-10-23|\n",
      "|   2659| 70324|It Came from Holl...|Comedy|Documentary|   4.0|1999-10-23 10:54:57|  No Tag|         NULL|    8|  0.18325|       1970s| 1999-10-23|\n",
      "|   2659| 70324|It Came from Holl...|Comedy|Documentary|   4.0|1999-10-23 10:54:57|  No Tag|         NULL|    9|   0.1475|       1980s| 1999-10-23|\n",
      "|   2659| 70324|It Came from Holl...|Comedy|Documentary|   4.0|1999-10-23 10:54:57|  No Tag|         NULL|   10|  0.02725|19th century| 1999-10-23|\n",
      "+-------+------+--------------------+------------------+------+-------------------+--------+-------------+-----+---------+------------+-----------+\n",
      "only showing top 10 rows\n",
      "\n"
     ]
    },
    {
     "name": "stderr",
     "output_type": "stream",
     "text": [
      "                                                                                \r"
     ]
    }
   ],
   "source": [
    "# Import necessary modules\n",
    "from libs.analysis_functions import initialize_spark, load_data, merge_datasets, inspect_data\n",
    "\n",
    "# Initialize Spark session\n",
    "spark = initialize_spark()\n",
    "\n",
    "# Load datasets\n",
    "path = \"/Users/roberto/Desktop/HM4-ADM/datasets\"  # Update with the actual path to your dataset\n",
    "tag_df, rating_df, movie_df, link_df, genome_scores_df, genome_tags_df = load_data(spark, path)\n",
    "\n",
    "# Merge datasets into a single DataFrame\n",
    "final_dataset = merge_datasets(tag_df, rating_df, movie_df, link_df, genome_scores_df, genome_tags_df)\n",
    "\n",
    "# Visualize the merged dataset\n",
    "print(\"Dataset Schema:\")\n",
    "final_dataset.printSchema()  # Display the schema of the DataFrame\n",
    "\n",
    "print(\"\\nSample Rows:\")\n",
    "final_dataset.show(10)  # Display the first 10 rows of the dataset"
   ]
  },
  {
   "cell_type": "markdown",
   "metadata": {},
   "source": [
    "1.2###"
   ]
  },
  {
   "cell_type": "markdown",
   "metadata": {},
   "source": [
    "## **1.2 Minhash Signatures**\n",
    "Using the userId and movieId columns, implement your own MinHash function. This function will hash each user's watched movie list, creating a representation that allows for quick comparisons of user similarities.\n",
    "\n",
    "**Important**: Implement your MinHash function from scratch—do not use any pre-built hash functions.\n",
    "Use your MinHash function to generate signature vectors for each user based on their rated movies.\n",
    "Experiment with different hash functions and threshold values to find the most effective configurations. Report these results.\n",
    "Read the class materials and, if necessary, conduct an internet search. The description of hash functions in the book may be helpful as a reference."
   ]
  },
  {
   "cell_type": "code",
   "execution_count": 2,
   "metadata": {},
   "outputs": [
    {
     "name": "stderr",
     "output_type": "stream",
     "text": [
      "                                                                                \r"
     ]
    },
    {
     "name": "stdout",
     "output_type": "stream",
     "text": [
      "User MinHash Signatures:\n"
     ]
    },
    {
     "name": "stderr",
     "output_type": "stream",
     "text": [
      "                                                                                \r"
     ]
    },
    {
     "name": "stdout",
     "output_type": "stream",
     "text": [
      "+------+--------------------+--------------------+\n",
      "|userId|            movieIds|           signature|\n",
      "+------+--------------------+--------------------+\n",
      "|    26|[356, 589, 539, 3...|[3813, 977, 182, ...|\n",
      "|    27|[3508, 539, 235, ...|[1108, 169, 38, 8...|\n",
      "|    28|[161, 356, 509, 3...|[3813, 977, 182, ...|\n",
      "|    31|[4366, 78469, 330...|[1207, 153, 162, ...|\n",
      "|    34|[466, 356, 589, 6...|[25, 272, 182, 34...|\n",
      "+------+--------------------+--------------------+\n",
      "only showing top 5 rows\n",
      "\n"
     ]
    },
    {
     "name": "stderr",
     "output_type": "stream",
     "text": [
      "                                                                                \r"
     ]
    },
    {
     "name": "stdout",
     "output_type": "stream",
     "text": [
      "Jaccard Similarity (MinHash) between User 1 and User 2: 0.0400\n"
     ]
    },
    {
     "name": "stderr",
     "output_type": "stream",
     "text": [
      "                                                                                \r"
     ]
    },
    {
     "ename": "",
     "evalue": "",
     "output_type": "error",
     "traceback": [
      "\u001b[1;31mNon è possibile eseguire il codice. La sessione è stata eliminata. Provare a riavviare il kernel."
     ]
    },
    {
     "ename": "",
     "evalue": "",
     "output_type": "error",
     "traceback": [
      "\u001b[1;31mSi è verificato un arresto anomalo del kernel durante l'esecuzione del codice nella cella attiva o in una cella precedente. Esaminare il codice nelle celle per identificare una possibile causa dell'errore. Per altre informazioni, fare clic su <a href='https://aka.ms/vscodeJupyterKernelCrash'>here</a>. Per altri dettagli, vedere Jupyter <a href='command:jupyter.viewOutput'>log</a>."
     ]
    }
   ],
   "source": [
    "# Import necessary libraries and functions\n",
    "from pyspark.sql.functions import collect_set, col\n",
    "from libs.minhash_functions import MinHashSpark\n",
    "import matplotlib.pyplot as plt\n",
    "\n",
    "from libs.analysis_functions import (\n",
    "    initialize_spark, load_data, preprocess_movies_ratings,\n",
    "    calculate_avg_ratings_by_genre, calculate_ratings_by_year,\n",
    "    inspect_data, save_to_csv\n",
    ")\n",
    "\n",
    "# Initialize Spark\n",
    "spark = initialize_spark()\n",
    "\n",
    "# Define dataset path\n",
    "path = \"/Users/roberto/Desktop/HM4-ADM/datasets\"\n",
    "\n",
    "# Load Data\n",
    "tag_df, rating_df, movie_df, link_df, genome_scores_df, genome_tags_df = load_data(spark, path)\n",
    "\n",
    "# Preprocess movies and ratings data\n",
    "movies_ratings_df = preprocess_movies_ratings(movie_df, rating_df)\n",
    "\n",
    "# Aggregate movies watched by each user\n",
    "user_movies_df = (\n",
    "    movies_ratings_df\n",
    "    .groupBy(\"userId\")\n",
    "    .agg(collect_set(\"movieId\").alias(\"movieIds\"))\n",
    ")\n",
    "\n",
    "# Initialize MinHash\n",
    "num_hashes = 50\n",
    "minhash = MinHashSpark(num_hashes=num_hashes)\n",
    "\n",
    "# Compute MinHash signatures\n",
    "user_movies_with_signature = user_movies_df.withColumn(\n",
    "    \"signature\", minhash.compute_signature_udf()(col(\"movieIds\"))\n",
    ")\n",
    "\n",
    "# Inspect the signatures\n",
    "print(\"User MinHash Signatures:\")\n",
    "inspect_data(user_movies_with_signature, num_rows=5)\n",
    "\n",
    "# Example: Compute Jaccard similarity between the first two users\n",
    "users = user_movies_with_signature.limit(2).collect()\n",
    "user1_sig = users[0][\"signature\"]\n",
    "user2_sig = users[1][\"signature\"]\n",
    "similarity = minhash.jaccard_similarity(user1_sig, user2_sig)\n",
    "\n",
    "print(f\"Jaccard Similarity (MinHash) between User 1 and User 2: {similarity:.4f}\")\n",
    "\n",
    "# Visualize Jaccard similarities for all users\n",
    "user_signatures = user_movies_with_signature.collect()\n",
    "similarities = []\n",
    "for i in range(len(user_signatures)):\n",
    "    for j in range(i + 1, len(user_signatures)):\n",
    "        sim = minhash.jaccard_similarity(\n",
    "            user_signatures[i][\"signature\"],\n",
    "            user_signatures[j][\"signature\"]\n",
    "        )\n",
    "        similarities.append(sim)\n",
    "\n",
    "# Plot similarity distribution\n",
    "plt.figure(figsize=(10, 6))\n",
    "plt.hist(similarities, bins=30, alpha=0.7)\n",
    "plt.title(\"Jaccard Similarity Distribution Between Users (MinHash)\")\n",
    "plt.xlabel(\"Similarity\")\n",
    "plt.ylabel(\"Frequency\")\n",
    "plt.tight_layout()\n",
    "plt.show()\n",
    "\n",
    "# Experiment with threshold values\n",
    "thresholds = [0.2, 0.4, 0.6, 0.8]\n",
    "results = []\n",
    "\n",
    "for threshold in thresholds:\n",
    "    similar_pairs = sum(1 for sim in similarities if sim >= threshold)\n",
    "    results.append((threshold, similar_pairs))\n",
    "\n",
    "# Plot results\n",
    "threshold_df = pd.DataFrame(results, columns=[\"Threshold\", \"Number of Similar Pairs\"])\n",
    "threshold_df.plot(x=\"Threshold\", y=\"Number of Similar Pairs\", kind=\"bar\", legend=False)\n",
    "plt.title(\"Number of Similar User Pairs at Different Thresholds\")\n",
    "plt.xlabel(\"Threshold\")\n",
    "plt.ylabel(\"Number of Pairs\")\n",
    "plt.tight_layout()\n",
    "plt.show()"
   ]
  },
  {
   "cell_type": "markdown",
   "metadata": {},
   "source": [
    "It’s normal for MinHash computations to take some time, especially when the dataset is large and you’re generating multiple hash signatures for each user. However, there are optimizations and improvements you can make to reduce runtime."
   ]
  },
  {
   "cell_type": "code",
   "execution_count": 1,
   "metadata": {},
   "outputs": [
    {
     "name": "stderr",
     "output_type": "stream",
     "text": [
      "24/11/25 21:48:33 WARN Utils: Your hostname, Robertos-MacBook-Pro.local resolves to a loopback address: 127.0.0.1; using 192.168.1.51 instead (on interface en0)\n",
      "24/11/25 21:48:33 WARN Utils: Set SPARK_LOCAL_IP if you need to bind to another address\n",
      "Setting default log level to \"WARN\".\n",
      "To adjust logging level use sc.setLogLevel(newLevel). For SparkR, use setLogLevel(newLevel).\n",
      "24/11/25 21:48:33 WARN NativeCodeLoader: Unable to load native-hadoop library for your platform... using builtin-java classes where applicable\n"
     ]
    }
   ],
   "source": [
    "from pyspark.sql import SparkSession\n",
    "\n",
    "spark = SparkSession.builder \\\n",
    "    .appName(\"MovieLens Analysis\") \\\n",
    "    .config(\"spark.executor.memory\", \"4g\") \\\n",
    "    .config(\"spark.driver.memory\", \"4g\") \\\n",
    "    .config(\"spark.memory.fraction\", \"0.8\") \\\n",
    "    .getOrCreate()"
   ]
  },
  {
   "cell_type": "code",
   "execution_count": 3,
   "metadata": {},
   "outputs": [],
   "source": [
    "user_movies_df = (\n",
    "    movies_ratings_df\n",
    "    .groupBy(\"userId\")\n",
    "    .agg(collect_set(\"movieId\").alias(\"movieIds\"))\n",
    "    .limit(500)  # Use only 500 users for testing\n",
    ")"
   ]
  },
  {
   "cell_type": "code",
   "execution_count": 4,
   "metadata": {},
   "outputs": [
    {
     "name": "stderr",
     "output_type": "stream",
     "text": [
      "                                                                                \r"
     ]
    },
    {
     "name": "stdout",
     "output_type": "stream",
     "text": [
      "+------+--------------------+--------------------+------+--------------------+--------------------+----------+\n",
      "|userId|            movieIds|           signature|userId|            movieIds|           signature|similarity|\n",
      "+------+--------------------+--------------------+------+--------------------+--------------------+----------+\n",
      "|    26|[356, 589, 539, 3...|[796, 1088, 280, ...|    28|[161, 356, 509, 3...|[5294, 9540, 5117...|0.22222222|\n",
      "|    26|[356, 589, 539, 3...|[796, 1088, 280, ...|   108|[466, 356, 589, 5...|[247, 5157, 280, ...|0.20731707|\n",
      "|    26|[356, 589, 539, 3...|[796, 1088, 280, ...|   183|[161, 589, 153, 2...|[4294, 1088, 280,...|0.20987654|\n",
      "|    26|[356, 589, 539, 3...|[796, 1088, 280, ...|   243|[356, 153, 590, 3...|[10392, 1088, 280...|0.25316456|\n",
      "|    26|[356, 589, 539, 3...|[796, 1088, 280, ...|   296|[153, 1, 590, 2, ...|[2596, 5314, 1720...|0.22222222|\n",
      "+------+--------------------+--------------------+------+--------------------+--------------------+----------+\n",
      "only showing top 5 rows\n",
      "\n"
     ]
    }
   ],
   "source": [
    "from pyspark.sql.functions import col, udf\n",
    "from pyspark.sql.types import FloatType\n",
    "\n",
    "def calculate_jaccard(sig1, sig2):\n",
    "    \"\"\"\n",
    "    Compute Jaccard similarity between two signatures.\n",
    "    \"\"\"\n",
    "    intersection = len(set(sig1) & set(sig2))\n",
    "    union = len(set(sig1) | set(sig2))\n",
    "    return float(intersection) / float(union) if union != 0 else 0.0\n",
    "\n",
    "# Register as UDF\n",
    "jaccard_udf = udf(calculate_jaccard, FloatType())\n",
    "\n",
    "# Generate all pairs of users\n",
    "user_pairs = user_movies_with_signature.alias(\"u1\").crossJoin(\n",
    "    user_movies_with_signature.alias(\"u2\")\n",
    ").filter(col(\"u1.userId\") < col(\"u2.userId\"))\n",
    "\n",
    "# Compute similarities\n",
    "user_pairs_with_similarity = user_pairs.withColumn(\n",
    "    \"similarity\",\n",
    "    jaccard_udf(col(\"u1.signature\"), col(\"u2.signature\"))\n",
    ")\n",
    "\n",
    "# Filter based on a threshold\n",
    "threshold = 0.2\n",
    "similar_users = user_pairs_with_similarity.filter(col(\"similarity\") >= threshold)\n",
    "\n",
    "similar_users.show(5)  # Inspect results"
   ]
  },
  {
   "cell_type": "code",
   "execution_count": 5,
   "metadata": {},
   "outputs": [
    {
     "name": "stdout",
     "output_type": "stream",
     "text": [
      "Inspecting intermediate results...\n"
     ]
    },
    {
     "name": "stderr",
     "output_type": "stream",
     "text": [
      "[Stage 37:=================>                                       (3 + 7) / 10]\r"
     ]
    },
    {
     "name": "stdout",
     "output_type": "stream",
     "text": [
      "+------+--------------------+--------------------+\n",
      "|userId|            movieIds|           signature|\n",
      "+------+--------------------+--------------------+\n",
      "|    26|[356, 589, 539, 3...|[796, 1088, 280, ...|\n",
      "|    27|[3508, 539, 235, ...|[1204, 4441, 1157...|\n",
      "|    28|[161, 356, 509, 3...|[5294, 9540, 5117...|\n",
      "|    31|[4366, 78469, 330...|[306, 493, 86, 13...|\n",
      "|    34|[466, 356, 589, 6...|[996, 7592, 538, ...|\n",
      "+------+--------------------+--------------------+\n",
      "only showing top 5 rows\n",
      "\n"
     ]
    },
    {
     "name": "stderr",
     "output_type": "stream",
     "text": [
      "                                                                                \r"
     ]
    }
   ],
   "source": [
    "print(\"Inspecting intermediate results...\")\n",
    "inspect_data(user_movies_with_signature, num_rows=5)"
   ]
  },
  {
   "cell_type": "code",
   "execution_count": 6,
   "metadata": {},
   "outputs": [
    {
     "name": "stderr",
     "output_type": "stream",
     "text": [
      "24/11/25 21:49:58 WARN SparkSession: Using an existing Spark session; only runtime SQL configurations will take effect.\n"
     ]
    }
   ],
   "source": [
    "spark = SparkSession.builder \\\n",
    "    .appName(\"MovieLens Analysis\") \\\n",
    "    .config(\"spark.executor.memory\", \"4g\") \\\n",
    "    .config(\"spark.driver.memory\", \"4g\") \\\n",
    "    .config(\"spark.network.timeout\", \"600s\") \\\n",
    "    .config(\"spark.executor.heartbeatInterval\", \"100s\") \\\n",
    "    .getOrCreate()"
   ]
  },
  {
   "cell_type": "markdown",
   "metadata": {},
   "source": [
    "## *Optimizations*, \n",
    "#### I need to put this in libs.py soon"
   ]
  },
  {
   "cell_type": "code",
   "execution_count": 9,
   "metadata": {},
   "outputs": [
    {
     "name": "stderr",
     "output_type": "stream",
     "text": [
      "[Stage 50:>                                                       (0 + 10) / 10]\r"
     ]
    },
    {
     "name": "stdout",
     "output_type": "stream",
     "text": [
      "Recommended movies for User 1: set()\n"
     ]
    },
    {
     "name": "stderr",
     "output_type": "stream",
     "text": [
      "                                                                                \r"
     ]
    }
   ],
   "source": [
    "# Import necessary libraries\n",
    "from pyspark.sql import SparkSession\n",
    "from pyspark.sql.functions import collect_set, col, lit\n",
    "import numpy as np\n",
    "import random\n",
    "import matplotlib.pyplot as plt\n",
    "\n",
    "# Initialize Spark\n",
    "def initialize_spark(app_name=\"Movie Recommendation System\"):\n",
    "    return SparkSession.builder.appName(app_name).getOrCreate()\n",
    "\n",
    "# Load data\n",
    "def load_data(spark, path):\n",
    "    rating_df = spark.read.csv(f\"{path}/rating.csv\", header=True, inferSchema=True)\n",
    "    return rating_df\n",
    "\n",
    "# MinHash Function (Implemented from scratch)\n",
    "class MinHash:\n",
    "    def __init__(self, num_hashes):\n",
    "        self.num_hashes = num_hashes\n",
    "        self.hash_functions = self._generate_hash_functions()\n",
    "\n",
    "    def _generate_hash_functions(self):\n",
    "        # Generate random coefficients for hash functions\n",
    "        max_val = 2**32 - 1\n",
    "        return [\n",
    "            (random.randint(1, max_val), random.randint(1, max_val))\n",
    "            for _ in range(self.num_hashes)\n",
    "        ]\n",
    "\n",
    "    def compute_signature(self, user_movies):\n",
    "        \"\"\"\n",
    "        Compute the MinHash signature for a set of movies (user_movies).\n",
    "        \"\"\"\n",
    "        signature = []\n",
    "        for a, b in self.hash_functions:\n",
    "            min_hash = min((a * movie + b) % (10**9 + 7) for movie in user_movies)\n",
    "            signature.append(min_hash)\n",
    "        return signature\n",
    "\n",
    "# Locality-Sensitive Hashing (LSH)\n",
    "class LSH:\n",
    "    def __init__(self, num_bands, rows_per_band):\n",
    "        self.num_bands = num_bands\n",
    "        self.rows_per_band = rows_per_band\n",
    "\n",
    "    def hash_signature(self, signature):\n",
    "        \"\"\"\n",
    "        Group MinHash signature into bands and hash each band.\n",
    "        \"\"\"\n",
    "        assert len(signature) == self.num_bands * self.rows_per_band\n",
    "        band_hashes = []\n",
    "        for i in range(self.num_bands):\n",
    "            band = tuple(signature[i * self.rows_per_band:(i + 1) * self.rows_per_band])\n",
    "            band_hashes.append(hash(band))\n",
    "        return band_hashes\n",
    "\n",
    "# Preprocess the data\n",
    "def preprocess_data(rating_df):\n",
    "    \"\"\"\n",
    "    Group movies watched by each user and return a DataFrame with userId and movieIds.\n",
    "    \"\"\"\n",
    "    user_movies_df = rating_df.groupBy(\"userId\").agg(collect_set(\"movieId\").alias(\"movieIds\"))\n",
    "    return user_movies_df\n",
    "\n",
    "# Jaccard Similarity\n",
    "def jaccard_similarity(set1, set2):\n",
    "    return len(set1 & set2) / len(set1 | set2)\n",
    "\n",
    "def generate_recommendations(user_id, user_movies_df, user_signatures, lsh_buckets, user_to_buckets):\n",
    "    \"\"\"\n",
    "    Generate movie recommendations for a given user using LSH buckets.\n",
    "    \"\"\"\n",
    "    # Find similar users in the same LSH buckets\n",
    "    if user_id not in user_to_buckets:\n",
    "        print(f\"User {user_id} not found in LSH buckets.\")\n",
    "        return []\n",
    "\n",
    "    user_bands = user_to_buckets[user_id]\n",
    "    similar_users = set()\n",
    "    for band_hash in user_bands:\n",
    "        if band_hash in lsh_buckets:\n",
    "            similar_users.update(lsh_buckets[band_hash])\n",
    "\n",
    "    similar_users.discard(user_id)  # Remove the user itself from similar users\n",
    "\n",
    "    # Aggregate movies watched by similar users, excluding movies already watched\n",
    "    user_movies = set(user_movies_df.filter(col(\"userId\") == user_id).collect()[0][\"movieIds\"])\n",
    "    candidate_movies = set()\n",
    "    for similar_user in similar_users:\n",
    "        similar_user_movies = set(user_movies_df.filter(col(\"userId\") == similar_user).collect()[0][\"movieIds\"])\n",
    "        candidate_movies.update(similar_user_movies)\n",
    "    \n",
    "    recommendations = candidate_movies - user_movies\n",
    "    return recommendations\n",
    "\n",
    "# Main Recommendation System Implementation\n",
    "def recommendation_system(path, num_hashes=50, num_bands=5):\n",
    "    \"\"\"\n",
    "    Full implementation of the recommendation system.\n",
    "    \"\"\"\n",
    "    spark = initialize_spark()\n",
    "\n",
    "    # Load data\n",
    "    rating_df = load_data(spark, path)\n",
    "\n",
    "    # Preprocess data\n",
    "    user_movies_df = preprocess_data(rating_df)\n",
    "\n",
    "    # Initialize MinHash\n",
    "    minhash = MinHash(num_hashes=num_hashes)\n",
    "\n",
    "    # Compute MinHash signatures for all users\n",
    "    user_signatures = {}\n",
    "    for row in user_movies_df.collect():\n",
    "        user_id = row[\"userId\"]\n",
    "        movie_ids = row[\"movieIds\"]\n",
    "        user_signatures[user_id] = minhash.compute_signature(movie_ids)\n",
    "\n",
    "    # Initialize LSH\n",
    "    rows_per_band = num_hashes // num_bands\n",
    "    lsh = LSH(num_bands=num_bands, rows_per_band=rows_per_band)\n",
    "\n",
    "        # Create LSH buckets and user-to-bucket mappings\n",
    "    lsh_buckets = {}\n",
    "    user_to_buckets = {}\n",
    "\n",
    "    for user_id, signature in user_signatures.items():\n",
    "        band_hashes = lsh.hash_signature(signature)\n",
    "        user_to_buckets[user_id] = band_hashes  # Map user to their bands\n",
    "        for band_hash in band_hashes:\n",
    "            if band_hash not in lsh_buckets:\n",
    "                lsh_buckets[band_hash] = []\n",
    "            lsh_buckets[band_hash].append(user_id)\n",
    "\n",
    "    # Generate Recommendations for a sample user\n",
    "    sample_user_id = 1\n",
    "    recommendations = generate_recommendations(sample_user_id, user_movies_df, user_signatures, lsh_buckets, user_to_buckets)\n",
    "\n",
    "    print(f\"Recommended movies for User {sample_user_id}: {recommendations}\")\n",
    "\n",
    "# Call the recommendation system\n",
    "if __name__ == \"__main__\":\n",
    "    dataset_path = \"/Users/roberto/Desktop/HM4-ADM/datasets\"\n",
    "    recommendation_system(dataset_path, num_hashes=50, num_bands=5)"
   ]
  },
  {
   "cell_type": "markdown",
   "metadata": {},
   "source": [
    "## **1.3 Locality-Sensitive Hashing (LSH)**\n",
    "Now that you have generated MinHash user signatures, apply Locality-Sensitive Hashing (LSH) to cluster similar users.\n",
    "\n",
    "Bucket Creation: For each user, divide the MinHash signature into bands and hash each band to form buckets. Users with similar bands should fall into the same buckets.\n",
    "\n",
    "Debugging Tip: After creating buckets, check a few bucket contents to verify that multiple users are being grouped in the same buckets.\n",
    "Query: For a given user, identify the two most similar users based on their bucket placement. If a user doesn’t have any similar users in their bucket, adjust the parameters until similar users are found.\n",
    "\n",
    "Movie Recommendation Logic:\n",
    "\n",
    "If both similar users have rated a movie, recommend this movie based on the average rating.\n",
    "If there are no commonly rated movies, recommend the top-rated movies of the most similar user.\n",
    "Final Recommendation: Provide at most five movies to the user.\n",
    "\n",
    "Example recommendation logic for a user:\n",
    "\n",
    "| User | Movie Title  | Rating |\n",
    "|------|--------------|--------|\n",
    "| A    | Inception    | 4.5    |\n",
    "| A    | Titanic      | 4.2    |\n",
    "| A    | Avatar       | 2.8    |\n",
    "| B    | Inception    | 4.6    |\n",
    "| B    | The Matrix   | 3.9    |\n",
    "| B    | Toy Story    | 4.7    |\n",
    "| C    | Titanic      | 3.8    |\n",
    "| C    | Avatar       | 4.3    |\n",
    "| C    | Shrek        | 4.1    |\n",
    "\n",
    "If User A and User B are identified as the two most similar users to User X, the recommended movies would be:\n",
    "\n",
    "Common Movies: \"Inception\" (average rating: 4.55).\n",
    "Top-rated from Most Similar User: \"Toy Story\" (4.7) from User B and \"Titanic\" (4.2) from User A.\n",
    "If fewer than 5 movies are found, complete the list using other high-rated movies by the most similar users."
   ]
  },
  {
   "cell_type": "code",
   "execution_count": 1,
   "metadata": {},
   "outputs": [
    {
     "name": "stderr",
     "output_type": "stream",
     "text": [
      "24/12/04 22:13:56 WARN Utils: Your hostname, Robertos-MacBook-Pro.local resolves to a loopback address: 127.0.0.1; using 192.168.1.53 instead (on interface en0)\n",
      "24/12/04 22:13:56 WARN Utils: Set SPARK_LOCAL_IP if you need to bind to another address\n",
      "Setting default log level to \"WARN\".\n",
      "To adjust logging level use sc.setLogLevel(newLevel). For SparkR, use setLogLevel(newLevel).\n",
      "24/12/04 22:13:57 WARN NativeCodeLoader: Unable to load native-hadoop library for your platform... using builtin-java classes where applicable\n",
      "                                                                                \r"
     ]
    },
    {
     "name": "stdout",
     "output_type": "stream",
     "text": [
      "\n",
      "=== Debug: LSH Buckets ===\n",
      "Band -2149023544295741073: Users: [26]\n",
      "Band 4094252399654784968: Users: [26, 53467, 61924, 21585, 72980, 120489, 13193, 75505, 117295, 40831, 62541, 73723, 93788, 129503, 63946, 37922, 42494, 74881, 126268, 97983, 104341, 113079, 3992, 17371, 129944, 95211, 31506, 118862, 126988, 16250]\n",
      "Band 1157089503501596411: Users: [26]\n",
      "Band -913223780959199977: Users: [26]\n",
      "Band -5050812654376477584: Users: [26, 49779]\n",
      "\n",
      "Generating recommendations for User 1...\n"
     ]
    },
    {
     "name": "stderr",
     "output_type": "stream",
     "text": [
      "                                                                                \r"
     ]
    },
    {
     "name": "stdout",
     "output_type": "stream",
     "text": [
      "Recommended movies for User 1: set()\n"
     ]
    }
   ],
   "source": [
    "# Import necessary libraries\n",
    "from pyspark.sql import SparkSession\n",
    "from pyspark.sql.functions import collect_set, col\n",
    "from pyspark.sql.types import IntegerType\n",
    "import random\n",
    "import matplotlib.pyplot as plt\n",
    "import pandas as pd\n",
    "\n",
    "# MinHash Implementation\n",
    "class MinHash:\n",
    "    def __init__(self, num_hashes=50):\n",
    "        self.num_hashes = num_hashes\n",
    "        self.hash_funcs = self.generate_hash_functions()\n",
    "\n",
    "    def generate_hash_functions(self):\n",
    "        \"\"\"\n",
    "        Generate a list of hash functions of the form:\n",
    "        h(x) = (a * x + b) % p\n",
    "        \"\"\"\n",
    "        p = 2**31 - 1  # Large prime number\n",
    "        hash_funcs = []\n",
    "        for _ in range(self.num_hashes):\n",
    "            a = random.randint(1, p - 1)\n",
    "            b = random.randint(0, p - 1)\n",
    "            hash_funcs.append((a, b))\n",
    "        return hash_funcs\n",
    "\n",
    "    def compute_signature(self, movie_ids):\n",
    "        \"\"\"\n",
    "        Compute the MinHash signature for a given list of movie IDs.\n",
    "        \"\"\"\n",
    "        signature = []\n",
    "        for a, b in self.hash_funcs:\n",
    "            min_hash = min((a * x + b) % (2**31 - 1) for x in movie_ids)\n",
    "            signature.append(min_hash)\n",
    "        return signature\n",
    "\n",
    "# LSH Implementation\n",
    "class LSH:\n",
    "    def __init__(self, num_bands):\n",
    "        self.num_bands = num_bands\n",
    "\n",
    "    def hash_signature(self, signature):\n",
    "        \"\"\"\n",
    "        Hash a signature into `num_bands` bands.\n",
    "        \"\"\"\n",
    "        band_size = len(signature) // self.num_bands\n",
    "        band_hashes = []\n",
    "        for i in range(self.num_bands):\n",
    "            band = signature[i * band_size: (i + 1) * band_size]\n",
    "            band_hash = hash(tuple(band))\n",
    "            band_hashes.append(band_hash)\n",
    "        return band_hashes\n",
    "\n",
    "# Spark Session Initialization\n",
    "def initialize_spark(app_name=\"Movie Recommendation System\"):\n",
    "    return SparkSession.builder.appName(app_name).getOrCreate()\n",
    "\n",
    "# Load Dataset\n",
    "def load_data(spark, path):\n",
    "    \"\"\"\n",
    "    Load MovieLens datasets into Spark DataFrames.\n",
    "    \"\"\"\n",
    "    rating_df = spark.read.csv(f\"{path}/rating.csv\", header=True, inferSchema=True)\n",
    "    movie_df = spark.read.csv(f\"{path}/movie.csv\", header=True, inferSchema=True)\n",
    "    return rating_df, movie_df\n",
    "\n",
    "# Preprocessing\n",
    "def preprocess_data(rating_df):\n",
    "    \"\"\"\n",
    "    Preprocess ratings data to create a list of movies watched by each user.\n",
    "    \"\"\"\n",
    "    user_movies_df = (\n",
    "        rating_df.groupBy(\"userId\")\n",
    "        .agg(collect_set(\"movieId\").alias(\"movieIds\"))\n",
    "    )\n",
    "    return user_movies_df\n",
    "\n",
    "# Generate Recommendations\n",
    "def generate_recommendations(user_id, user_movies_df, user_signatures, lsh_buckets, user_to_buckets):\n",
    "    \"\"\"\n",
    "    Generate movie recommendations for a given user using LSH buckets.\n",
    "    \"\"\"\n",
    "    if user_id not in user_to_buckets:\n",
    "        print(f\"[ERROR] User {user_id} not found in LSH buckets.\")\n",
    "        return []\n",
    "\n",
    "    user_bands = user_to_buckets[user_id]\n",
    "    similar_users = set()\n",
    "    for band_hash in user_bands:\n",
    "        if band_hash in lsh_buckets:\n",
    "            similar_users.update(lsh_buckets[band_hash])\n",
    "\n",
    "    similar_users.discard(user_id)\n",
    "    user_movies = set(user_movies_df.filter(col(\"userId\") == user_id).collect()[0][\"movieIds\"])\n",
    "    candidate_movies = set()\n",
    "    for similar_user in similar_users:\n",
    "        similar_user_movies = set(user_movies_df.filter(col(\"userId\") == similar_user).collect()[0][\"movieIds\"])\n",
    "        candidate_movies.update(similar_user_movies)\n",
    "\n",
    "    recommendations = candidate_movies - user_movies\n",
    "    return recommendations\n",
    "\n",
    "# Recommendation System Workflow\n",
    "def recommendation_system(dataset_path, num_hashes=50, num_bands=5):\n",
    "    # Step 1: Initialize Spark\n",
    "    spark = initialize_spark()\n",
    "\n",
    "    # Step 2: Load Data\n",
    "    rating_df, movie_df = load_data(spark, dataset_path)\n",
    "\n",
    "    # Step 3: Preprocess Data\n",
    "    user_movies_df = preprocess_data(rating_df)\n",
    "\n",
    "    # Step 4: MinHash Signature Computation\n",
    "    minhash = MinHash(num_hashes=num_hashes)\n",
    "    user_signatures = {}\n",
    "    for row in user_movies_df.collect():\n",
    "        user_signatures[row[\"userId\"]] = minhash.compute_signature(row[\"movieIds\"])\n",
    "\n",
    "    # Step 5: Locality-Sensitive Hashing (LSH)\n",
    "    lsh = LSH(num_bands=num_bands)\n",
    "    lsh_buckets = {}\n",
    "    user_to_buckets = {}\n",
    "\n",
    "    for user_id, signature in user_signatures.items():\n",
    "        band_hashes = lsh.hash_signature(signature)\n",
    "        user_to_buckets[user_id] = band_hashes\n",
    "        for band_hash in band_hashes:\n",
    "            if band_hash not in lsh_buckets:\n",
    "                lsh_buckets[band_hash] = []\n",
    "            lsh_buckets[band_hash].append(user_id)\n",
    "\n",
    "    # Debugging: Print the first 5 LSH buckets\n",
    "    print(\"\\n=== Debug: LSH Buckets ===\")\n",
    "    for band_hash, users in list(lsh_buckets.items())[:5]:\n",
    "        print(f\"Band {band_hash}: Users: {users}\")\n",
    "\n",
    "    # Step 6: Generate Recommendations for a Sample User\n",
    "    sample_user_id = 1\n",
    "    print(f\"\\nGenerating recommendations for User {sample_user_id}...\")\n",
    "    recommendations = generate_recommendations(sample_user_id, user_movies_df, user_signatures, lsh_buckets, user_to_buckets)\n",
    "    print(f\"Recommended movies for User {sample_user_id}: {recommendations}\")\n",
    "\n",
    "    def inspect_lsh_buckets(lsh_buckets):\n",
    "        print(\"\\n=== Debug: Inspecting LSH Buckets ===\")\n",
    "        for i, (band_hash, users) in enumerate(lsh_buckets.items()):\n",
    "            if i >= 5:  # Limit to inspecting 5 buckets\n",
    "                break\n",
    "            print(f\"Band {band_hash}: Users: {users}\")\n",
    "\n",
    "    # Stop Spark session\n",
    "    spark.stop()\n",
    "\n",
    "\n",
    "# Run the Recommendation System\n",
    "if __name__ == \"__main__\":\n",
    "    dataset_path = \"/Users/roberto/Desktop/HM4-ADM/datasets\"  # Replace with your dataset path\n",
    "    recommendation_system(dataset_path, num_hashes=50, num_bands=5)"
   ]
  },
  {
   "cell_type": "code",
   "execution_count": 10,
   "metadata": {},
   "outputs": [
    {
     "ename": "NameError",
     "evalue": "name 'user_movies_df' is not defined",
     "output_type": "error",
     "traceback": [
      "\u001b[0;31m---------------------------------------------------------------------------\u001b[0m",
      "\u001b[0;31mNameError\u001b[0m                                 Traceback (most recent call last)",
      "Cell \u001b[0;32mIn[10], line 1\u001b[0m\n\u001b[0;32m----> 1\u001b[0m user_1_movies \u001b[38;5;241m=\u001b[39m \u001b[43muser_movies_df\u001b[49m\u001b[38;5;241m.\u001b[39mfilter(col(\u001b[38;5;124m\"\u001b[39m\u001b[38;5;124muserId\u001b[39m\u001b[38;5;124m\"\u001b[39m) \u001b[38;5;241m==\u001b[39m \u001b[38;5;241m1\u001b[39m)\u001b[38;5;241m.\u001b[39mcollect()\n\u001b[1;32m      2\u001b[0m \u001b[38;5;28mprint\u001b[39m(\u001b[38;5;124mf\u001b[39m\u001b[38;5;124m\"\u001b[39m\u001b[38;5;124mUser 1 has rated \u001b[39m\u001b[38;5;132;01m{\u001b[39;00m\u001b[38;5;28mlen\u001b[39m(user_1_movies)\u001b[38;5;132;01m}\u001b[39;00m\u001b[38;5;124m movies.\u001b[39m\u001b[38;5;124m\"\u001b[39m)\n",
      "\u001b[0;31mNameError\u001b[0m: name 'user_movies_df' is not defined"
     ]
    }
   ],
   "source": [
    "user_1_movies = user_movies_df.filter(col(\"userId\") == 1).collect()\n",
    "print(f\"User 1 has rated {len(user_1_movies)} movies.\")"
   ]
  },
  {
   "cell_type": "code",
   "execution_count": 11,
   "metadata": {},
   "outputs": [
    {
     "ename": "NameError",
     "evalue": "name 'user_movies_df' is not defined",
     "output_type": "error",
     "traceback": [
      "\u001b[0;31m---------------------------------------------------------------------------\u001b[0m",
      "\u001b[0;31mNameError\u001b[0m                                 Traceback (most recent call last)",
      "Cell \u001b[0;32mIn[11], line 1\u001b[0m\n\u001b[0;32m----> 1\u001b[0m user_1_movies \u001b[38;5;241m=\u001b[39m \u001b[43muser_movies_df\u001b[49m\u001b[38;5;241m.\u001b[39mfilter(col(\u001b[38;5;124m\"\u001b[39m\u001b[38;5;124muserId\u001b[39m\u001b[38;5;124m\"\u001b[39m) \u001b[38;5;241m==\u001b[39m \u001b[38;5;241m1\u001b[39m)\u001b[38;5;241m.\u001b[39mcollect()\n\u001b[1;32m      2\u001b[0m \u001b[38;5;28mprint\u001b[39m(\u001b[38;5;124mf\u001b[39m\u001b[38;5;124m\"\u001b[39m\u001b[38;5;124mUser 1 has rated \u001b[39m\u001b[38;5;132;01m{\u001b[39;00m\u001b[38;5;28mlen\u001b[39m(user_1_movies)\u001b[38;5;132;01m}\u001b[39;00m\u001b[38;5;124m movies.\u001b[39m\u001b[38;5;124m\"\u001b[39m)\n",
      "\u001b[0;31mNameError\u001b[0m: name 'user_movies_df' is not defined"
     ]
    }
   ],
   "source": [
    "user_1_movies = user_movies_df.filter(col(\"userId\") == 1).collect()\n",
    "print(f\"User 1 has rated {len(user_1_movies)} movies.\")"
   ]
  },
  {
   "cell_type": "code",
   "execution_count": 6,
   "metadata": {},
   "outputs": [],
   "source": [
    "from libs.LSH import plot_probability_curve, locality_sensitive_hashing_workflow, recommend_movies_lsh , debug_lsh_buckets, lsh_bucket_creation, create_characteristic_matrix, next_prime"
   ]
  },
  {
   "cell_type": "code",
   "execution_count": 8,
   "metadata": {},
   "outputs": [
    {
     "name": "stdout",
     "output_type": "stream",
     "text": [
      "\n",
      "=== Debug: LSH Buckets ===\n",
      "Bucket -362615092996109651: Users: [0, 126342]\n",
      "Bucket 8020053328805490865: Users: [1]\n",
      "Bucket 7237463536007198218: Users: [2]\n",
      "Bucket -5317846402861266610: Users: [3]\n",
      "Bucket 477937657701959559: Users: [4]\n",
      "\n",
      "Generating recommendations for User 1...\n",
      "Recommended movies for User 1: [4235, 3426, 37495, 1232, 4529]\n",
      "\n",
      "Generating recommendations for User 2...\n",
      "Recommended movies for User 2: [3579, 2624, 1250, 3347, 3481]\n",
      "\n",
      "Generating recommendations for User 3...\n",
      "Recommended movies for User 3: [5956, 1754, 1956, 1955, 1953]\n",
      "\n",
      "Generating recommendations for User 4...\n",
      "Recommended movies for User 4: [1136, 161, 588, 288, 260]\n",
      "\n",
      "Generating recommendations for User 5...\n",
      "Recommended movies for User 5: [1041, 1047, 1089, 986, 950]\n",
      "\n",
      "Generating recommendations for User 6...\n",
      "Recommended movies for User 6: [767, 1112, 1404, 527, 987]\n",
      "\n",
      "Generating recommendations for User 7...\n",
      "Recommended movies for User 7: [6942, 58559, 54503, 33004, 541]\n",
      "\n",
      "Generating recommendations for User 8...\n"
     ]
    },
    {
     "ename": "KeyboardInterrupt",
     "evalue": "",
     "output_type": "error",
     "traceback": [
      "\u001b[0;31m---------------------------------------------------------------------------\u001b[0m",
      "\u001b[0;31mKeyboardInterrupt\u001b[0m                         Traceback (most recent call last)",
      "Cell \u001b[0;32mIn[8], line 2\u001b[0m\n\u001b[1;32m      1\u001b[0m \u001b[38;5;66;03m# Call the workflow\u001b[39;00m\n\u001b[0;32m----> 2\u001b[0m \u001b[43mlocality_sensitive_hashing_workflow\u001b[49m\u001b[43m(\u001b[49m\u001b[43mrating_df\u001b[49m\u001b[43m,\u001b[49m\u001b[43m \u001b[49m\u001b[43mn_hashes\u001b[49m\u001b[38;5;241;43m=\u001b[39;49m\u001b[38;5;241;43m100\u001b[39;49m\u001b[43m,\u001b[49m\u001b[43m \u001b[49m\u001b[43mn_bands\u001b[49m\u001b[38;5;241;43m=\u001b[39;49m\u001b[38;5;241;43m20\u001b[39;49m\u001b[43m,\u001b[49m\u001b[43m \u001b[49m\u001b[43mtop_n\u001b[49m\u001b[38;5;241;43m=\u001b[39;49m\u001b[38;5;241;43m5\u001b[39;49m\u001b[43m)\u001b[49m\n",
      "File \u001b[0;32m~/Desktop/ADM-HM4-3/libs/LSH.py:119\u001b[0m, in \u001b[0;36mlocality_sensitive_hashing_workflow\u001b[0;34m(ratings, n_hashes, n_bands, top_n)\u001b[0m\n\u001b[1;32m    117\u001b[0m \u001b[38;5;28;01mfor\u001b[39;00m user_idx \u001b[38;5;129;01min\u001b[39;00m \u001b[38;5;28mrange\u001b[39m(\u001b[38;5;28mlen\u001b[39m(user_movies)):\n\u001b[1;32m    118\u001b[0m     \u001b[38;5;28mprint\u001b[39m(\u001b[38;5;124mf\u001b[39m\u001b[38;5;124m\"\u001b[39m\u001b[38;5;130;01m\\n\u001b[39;00m\u001b[38;5;124mGenerating recommendations for User \u001b[39m\u001b[38;5;132;01m{\u001b[39;00muser_idx\u001b[38;5;250m \u001b[39m\u001b[38;5;241m+\u001b[39m\u001b[38;5;250m \u001b[39m\u001b[38;5;241m1\u001b[39m\u001b[38;5;132;01m}\u001b[39;00m\u001b[38;5;124m...\u001b[39m\u001b[38;5;124m\"\u001b[39m)\n\u001b[0;32m--> 119\u001b[0m     recommended_movies \u001b[38;5;241m=\u001b[39m \u001b[43mrecommend_movies_lsh\u001b[49m\u001b[43m(\u001b[49m\n\u001b[1;32m    120\u001b[0m \u001b[43m        \u001b[49m\u001b[43mtarget_user_idx\u001b[49m\u001b[38;5;241;43m=\u001b[39;49m\u001b[43muser_idx\u001b[49m\u001b[43m,\u001b[49m\n\u001b[1;32m    121\u001b[0m \u001b[43m        \u001b[49m\u001b[43muser_movies\u001b[49m\u001b[38;5;241;43m=\u001b[39;49m\u001b[43muser_movies\u001b[49m\u001b[43m,\u001b[49m\n\u001b[1;32m    122\u001b[0m \u001b[43m        \u001b[49m\u001b[43mbuckets\u001b[49m\u001b[38;5;241;43m=\u001b[39;49m\u001b[43mbuckets\u001b[49m\u001b[43m,\u001b[49m\n\u001b[1;32m    123\u001b[0m \u001b[43m        \u001b[49m\u001b[43mratings\u001b[49m\u001b[38;5;241;43m=\u001b[39;49m\u001b[43mratings\u001b[49m\u001b[43m,\u001b[49m\n\u001b[1;32m    124\u001b[0m \u001b[43m        \u001b[49m\u001b[43mtop_n\u001b[49m\u001b[38;5;241;43m=\u001b[39;49m\u001b[43mtop_n\u001b[49m\u001b[43m,\u001b[49m\n\u001b[1;32m    125\u001b[0m \u001b[43m    \u001b[49m\u001b[43m)\u001b[49m\n\u001b[1;32m    126\u001b[0m     \u001b[38;5;28mprint\u001b[39m(\u001b[38;5;124mf\u001b[39m\u001b[38;5;124m\"\u001b[39m\u001b[38;5;124mRecommended movies for User \u001b[39m\u001b[38;5;132;01m{\u001b[39;00muser_idx\u001b[38;5;250m \u001b[39m\u001b[38;5;241m+\u001b[39m\u001b[38;5;250m \u001b[39m\u001b[38;5;241m1\u001b[39m\u001b[38;5;132;01m}\u001b[39;00m\u001b[38;5;124m: \u001b[39m\u001b[38;5;132;01m{\u001b[39;00mrecommended_movies\u001b[38;5;132;01m}\u001b[39;00m\u001b[38;5;124m\"\u001b[39m)\n",
      "File \u001b[0;32m~/Desktop/ADM-HM4-3/libs/LSH.py:92\u001b[0m, in \u001b[0;36mrecommend_movies_lsh\u001b[0;34m(target_user_idx, user_movies, buckets, ratings, top_n)\u001b[0m\n\u001b[1;32m     88\u001b[0m     \u001b[38;5;28mprint\u001b[39m(\u001b[38;5;124mf\u001b[39m\u001b[38;5;124m\"\u001b[39m\u001b[38;5;124mNo similar users found for User \u001b[39m\u001b[38;5;132;01m{\u001b[39;00mtarget_user_idx\u001b[38;5;250m \u001b[39m\u001b[38;5;241m+\u001b[39m\u001b[38;5;250m \u001b[39m\u001b[38;5;241m1\u001b[39m\u001b[38;5;132;01m}\u001b[39;00m\u001b[38;5;124m.\u001b[39m\u001b[38;5;124m\"\u001b[39m)\n\u001b[1;32m     89\u001b[0m     \u001b[38;5;28;01mreturn\u001b[39;00m []\n\u001b[1;32m     91\u001b[0m similar_users_movies \u001b[38;5;241m=\u001b[39m pd\u001b[38;5;241m.\u001b[39mDataFrame(\n\u001b[0;32m---> 92\u001b[0m     \u001b[43m[\u001b[49m\n\u001b[1;32m     93\u001b[0m \u001b[43m        \u001b[49m\u001b[43m(\u001b[49m\u001b[43muser\u001b[49m\u001b[43m,\u001b[49m\u001b[43m \u001b[49m\u001b[43mmovie\u001b[49m\u001b[43m,\u001b[49m\u001b[43m \u001b[49m\u001b[43mratings\u001b[49m\u001b[38;5;241;43m.\u001b[39;49m\u001b[43mloc\u001b[49m\u001b[43m[\u001b[49m\u001b[43m(\u001b[49m\u001b[43mratings\u001b[49m\u001b[43m[\u001b[49m\u001b[38;5;124;43m\"\u001b[39;49m\u001b[38;5;124;43muserId\u001b[39;49m\u001b[38;5;124;43m\"\u001b[39;49m\u001b[43m]\u001b[49m\u001b[43m \u001b[49m\u001b[38;5;241;43m==\u001b[39;49m\u001b[43m \u001b[49m\u001b[43muser\u001b[49m\u001b[43m \u001b[49m\u001b[38;5;241;43m+\u001b[39;49m\u001b[43m \u001b[49m\u001b[38;5;241;43m1\u001b[39;49m\u001b[43m)\u001b[49m\u001b[43m \u001b[49m\u001b[38;5;241;43m&\u001b[39;49m\u001b[43m \u001b[49m\u001b[43m(\u001b[49m\u001b[43mratings\u001b[49m\u001b[43m[\u001b[49m\u001b[38;5;124;43m\"\u001b[39;49m\u001b[38;5;124;43mmovieId\u001b[39;49m\u001b[38;5;124;43m\"\u001b[39;49m\u001b[43m]\u001b[49m\u001b[43m \u001b[49m\u001b[38;5;241;43m==\u001b[39;49m\u001b[43m \u001b[49m\u001b[43mmovie\u001b[49m\u001b[43m)\u001b[49m\u001b[43m,\u001b[49m\u001b[43m \u001b[49m\u001b[38;5;124;43m\"\u001b[39;49m\u001b[38;5;124;43mrating\u001b[39;49m\u001b[38;5;124;43m\"\u001b[39;49m\u001b[43m]\u001b[49m\u001b[38;5;241;43m.\u001b[39;49m\u001b[43mmean\u001b[49m\u001b[43m(\u001b[49m\u001b[43m)\u001b[49m\u001b[43m)\u001b[49m\n\u001b[1;32m     94\u001b[0m \u001b[43m        \u001b[49m\u001b[38;5;28;43;01mfor\u001b[39;49;00m\u001b[43m \u001b[49m\u001b[43muser\u001b[49m\u001b[43m \u001b[49m\u001b[38;5;129;43;01min\u001b[39;49;00m\u001b[43m \u001b[49m\u001b[43msimilar_users\u001b[49m\n\u001b[1;32m     95\u001b[0m \u001b[43m        \u001b[49m\u001b[38;5;28;43;01mfor\u001b[39;49;00m\u001b[43m \u001b[49m\u001b[43mmovie\u001b[49m\u001b[43m \u001b[49m\u001b[38;5;129;43;01min\u001b[39;49;00m\u001b[43m \u001b[49m\u001b[43muser_movies\u001b[49m\u001b[43m[\u001b[49m\u001b[43muser\u001b[49m\u001b[43m \u001b[49m\u001b[38;5;241;43m+\u001b[39;49m\u001b[43m \u001b[49m\u001b[38;5;241;43m1\u001b[39;49m\u001b[43m]\u001b[49m\n\u001b[1;32m     96\u001b[0m \u001b[43m    \u001b[49m\u001b[43m]\u001b[49m,\n\u001b[1;32m     97\u001b[0m     columns\u001b[38;5;241m=\u001b[39m[\u001b[38;5;124m\"\u001b[39m\u001b[38;5;124muserId\u001b[39m\u001b[38;5;124m\"\u001b[39m, \u001b[38;5;124m\"\u001b[39m\u001b[38;5;124mmovieId\u001b[39m\u001b[38;5;124m\"\u001b[39m, \u001b[38;5;124m\"\u001b[39m\u001b[38;5;124mavg_rating\u001b[39m\u001b[38;5;124m\"\u001b[39m]\n\u001b[1;32m     98\u001b[0m )\n\u001b[1;32m    100\u001b[0m similar_users_movies \u001b[38;5;241m=\u001b[39m similar_users_movies\u001b[38;5;241m.\u001b[39mgroupby(\u001b[38;5;124m\"\u001b[39m\u001b[38;5;124mmovieId\u001b[39m\u001b[38;5;124m\"\u001b[39m)[\u001b[38;5;124m\"\u001b[39m\u001b[38;5;124mavg_rating\u001b[39m\u001b[38;5;124m\"\u001b[39m]\u001b[38;5;241m.\u001b[39mmean()\u001b[38;5;241m.\u001b[39mreset_index()\n\u001b[1;32m    101\u001b[0m similar_users_movies \u001b[38;5;241m=\u001b[39m similar_users_movies\u001b[38;5;241m.\u001b[39msort_values(by\u001b[38;5;241m=\u001b[39m\u001b[38;5;124m\"\u001b[39m\u001b[38;5;124mavg_rating\u001b[39m\u001b[38;5;124m\"\u001b[39m, ascending\u001b[38;5;241m=\u001b[39m\u001b[38;5;28;01mFalse\u001b[39;00m)\n",
      "File \u001b[0;32m~/Desktop/ADM-HM4-3/libs/LSH.py:93\u001b[0m, in \u001b[0;36m<listcomp>\u001b[0;34m(.0)\u001b[0m\n\u001b[1;32m     88\u001b[0m     \u001b[38;5;28mprint\u001b[39m(\u001b[38;5;124mf\u001b[39m\u001b[38;5;124m\"\u001b[39m\u001b[38;5;124mNo similar users found for User \u001b[39m\u001b[38;5;132;01m{\u001b[39;00mtarget_user_idx\u001b[38;5;250m \u001b[39m\u001b[38;5;241m+\u001b[39m\u001b[38;5;250m \u001b[39m\u001b[38;5;241m1\u001b[39m\u001b[38;5;132;01m}\u001b[39;00m\u001b[38;5;124m.\u001b[39m\u001b[38;5;124m\"\u001b[39m)\n\u001b[1;32m     89\u001b[0m     \u001b[38;5;28;01mreturn\u001b[39;00m []\n\u001b[1;32m     91\u001b[0m similar_users_movies \u001b[38;5;241m=\u001b[39m pd\u001b[38;5;241m.\u001b[39mDataFrame(\n\u001b[1;32m     92\u001b[0m     [\n\u001b[0;32m---> 93\u001b[0m         (user, movie, ratings\u001b[38;5;241m.\u001b[39mloc[(ratings[\u001b[38;5;124m\"\u001b[39m\u001b[38;5;124muserId\u001b[39m\u001b[38;5;124m\"\u001b[39m] \u001b[38;5;241m==\u001b[39m user \u001b[38;5;241m+\u001b[39m \u001b[38;5;241m1\u001b[39m) \u001b[38;5;241m&\u001b[39m (\u001b[43mratings\u001b[49m\u001b[43m[\u001b[49m\u001b[38;5;124;43m\"\u001b[39;49m\u001b[38;5;124;43mmovieId\u001b[39;49m\u001b[38;5;124;43m\"\u001b[39;49m\u001b[43m]\u001b[49m\u001b[43m \u001b[49m\u001b[38;5;241;43m==\u001b[39;49m\u001b[43m \u001b[49m\u001b[43mmovie\u001b[49m), \u001b[38;5;124m\"\u001b[39m\u001b[38;5;124mrating\u001b[39m\u001b[38;5;124m\"\u001b[39m]\u001b[38;5;241m.\u001b[39mmean())\n\u001b[1;32m     94\u001b[0m         \u001b[38;5;28;01mfor\u001b[39;00m user \u001b[38;5;129;01min\u001b[39;00m similar_users\n\u001b[1;32m     95\u001b[0m         \u001b[38;5;28;01mfor\u001b[39;00m movie \u001b[38;5;129;01min\u001b[39;00m user_movies[user \u001b[38;5;241m+\u001b[39m \u001b[38;5;241m1\u001b[39m]\n\u001b[1;32m     96\u001b[0m     ],\n\u001b[1;32m     97\u001b[0m     columns\u001b[38;5;241m=\u001b[39m[\u001b[38;5;124m\"\u001b[39m\u001b[38;5;124muserId\u001b[39m\u001b[38;5;124m\"\u001b[39m, \u001b[38;5;124m\"\u001b[39m\u001b[38;5;124mmovieId\u001b[39m\u001b[38;5;124m\"\u001b[39m, \u001b[38;5;124m\"\u001b[39m\u001b[38;5;124mavg_rating\u001b[39m\u001b[38;5;124m\"\u001b[39m]\n\u001b[1;32m     98\u001b[0m )\n\u001b[1;32m    100\u001b[0m similar_users_movies \u001b[38;5;241m=\u001b[39m similar_users_movies\u001b[38;5;241m.\u001b[39mgroupby(\u001b[38;5;124m\"\u001b[39m\u001b[38;5;124mmovieId\u001b[39m\u001b[38;5;124m\"\u001b[39m)[\u001b[38;5;124m\"\u001b[39m\u001b[38;5;124mavg_rating\u001b[39m\u001b[38;5;124m\"\u001b[39m]\u001b[38;5;241m.\u001b[39mmean()\u001b[38;5;241m.\u001b[39mreset_index()\n\u001b[1;32m    101\u001b[0m similar_users_movies \u001b[38;5;241m=\u001b[39m similar_users_movies\u001b[38;5;241m.\u001b[39msort_values(by\u001b[38;5;241m=\u001b[39m\u001b[38;5;124m\"\u001b[39m\u001b[38;5;124mavg_rating\u001b[39m\u001b[38;5;124m\"\u001b[39m, ascending\u001b[38;5;241m=\u001b[39m\u001b[38;5;28;01mFalse\u001b[39;00m)\n",
      "File \u001b[0;32m~/.pyenv/versions/3.11.6/lib/python3.11/site-packages/pandas/core/ops/common.py:76\u001b[0m, in \u001b[0;36m_unpack_zerodim_and_defer.<locals>.new_method\u001b[0;34m(self, other)\u001b[0m\n\u001b[1;32m     72\u001b[0m             \u001b[38;5;28;01mreturn\u001b[39;00m \u001b[38;5;28mNotImplemented\u001b[39m\n\u001b[1;32m     74\u001b[0m other \u001b[38;5;241m=\u001b[39m item_from_zerodim(other)\n\u001b[0;32m---> 76\u001b[0m \u001b[38;5;28;01mreturn\u001b[39;00m \u001b[43mmethod\u001b[49m\u001b[43m(\u001b[49m\u001b[38;5;28;43mself\u001b[39;49m\u001b[43m,\u001b[49m\u001b[43m \u001b[49m\u001b[43mother\u001b[49m\u001b[43m)\u001b[49m\n",
      "File \u001b[0;32m~/.pyenv/versions/3.11.6/lib/python3.11/site-packages/pandas/core/arraylike.py:40\u001b[0m, in \u001b[0;36mOpsMixin.__eq__\u001b[0;34m(self, other)\u001b[0m\n\u001b[1;32m     38\u001b[0m \u001b[38;5;129m@unpack_zerodim_and_defer\u001b[39m(\u001b[38;5;124m\"\u001b[39m\u001b[38;5;124m__eq__\u001b[39m\u001b[38;5;124m\"\u001b[39m)\n\u001b[1;32m     39\u001b[0m \u001b[38;5;28;01mdef\u001b[39;00m \u001b[38;5;21m__eq__\u001b[39m(\u001b[38;5;28mself\u001b[39m, other):\n\u001b[0;32m---> 40\u001b[0m     \u001b[38;5;28;01mreturn\u001b[39;00m \u001b[38;5;28;43mself\u001b[39;49m\u001b[38;5;241;43m.\u001b[39;49m\u001b[43m_cmp_method\u001b[49m\u001b[43m(\u001b[49m\u001b[43mother\u001b[49m\u001b[43m,\u001b[49m\u001b[43m \u001b[49m\u001b[43moperator\u001b[49m\u001b[38;5;241;43m.\u001b[39;49m\u001b[43meq\u001b[49m\u001b[43m)\u001b[49m\n",
      "File \u001b[0;32m~/.pyenv/versions/3.11.6/lib/python3.11/site-packages/pandas/core/series.py:6119\u001b[0m, in \u001b[0;36mSeries._cmp_method\u001b[0;34m(self, other, op)\u001b[0m\n\u001b[1;32m   6116\u001b[0m lvalues \u001b[38;5;241m=\u001b[39m \u001b[38;5;28mself\u001b[39m\u001b[38;5;241m.\u001b[39m_values\n\u001b[1;32m   6117\u001b[0m rvalues \u001b[38;5;241m=\u001b[39m extract_array(other, extract_numpy\u001b[38;5;241m=\u001b[39m\u001b[38;5;28;01mTrue\u001b[39;00m, extract_range\u001b[38;5;241m=\u001b[39m\u001b[38;5;28;01mTrue\u001b[39;00m)\n\u001b[0;32m-> 6119\u001b[0m res_values \u001b[38;5;241m=\u001b[39m \u001b[43mops\u001b[49m\u001b[38;5;241;43m.\u001b[39;49m\u001b[43mcomparison_op\u001b[49m\u001b[43m(\u001b[49m\u001b[43mlvalues\u001b[49m\u001b[43m,\u001b[49m\u001b[43m \u001b[49m\u001b[43mrvalues\u001b[49m\u001b[43m,\u001b[49m\u001b[43m \u001b[49m\u001b[43mop\u001b[49m\u001b[43m)\u001b[49m\n\u001b[1;32m   6121\u001b[0m \u001b[38;5;28;01mreturn\u001b[39;00m \u001b[38;5;28mself\u001b[39m\u001b[38;5;241m.\u001b[39m_construct_result(res_values, name\u001b[38;5;241m=\u001b[39mres_name)\n",
      "File \u001b[0;32m~/.pyenv/versions/3.11.6/lib/python3.11/site-packages/pandas/core/ops/array_ops.py:347\u001b[0m, in \u001b[0;36mcomparison_op\u001b[0;34m(left, right, op)\u001b[0m\n\u001b[1;32m    344\u001b[0m     res_values \u001b[38;5;241m=\u001b[39m comp_method_OBJECT_ARRAY(op, lvalues, rvalues)\n\u001b[1;32m    346\u001b[0m \u001b[38;5;28;01melse\u001b[39;00m:\n\u001b[0;32m--> 347\u001b[0m     res_values \u001b[38;5;241m=\u001b[39m \u001b[43m_na_arithmetic_op\u001b[49m\u001b[43m(\u001b[49m\u001b[43mlvalues\u001b[49m\u001b[43m,\u001b[49m\u001b[43m \u001b[49m\u001b[43mrvalues\u001b[49m\u001b[43m,\u001b[49m\u001b[43m \u001b[49m\u001b[43mop\u001b[49m\u001b[43m,\u001b[49m\u001b[43m \u001b[49m\u001b[43mis_cmp\u001b[49m\u001b[38;5;241;43m=\u001b[39;49m\u001b[38;5;28;43;01mTrue\u001b[39;49;00m\u001b[43m)\u001b[49m\n\u001b[1;32m    349\u001b[0m \u001b[38;5;28;01mreturn\u001b[39;00m res_values\n",
      "File \u001b[0;32m~/.pyenv/versions/3.11.6/lib/python3.11/site-packages/pandas/core/ops/array_ops.py:218\u001b[0m, in \u001b[0;36m_na_arithmetic_op\u001b[0;34m(left, right, op, is_cmp)\u001b[0m\n\u001b[1;32m    215\u001b[0m     func \u001b[38;5;241m=\u001b[39m partial(expressions\u001b[38;5;241m.\u001b[39mevaluate, op)\n\u001b[1;32m    217\u001b[0m \u001b[38;5;28;01mtry\u001b[39;00m:\n\u001b[0;32m--> 218\u001b[0m     result \u001b[38;5;241m=\u001b[39m \u001b[43mfunc\u001b[49m\u001b[43m(\u001b[49m\u001b[43mleft\u001b[49m\u001b[43m,\u001b[49m\u001b[43m \u001b[49m\u001b[43mright\u001b[49m\u001b[43m)\u001b[49m\n\u001b[1;32m    219\u001b[0m \u001b[38;5;28;01mexcept\u001b[39;00m \u001b[38;5;167;01mTypeError\u001b[39;00m:\n\u001b[1;32m    220\u001b[0m     \u001b[38;5;28;01mif\u001b[39;00m \u001b[38;5;129;01mnot\u001b[39;00m is_cmp \u001b[38;5;129;01mand\u001b[39;00m (\n\u001b[1;32m    221\u001b[0m         left\u001b[38;5;241m.\u001b[39mdtype \u001b[38;5;241m==\u001b[39m \u001b[38;5;28mobject\u001b[39m \u001b[38;5;129;01mor\u001b[39;00m \u001b[38;5;28mgetattr\u001b[39m(right, \u001b[38;5;124m\"\u001b[39m\u001b[38;5;124mdtype\u001b[39m\u001b[38;5;124m\"\u001b[39m, \u001b[38;5;28;01mNone\u001b[39;00m) \u001b[38;5;241m==\u001b[39m \u001b[38;5;28mobject\u001b[39m\n\u001b[1;32m    222\u001b[0m     ):\n\u001b[0;32m   (...)\u001b[0m\n\u001b[1;32m    225\u001b[0m         \u001b[38;5;66;03m# Don't do this for comparisons, as that will handle complex numbers\u001b[39;00m\n\u001b[1;32m    226\u001b[0m         \u001b[38;5;66;03m#  incorrectly, see GH#32047\u001b[39;00m\n",
      "File \u001b[0;32m~/.pyenv/versions/3.11.6/lib/python3.11/site-packages/pandas/core/computation/expressions.py:242\u001b[0m, in \u001b[0;36mevaluate\u001b[0;34m(op, a, b, use_numexpr)\u001b[0m\n\u001b[1;32m    239\u001b[0m \u001b[38;5;28;01mif\u001b[39;00m op_str \u001b[38;5;129;01mis\u001b[39;00m \u001b[38;5;129;01mnot\u001b[39;00m \u001b[38;5;28;01mNone\u001b[39;00m:\n\u001b[1;32m    240\u001b[0m     \u001b[38;5;28;01mif\u001b[39;00m use_numexpr:\n\u001b[1;32m    241\u001b[0m         \u001b[38;5;66;03m# error: \"None\" not callable\u001b[39;00m\n\u001b[0;32m--> 242\u001b[0m         \u001b[38;5;28;01mreturn\u001b[39;00m \u001b[43m_evaluate\u001b[49m\u001b[43m(\u001b[49m\u001b[43mop\u001b[49m\u001b[43m,\u001b[49m\u001b[43m \u001b[49m\u001b[43mop_str\u001b[49m\u001b[43m,\u001b[49m\u001b[43m \u001b[49m\u001b[43ma\u001b[49m\u001b[43m,\u001b[49m\u001b[43m \u001b[49m\u001b[43mb\u001b[49m\u001b[43m)\u001b[49m  \u001b[38;5;66;03m# type: ignore[misc]\u001b[39;00m\n\u001b[1;32m    243\u001b[0m \u001b[38;5;28;01mreturn\u001b[39;00m _evaluate_standard(op, op_str, a, b)\n",
      "File \u001b[0;32m~/.pyenv/versions/3.11.6/lib/python3.11/site-packages/pandas/core/computation/expressions.py:73\u001b[0m, in \u001b[0;36m_evaluate_standard\u001b[0;34m(op, op_str, a, b)\u001b[0m\n\u001b[1;32m     71\u001b[0m \u001b[38;5;28;01mif\u001b[39;00m _TEST_MODE:\n\u001b[1;32m     72\u001b[0m     _store_test_result(\u001b[38;5;28;01mFalse\u001b[39;00m)\n\u001b[0;32m---> 73\u001b[0m \u001b[38;5;28;01mreturn\u001b[39;00m op(a, b)\n",
      "\u001b[0;31mKeyboardInterrupt\u001b[0m: "
     ]
    }
   ],
   "source": [
    "# Call the workflow\n",
    "locality_sensitive_hashing_workflow(rating_df, n_hashes=100, n_bands=20, top_n=5)"
   ]
  },
  {
   "cell_type": "code",
   "execution_count": null,
   "metadata": {},
   "outputs": [
    {
     "name": "stderr",
     "output_type": "stream",
     "text": [
      "                                                                                \r"
     ]
    },
    {
     "name": "stdout",
     "output_type": "stream",
     "text": [
      "\n",
      "Generating recommendations for User 1...\n"
     ]
    },
    {
     "name": "stderr",
     "output_type": "stream",
     "text": [
      "                                                                                \r"
     ]
    },
    {
     "name": "stdout",
     "output_type": "stream",
     "text": [
      "Recommended movies for User 1: [(610, np.float64(5.0)), (1127, np.float64(5.0)), (1199, np.float64(5.0)), (1625, np.float64(5.0)), (2150, np.float64(5.0))]\n",
      "\n",
      "=== Debug: LSH Buckets ===\n",
      "Band -6989061210368172304: Users: [26, 368, 481, 2156, 2366, 2778, 2923, 3211, 3936, 4583, 7283, 13967, 17904, 33431, 34435, 35995, 36108, 36655, 38707, 39487, 40253, 41510, 41653, 46708, 46759, 46784, 48308, 49692, 53344, 53467, 56769, 66751, 71468, 76367, 77064, 77972, 79002, 80538, 82730, 82799, 83307, 83414, 83654, 83732, 87714, 90476, 90818, 91922, 94292, 94788, 96843, 99034, 99873, 106300, 106738, 108182, 108835, 109420, 112044, 120002, 121855, 125211, 126365, 127214, 133160, 133208, 135154, 136008, 136432, 138296, 225, 444, 1586, 3940, 4203, 6924, 8186, 12298, 12797, 16369, 17447, 20768, 21585, 22756, 23025, 28126, 30498, 42080, 44723, 46919, 51390, 51497, 52899, 58757, 59570, 62037, 64287, 68774, 72980, 77269, 90276, 91871, 96079, 97478, 99724, 103307, 104574, 105678, 105696, 107418, 108024, 108236, 111030, 111479, 112856, 113023, 115685, 118822, 119709, 120489, 125394, 131339, 142, 5959, 9725, 9776, 10396, 11616, 16014, 16622, 17186, 19027, 24333, 27185, 27765, 28232, 29309, 32121, 36964, 42678, 44488, 45363, 47005, 47339, 49113, 54174, 61376, 62120, 63076, 64700, 65152, 65899, 76296, 80102, 83093, 87876, 91395, 95430, 99108, 99663, 101258, 102526, 105107, 105460, 112400, 124596, 125309, 125449, 130953, 134388, 135109, 2964, 4419, 7108, 10493, 17760, 21294, 22768, 26805, 27381, 31520, 34859, 36942, 38654, 40347, 46249, 47538, 51443, 53673, 58364, 61284, 62175, 65336, 65923, 66212, 66659, 68524, 73723, 74206, 74996, 75129, 75866, 80331, 80467, 85006, 85280, 88284, 89040, 92544, 93442, 93628, 94313, 94327, 96089, 100946, 101346, 105538, 109401, 110152, 111527, 112128, 113178, 116155, 118475, 118737, 119230, 121295, 127629, 129503, 130345, 134329, 137988, 138253, 138395, 3066, 12905, 13405, 17499, 18086, 19727, 21611, 22324, 28164, 29429, 29642, 31135, 31139, 33637, 36426, 37752, 39569, 40660, 43947, 47204, 50352, 58420, 59616, 61724, 62918, 67665, 68847, 68971, 71370, 73728, 76456, 78800, 80047, 80051, 80552, 83451, 84253, 84630, 86195, 89488, 89943, 91082, 91320, 91360, 97369, 98678, 101997, 103322, 105769, 111287, 112471, 113296, 114178, 116405, 119922, 127369, 128015, 130581, 8, 1498, 4840, 5603, 7380, 14601, 15422, 20110, 21943, 23172, 26571, 29050, 33115, 36478, 37909, 37932, 41926, 42267, 42494, 46535, 46868, 47338, 53414, 54281, 56088, 56815, 58295, 58764, 58930, 59323, 60204, 64834, 67200, 68086, 71807, 73110, 74881, 75785, 80942, 83880, 85173, 89516, 90756, 92411, 92519, 95667, 97662, 97813, 98404, 100454, 104889, 113136, 114902, 115728, 116380, 116992, 118589, 118653, 118770, 120007, 126268, 129343, 132673, 135582, 136445, 795, 945, 2358, 7409, 7932, 8129, 8232, 10782, 11576, 11649, 16710, 18476, 19400, 20182, 20266, 23042, 24387, 25927, 27462, 30975, 31258, 32158, 36133, 36390, 41118, 41173, 48437, 48999, 49471, 51686, 54536, 60014, 60548, 61307, 69992, 70222, 71472, 73164, 75462, 80178, 80811, 80963, 84787, 85998, 87886, 91720, 92144, 97983, 98853, 99622, 101679, 102094, 109281, 110192, 110389, 111207, 112047, 112627, 113079, 113598, 114002, 116173, 118612, 120507, 120621, 120984, 123196, 135729, 136813, 2195, 4998, 5855, 8926, 9179, 11505, 11958, 11987, 16066, 19095, 20861, 23531, 23929, 30216, 32186, 38390, 41697, 44646, 55585, 56320, 57493, 60452, 64776, 65271, 68472, 70315, 72616, 74901, 80792, 87944, 90305, 90342, 91929, 93282, 95316, 99118, 101488, 104773, 105202, 106944, 110440, 111634, 112750, 112789, 114040, 115460, 115833, 118110, 119327, 120495, 122987, 123133, 129944, 133783, 133937, 138249, 2332, 2459, 3230, 8630, 9308, 10050, 14614, 20085, 21236, 21976, 24161, 25116, 31591, 32083, 38038, 38967, 39554, 42155, 42487, 45703, 45932, 46675, 48977, 49063, 49643, 51725, 51733, 58827, 63056, 67063, 69175, 71780, 72079, 79276, 82782, 84362, 85117, 86417, 89029, 91009, 91874, 94019, 95211, 98618, 98705, 100959, 114131, 119081, 119106, 120508, 121830, 122569, 127986, 130379, 132245, 135731, 1445, 4532, 6868, 7790, 10883, 11723, 12135, 15421, 16748, 18144, 18967, 19003, 22655, 23953, 27434, 30496, 31506, 33121, 35144, 36502, 37809, 39763, 41958, 44759, 46409, 48897, 55117, 57743, 60228, 61335, 62010, 67623, 68243, 68566, 69339, 71214, 78282, 79517, 80654, 81897, 82637, 88319, 92441, 92569, 95746, 99959, 100748, 101042, 102471, 102476, 103920, 105486, 106356, 106523, 106898, 107134, 107237, 107471, 108510, 108536, 110707, 111415, 111900, 118862, 120136, 121801, 126988, 128736, 128971, 130520, 135917, 8764, 10834, 22796, 25186, 27592, 32079, 37442, 43204, 58521, 80969, 81880, 85184, 91732, 100123, 105655, 110926, 112897, 118765, 119779, 121621, 128340, 128988, 132284]\n",
      "Band -5735215629304636200: Users: [26, 6658, 6820, 8779, 9714, 9900, 17389, 20223, 20573, 20731, 21675, 23493, 29220, 33431, 35995, 37409, 38627, 38707, 39300, 39761, 41653, 42373, 44379, 50359, 52662, 64800, 66332, 66980, 67500, 67762, 67782, 68784, 72675, 77493, 77637, 78645, 83402, 84936, 85332, 85351, 87714, 96706, 98112, 98896, 99873, 100379, 103876, 104971, 105014, 106738, 108182, 108515, 109402, 110232, 114628, 115580, 116770, 117408, 119499, 122717, 124443, 124755, 124974, 125466, 130576, 130642, 131764, 132974, 136906, 138407, 3940, 8260, 8723, 8826, 9138, 10668, 14375, 15689, 15938, 21585, 28001, 28701, 29609, 37373, 38601, 38941, 43222, 45639, 46576, 49148, 51390, 59678, 63813, 64829, 67619, 68769, 72057, 72980, 76678, 77517, 79338, 82242, 82344, 82542, 83928, 84171, 89389, 90276, 94338, 98643, 102023, 102898, 104404, 104843, 105122, 105234, 105678, 108053, 108463, 109305, 110170, 111012, 111479, 113023, 116269, 124276, 128764, 128921, 130907, 130947, 131065, 134902, 135143, 138337, 660, 5959, 7343, 9776, 10396, 10639, 11212, 11662, 14603, 16719, 17634, 18428, 19187, 20484, 21138, 22471, 24305, 24333, 28980, 30155, 32147, 36080, 36186, 37787, 39399, 44488, 47794, 51858, 56787, 57320, 58843, 62553, 62729, 67548, 67972, 72768, 73011, 74684, 78513, 79987, 81319, 84144, 87230, 88020, 89732, 92278, 94730, 95041, 96983, 98267, 99875, 101078, 101428, 102251, 104398, 105269, 110709, 112511, 114896, 117391, 121330, 123302, 124560, 125195, 126692, 127246, 130308, 132700, 134908, 135329, 137085, 3049, 4852, 7006, 7072, 7309, 12675, 16856, 20660, 22401, 23269, 23393, 28558, 29588, 33856, 35826, 38363, 46627, 48168, 53378, 57788, 58033, 61326, 61511, 63279, 64137, 65923, 77625, 77921, 88609, 89325, 90598, 93480, 94327, 94499, 95388, 100507, 100819, 100946, 101448, 105195, 107617, 109401, 109998, 110152, 111480, 112564, 113178, 118404, 119230, 119638, 120323, 121730, 125445, 127720, 129503, 130077, 134329, 134798, 135502, 135941, 1725, 4211, 6641, 9627, 12065, 13963, 17499, 18134, 19524, 20994, 28876, 29429, 29684, 32722, 32846, 33668, 41873, 42484, 50503, 52658, 53055, 55334, 58197, 60180, 63946, 72493, 73728, 74953, 78245, 79694, 80051, 80489, 88732, 91360, 91464, 94661, 96431, 96791, 97369, 98602, 101959, 104842, 104867, 108807, 110994, 111256, 118769, 121167, 126455, 128587, 130821, 134147, 135647, 137063, 1661, 8068, 13105, 16827, 18023, 23879, 24296, 24373, 24807, 26984, 33115, 34553, 34751, 36718, 37922, 42494, 42731, 42952, 45528, 45897, 56839, 58106, 58174, 58295, 58632, 62358, 62640, 64529, 66612, 68185, 69328, 74529, 74881, 77371, 79605, 79837, 82007, 87044, 88910, 89173, 89855, 92411, 95567, 96653, 97399, 98404, 106315, 111410, 111749, 112465, 114893, 116914, 116992, 119509, 120860, 122042, 122186, 132673, 134309, 136445, 1647, 2129, 5473, 7409, 8129, 8960, 11688, 15392, 19111, 20499, 24968, 25522, 25697, 25927, 26254, 29444, 30910, 32472, 32474, 33332, 33638, 34922, 36434, 37496, 38996, 39324, 39511, 39684, 44108, 45052, 48719, 51933, 54373, 54913, 55457, 56555, 62035, 62597, 62747, 70492, 71415, 73164, 75692, 79227, 83649, 86543, 87751, 88056, 90590, 92101, 95427, 97483, 97983, 99622, 99659, 101138, 103160, 105441, 110192, 110900, 111182, 113079, 117805, 120507, 122990, 123177, 124480, 125117, 129365, 132243, 134040, 134900, 135013, 135995, 136248, 137416, 433, 2195, 4255, 8817, 17371, 20037, 22719, 28352, 32543, 37320, 38524, 41629, 42922, 45726, 47172, 53036, 60594, 64792, 65817, 66215, 68692, 73537, 74174, 78889, 78997, 79554, 79923, 80709, 82121, 84159, 87355, 90305, 91929, 101454, 102715, 104448, 110121, 113951, 114463, 114522, 123133, 129944, 130536, 137339, 4895, 5687, 6580, 7256, 7373, 8346, 12897, 14320, 15804, 16841, 19427, 23673, 25289, 26368, 28854, 34606, 37521, 42402, 42887, 46675, 48977, 50757, 51552, 51733, 51872, 52126, 54237, 55426, 56411, 58827, 59290, 63661, 67741, 69446, 70365, 70607, 72920, 73281, 77550, 84120, 84362, 84928, 86880, 88367, 89084, 89885, 91332, 92012, 92123, 92126, 93785, 95347, 98638, 101019, 112815, 114131, 116219, 118171, 118525, 118842, 119106, 122569, 123082, 124036, 125691, 126849, 128024, 129304, 131922, 133612, 4207, 7790, 11486, 15225, 16927, 18206, 20209, 25782, 27167, 27716, 28028, 31464, 31506, 33888, 35144, 36502, 37189, 37584, 38307, 43701, 44759, 46229, 50380, 50799, 52827, 53838, 55117, 57005, 57902, 61335, 64030, 65095, 66462, 68898, 69797, 70475, 72970, 73971, 75078, 76852, 80563, 81613, 81897, 82637, 82942, 86421, 87131, 87711, 87819, 87979, 88254, 88921, 93188, 94261, 99936, 100636, 104268, 106523, 107863, 111040, 111247, 111767, 114357, 116750, 117147, 118030, 118748, 118862, 122248, 122375, 122776, 126833, 129468, 131552, 133678, 134672, 137284, 16662, 43776, 47151, 60541, 65921, 69179, 79252, 85348, 95831, 98637, 101351, 106901, 108603, 120106]\n",
      "Band -2210699466715176081: Users: [26]\n",
      "Band 9180746175002911807: Users: [26, 2923, 3936, 13967, 37409, 44102, 54010, 80923, 97956, 108515, 109402, 118800, 130576, 13552, 24823, 28001, 28955, 44116, 46919, 51390, 63741, 64644, 77928, 90049, 104404, 123765, 9776, 10396, 11212, 14079, 24333, 25044, 36186, 36964, 37787, 49827, 52397, 54411, 63313, 68125, 75202, 79394, 115583, 135329, 1181, 10493, 11587, 21995, 55828, 64982, 86495, 89325, 128474, 12905, 19911, 20962, 28164, 33710, 61253, 85111, 86848, 93170, 100179, 103656, 110156, 110649, 20918, 21810, 27002, 45002, 46535, 54677, 64834, 66612, 73906, 85173, 119544, 25927, 80683, 120984, 124361, 126690, 134040, 1792, 8856, 8926, 32543, 59099, 62316, 80039, 80709, 108921, 112539, 113455, 122210, 2459, 7586, 28812, 39276, 42402, 51689, 53676, 65506, 74667, 78146, 79276, 86880, 98638, 102545, 112815, 121648, 126450, 24365, 36502, 55117, 64030, 77299, 106523, 118862, 129849, 137730, 16250, 69179, 102325]\n",
      "Band 6217721644770244438: Users: [26, 8482, 31397, 21971, 124596, 2910, 27035, 56823, 73552, 128474, 134901, 103255, 4008, 49133, 82449, 54716, 101486, 64018]\n"
     ]
    }
   ],
   "source": [
    "# Limit recommendations to the top 5 movies by average rating\n",
    "recommended_movies = sorted(recommended_movies, key=lambda x: x[1], reverse=True)[:5]"
   ]
  }
 ],
 "metadata": {
  "kernelspec": {
   "display_name": "3.11.6",
   "language": "python",
   "name": "python3"
  },
  "language_info": {
   "codemirror_mode": {
    "name": "ipython",
    "version": 3
   },
   "file_extension": ".py",
   "mimetype": "text/x-python",
   "name": "python",
   "nbconvert_exporter": "python",
   "pygments_lexer": "ipython3",
   "version": "3.11.6"
  },
  "orig_nbformat": 4
 },
 "nbformat": 4,
 "nbformat_minor": 2
}
